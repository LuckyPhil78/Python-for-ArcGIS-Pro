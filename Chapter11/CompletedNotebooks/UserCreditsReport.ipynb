{
 "cells": [
  {
   "cell_type": "markdown",
   "metadata": {},
   "source": [
    "## Welcome to your notebook.\n"
   ]
  },
  {
   "cell_type": "markdown",
   "metadata": {},
   "source": [
    "#### Run this cell to connect to your GIS and get started:"
   ]
  },
  {
   "cell_type": "code",
   "execution_count": 11,
   "metadata": {
    "scrolled": true
   },
   "outputs": [],
   "source": [
    "import time, csv, os\n",
    "from arcgis.gis import GIS\n",
    "gis = GIS(\"home\")"
   ]
  },
  {
   "cell_type": "code",
   "execution_count": 12,
   "metadata": {},
   "outputs": [],
   "source": [
    "def createCSV(data, csvName, mode = 'w'):\n",
    "    with open(csvName, mode, newline = '') as csvfile:\n",
    "        csvwriter = csv.writer(csvfile)\n",
    "        csvwriter.writerow(data)"
   ]
  },
  {
   "cell_type": "code",
   "execution_count": 13,
   "metadata": {},
   "outputs": [],
   "source": [
    "csvPath = r'C:\\PythonBook\\Chapter11'\n",
    "csvHeaders = [\n",
    "    'itemId', 'itemName', 'itemSize_MB', 'lastModified', \n",
    "    'NumberOfViews', 'LastViewDate'\n",
    "]"
   ]
  },
  {
   "cell_type": "code",
   "execution_count": 28,
   "metadata": {},
   "outputs": [],
   "source": [
    "def userStorage(items):\n",
    "    for item in items:\n",
    "        itemId = item.id\n",
    "        print(itemId)\n",
    "        itemName = item.title\n",
    "        print(itemName)\n",
    "        print(item.size)\n",
    "        itemSize = round(item.size/1000000,3)\n",
    "        print(itemSize)\n",
    "        lastMod = time.localtime(int(item.modified)/1000)\n",
    "        lastModDate = '{0}/{1}/{2}'.format(\n",
    "            lastMod[1], lastMod[2], lastMod[0])\n",
    "        print(lastModDate)\n",
    "        itemType = item.type\n",
    "        print(itemType)    \n",
    "        numbViews = item.numViews\n",
    "        print(numbViews)\n",
    "        itemUsage = item.usage('6M',False)\n",
    "        print(itemUsage)\n",
    "        viewDate = 0\n",
    "        for usage in itemUsage:\n",
    "            if len(usage['data']) > 0:\n",
    "                #print(usage['data'])\n",
    "                listNumViews = usage['data'][0]['num']\n",
    "                #print(listNumViews)\n",
    "                for views in listNumViews:\n",
    "                    #print(views)\n",
    "                    if int(views[1]) > 0:\n",
    "                        print(views)\n",
    "                        newViewDate = int(views[0])\n",
    "                        if newViewDate > viewDate:\n",
    "                            viewDate=newViewDate\n",
    "\n",
    "        lastView = time.localtime(viewDate/1000)\n",
    "        lastViewDate = '{0}/{1}/{2}'.format(lastView[1],lastView[2],lastView[0])\n",
    "        print(lastViewDate)\n",
    "        itemList = [\n",
    "            itemId, itemName, itemSize, lastModDate, numbViews, \n",
    "            lastViewDate, itemType\n",
    "        ]\n",
    "        createCSV(itemList, csvFull, mode = 'a')"
   ]
  },
  {
   "cell_type": "code",
   "execution_count": 29,
   "metadata": {
    "scrolled": true
   },
   "outputs": [
    {
     "name": "stdout",
     "output_type": "stream",
     "text": [
      "<User username:billparkermapping>\n",
      "Bill Parker\n",
      "6c7d00d2be7844f49a75b2780992299d\n",
      "Farmers Markets\n",
      "674b4c2835984d2da04ec22b57a8e116\n",
      "AdditionalAlamedaFarmersMarket_Test2\n",
      "109ea42b13e74e758d92ab65e388e8ed\n",
      "AdditionalAlamedaFarmersMarket_Test2\n",
      "d8dbf13b9bce4f1e9c3d8d346e295ac3\n",
      "Farmers Markets in Alameda County 3\n",
      "267bb8b8f1d4403abcd9cd22e9617e92\n",
      "Farmers Markets in Alameda County\n",
      "d360303989ca4527b1f9e2f1750aac89\n",
      "AlamedaContraCostaBlockGroupBus_FarmersMarket\n",
      "d65243d3a8fa475aa16ac163336615bd\n",
      "AlamedaContraCostaBlockGroupBus_FarmersMarket\n",
      "7\n",
      "AlamedaFarmersMarkets\n",
      "3\n",
      "360767a4ec464306820442a10bb0d39b\n",
      "Farmers Markets in Alameda County\n",
      "b34eb9e8d5354228924326b75c8f1214\n",
      "Farmers Markets in Alameda County\n",
      "65a62bf64f864d418ee96126014757a2\n",
      "Alameda County Farmers Market - Map\n",
      "Survey-Alameda County Farmers Market\n",
      "4\n",
      "85b524e1efac48a6bf3d96a8bfb07022\n",
      "Alameda County Farmers Market\n",
      "c725bab3c8584a4081be11bf5ccc3e4f\n",
      "Alameda County Farmers Market\n",
      "d11d39ac5ee141d8a649a3098cc8039a\n",
      "Alameda County Farmers Market_fieldworker\n",
      "15478346101f43548714e12b69278f17\n",
      "Alameda County Farmers Market_stakeholder\n"
     ]
    }
   ],
   "source": [
    "users = gis.users.search(query='username:billparkermapping')\n",
    "for user in users:\n",
    "    print(user)\n",
    "    userFullName = user.fullName\n",
    "    userName = user.username\n",
    "    print(userFullName)\n",
    "    #print(userName)\n",
    "    items = user.items(max_items=10000)\n",
    "    csvFull = os.path.join(\n",
    "        csvPath,'{0}_data.csv'.format(\n",
    "            user.username.replace('.','_')\n",
    "        )\n",
    "    )\n",
    "    createCSV(csvHeaders, csvFull, mode = 'w')\n",
    "    userStorage(items)\n",
    "    print(len(items))\n",
    "    folders = user.folders\n",
    "    for folder in folders:\n",
    "        print(folder['title'])\n",
    "        folder_items = user.items(\n",
    "            folder=folder, max_items=10000)\n",
    "        print(len(folder_items))\n",
    "        userStorage(folder_items)\n",
    "    "
   ]
  },
  {
   "cell_type": "code",
   "execution_count": null,
   "metadata": {},
   "outputs": [],
   "source": []
  }
 ],
 "metadata": {
  "esriNotebookRuntime": {
   "notebookRuntimeName": "ArcGIS Notebook Python 3 Standard",
   "notebookRuntimeVersion": "5.0"
  },
  "kernelspec": {
   "display_name": "ArcGISPro",
   "language": "Python",
   "name": "python3"
  },
  "language_info": {
   "file_extension": ".py",
   "name": "python",
   "version": "3"
  }
 },
 "nbformat": 4,
 "nbformat_minor": 2
}
