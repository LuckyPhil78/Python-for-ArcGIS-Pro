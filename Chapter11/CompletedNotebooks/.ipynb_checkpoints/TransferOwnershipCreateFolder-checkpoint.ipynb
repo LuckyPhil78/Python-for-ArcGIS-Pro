{
 "cells": [
  {
   "cell_type": "code",
   "execution_count": null,
   "metadata": {},
   "outputs": [],
   "source": [
    "from arcgis.gis import *\n",
    "from IPython.display import display\n",
    "gis = GIS(\"home\")"
   ]
  },
  {
   "cell_type": "code",
   "execution_count": null,
   "metadata": {},
   "outputs": [],
   "source": [
    "oldUserName = \"oldUserName\"\n",
    "newUserName = \"newUserName\""
   ]
  },
  {
   "cell_type": "code",
   "execution_count": null,
   "metadata": {},
   "outputs": [],
   "source": [
    "folderName = \"Folder From Old User\""
   ]
  },
  {
   "cell_type": "code",
   "execution_count": null,
   "metadata": {},
   "outputs": [],
   "source": [
    "oldUser = gis.users.get(oldUserName)\n",
    "newUser = gis.users.get(newUserName)"
   ]
  },
  {
   "cell_type": "code",
   "execution_count": null,
   "metadata": {},
   "outputs": [],
   "source": [
    "display(oldUser)"
   ]
  },
  {
   "cell_type": "code",
   "execution_count": null,
   "metadata": {},
   "outputs": [],
   "source": [
    "display(newUser)\n",
    "folders = oldUser.folders"
   ]
  },
  {
   "cell_type": "code",
   "execution_count": null,
   "metadata": {},
   "outputs": [],
   "source": [
    "for folder in folders:\n",
    "    if folder[\"title\"] == folderName:\n",
    "        print(folder[\"title\"])\n",
    "        folderItems = oldUser.items(folder=folderName)\n",
    "        for item in folderItems:\n",
    "            print(item.name)\n",
    "            print(item.type)\n",
    "            print(item.properties)\n",
    "            print(item)\n",
    "            print(\"-----\")"
   ]
  },
  {
   "cell_type": "code",
   "execution_count": null,
   "metadata": {},
   "outputs": [],
   "source": [
    "for folder in folders:\n",
    "    print(folder[\"title\"])\n",
    "    if folder[\"title\"] == folderName:\n",
    "        newUserFoldersDict = newUser.folders\n",
    "        newUserFolders = []\n",
    "        for f in newUserFoldersDict:\n",
    "            newUserFolders.append(str(f[\"title\"]))\n",
    "        folderItems = oldUser.items(folder=folderName)\n",
    "        if folderName not in newUserFolders:\n",
    "            gis.content.create_folder(folderName,newUserName)\n",
    "        serviceDef = []\n",
    "        otherItems = []\n",
    "        replgdb = []\n",
    "        for item in folderItems:\n",
    "            print(item.name)\n",
    "            print(item.type)\n",
    "            if item.type == \"Map Area\":\n",
    "                print(\"deleting map area\")\n",
    "                item.delete()\n",
    "            elif item.type == \"Service Definition\":\n",
    "                serviceDef.append(item)\n",
    "            elif item.type == \"SQLite Geodatabase\":\n",
    "                replgdb.append(item)\n",
    "            else:\n",
    "                otherItems.append(item)\n",
    "        print(\"---Moving replicag gdbs (needed for offiline work)---\")\n",
    "        for item in replgdb:\n",
    "            print(\"Moving {0}\".format(item[\"title\"]))\n",
    "            item.reassign_to(newUserName, target_folder=folderName)\n",
    "        print(\"---Moving all other non service defintions---\")\n",
    "        for item in otherItems:\n",
    "            print(\"Moving {0}\".format(item[\"title\"]))\n",
    "            item.reassign_to(newUserName, target_folder=folderName)\n",
    "        print(\"---Moving service defintions---\")\n",
    "        for item in serviceDef:\n",
    "            if item[\"title\"] not in otherItems[\"title\"]:\n",
    "                print(\"Moving {0}\".format(item[\"title\"]))\n",
    "                item.reassign_to(newUserName, target_folder=folderName)"
   ]
  }
 ],
 "metadata": {
  "kernelspec": {
   "display_name": "ArcGISPro",
   "language": "Python",
   "name": "python3"
  },
  "language_info": {
   "file_extension": ".py",
   "name": "python",
   "version": "3"
  }
 },
 "nbformat": 4,
 "nbformat_minor": 2
}
