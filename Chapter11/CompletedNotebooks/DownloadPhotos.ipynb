{
 "cells": [
  {
   "cell_type": "code",
   "execution_count": 61,
   "metadata": {},
   "outputs": [],
   "source": [
    "from arcgis.gis import GIS\n",
    "import os\n",
    "from IPython.display import display\n",
    "gis = GIS()"
   ]
  },
  {
   "cell_type": "code",
   "execution_count": 62,
   "metadata": {},
   "outputs": [],
   "source": [
    "folderLoc = r\"C:\\PythonBook\\Chapter11\""
   ]
  },
  {
   "cell_type": "code",
   "execution_count": 63,
   "metadata": {},
   "outputs": [
    {
     "name": "stdout",
     "output_type": "stream",
     "text": [
      "[<Item title:\"Alameda County Farmers Market_fieldworker\" type:Feature Layer Collection owner:billparkermapping>]\n",
      "1\n"
     ]
    }
   ],
   "source": [
    "fmSurveySearch = gis.content.search(\n",
    "    query='title:Alameda County Farmers Market & owner:billparkermapping',\n",
    "    item_type=\"Feature Layer\"\n",
    ")\n",
    "print(fmSurveySearch)\n",
    "print(len(fmSurveySearch))"
   ]
  },
  {
   "cell_type": "code",
   "execution_count": 64,
   "metadata": {
    "scrolled": false
   },
   "outputs": [
    {
     "data": {
      "text/html": [
       "<div class=\"item_container\" style=\"height: auto; overflow: hidden; border: 1px solid #cfcfcf; border-radius: 2px; background: #f6fafa; line-height: 1.21429em; padding: 10px;\">\n",
       "                    <div class=\"item_left\" style=\"width: 210px; float: left;\">\n",
       "                       <a href='https://www.arcgis.com/home/item.html?id=d11d39ac5ee141d8a649a3098cc8039a' target='_blank'>\n",
       "                        <img src='https://www.arcgis.com/sharing/rest//content/items/d11d39ac5ee141d8a649a3098cc8039a/info/thumbnail/ago_downloaded.png' class=\"itemThumbnail\">\n",
       "                       </a>\n",
       "                    </div>\n",
       "\n",
       "                    <div class=\"item_right\"     style=\"float: none; width: auto; overflow: hidden;\">\n",
       "                        <a href='https://www.arcgis.com/home/item.html?id=d11d39ac5ee141d8a649a3098cc8039a' target='_blank'><b>Alameda County Farmers Market_fieldworker</b>\n",
       "                        </a>\n",
       "                        <br/><img src='https://www.arcgis.com/home/js/jsapi/esri/css/images/item_type_icons/featureshosted16.png' style=\"vertical-align:middle;\">Feature Layer Collection by billparkermapping\n",
       "                        <br/>Last Modified: August 09, 2021\n",
       "                        <br/>0 comments, 12 views\n",
       "                    </div>\n",
       "                </div>\n",
       "                "
      ],
      "text/plain": [
       "<Item title:\"Alameda County Farmers Market_fieldworker\" type:Feature Layer Collection owner:billparkermapping>"
      ]
     },
     "metadata": {},
     "output_type": "display_data"
    }
   ],
   "source": [
    "fmSurvey = fmSurveySearch[0]\n",
    "display(fmSurvey)"
   ]
  },
  {
   "cell_type": "code",
   "execution_count": 65,
   "metadata": {},
   "outputs": [
    {
     "data": {
      "text/plain": [
       "<FeatureLayer url:\"https://services3.arcgis.com/HReqYJDJNUe3sQwB/arcgis/rest/services/survey123_85b524e1efac48a6bf3d96a8bfb07022_fieldworker/FeatureServer/0\">"
      ]
     },
     "metadata": {},
     "output_type": "display_data"
    }
   ],
   "source": [
    "for lyr in fmSurvey.layers:\n",
    "    display(lyr)"
   ]
  },
  {
   "cell_type": "code",
   "execution_count": 66,
   "metadata": {},
   "outputs": [
    {
     "data": {
      "text/plain": [
       "<FeatureLayer url:\"https://services3.arcgis.com/HReqYJDJNUe3sQwB/arcgis/rest/services/survey123_85b524e1efac48a6bf3d96a8bfb07022_fieldworker/FeatureServer/0\">"
      ]
     },
     "execution_count": 66,
     "metadata": {},
     "output_type": "execute_result"
    }
   ],
   "source": [
    "fmSurveyLyr = fmSurvey.layers[0]\n",
    "fmSurveyLyr"
   ]
  },
  {
   "cell_type": "code",
   "execution_count": 662,
   "metadata": {},
   "outputs": [],
   "source": [
    "lyrName = fmSurveyLyr.properties.name\n",
    "PhotoPath = os.path.join(folderLoc,lyrName+\"_Photos\")\n",
    "if not os.path.exists(PhotoPath):\n",
    "    os.makedirs(PhotoPath)"
   ]
  },
  {
   "cell_type": "code",
   "execution_count": 671,
   "metadata": {},
   "outputs": [
    {
     "data": {
      "text/plain": [
       "True"
      ]
     },
     "execution_count": 671,
     "metadata": {},
     "output_type": "execute_result"
    }
   ],
   "source": [
    "fmSurveyLyr.properties.hasAttachments"
   ]
  },
  {
   "cell_type": "code",
   "execution_count": 673,
   "metadata": {
    "scrolled": true
   },
   "outputs": [
    {
     "data": {
      "text/plain": [
       "'Create,Query,Editing,Sync'"
      ]
     },
     "execution_count": 673,
     "metadata": {},
     "output_type": "execute_result"
    }
   ],
   "source": [
    "fmSurveyLyr.properties.capabilities"
   ]
  },
  {
   "cell_type": "code",
   "execution_count": 664,
   "metadata": {},
   "outputs": [
    {
     "name": "stdout",
     "output_type": "stream",
     "text": [
      "objectid\n",
      "globalid\n",
      "CreationDate\n",
      "Creator\n",
      "EditDate\n",
      "Editor\n",
      "market_visited\n",
      "date_of_visit\n",
      "stand_visited\n",
      "purchased\n",
      "purchased_other\n"
     ]
    }
   ],
   "source": [
    "for field in fmSurveyLyr.properties.fields:\n",
    "    print(field[\"name\"])"
   ]
  },
  {
   "cell_type": "code",
   "execution_count": 665,
   "metadata": {},
   "outputs": [],
   "source": [
    "nameField1 = \"market_visited\"\n",
    "nameField2 = \"stand_visited\""
   ]
  },
  {
   "cell_type": "code",
   "execution_count": 675,
   "metadata": {},
   "outputs": [
    {
     "name": "stdout",
     "output_type": "stream",
     "text": [
      "{'objectIdFieldName': 'objectid', 'objectIds': [1, 2, 3, 4]}\n",
      "[1, 2, 3, 4]\n"
     ]
    }
   ],
   "source": [
    "objIds = fmSurveyLyr.query(return_ids_only = True)\n",
    "print(objIds)\n",
    "listObjIds = objIds[\"objectIds\"]\n",
    "print(listObjIds)"
   ]
  },
  {
   "cell_type": "code",
   "execution_count": 676,
   "metadata": {},
   "outputs": [
    {
     "name": "stdout",
     "output_type": "stream",
     "text": [
      "[{'id': 1, 'globalId': '22a7b523-03a3-423a-9a92-9984fd093fb5', 'parentGlobalId': '143d832f-faf4-4fbe-9943-a4459ec081ee', 'name': 'stand_picture-20210727-212156.jpg', 'contentType': 'image/jpeg', 'size': 804201, 'keywords': 'stand_picture', 'exifInfo': None}, {'id': 2, 'globalId': '0580dc2a-d45e-41af-910a-f4b840efea8c', 'parentGlobalId': '143d832f-faf4-4fbe-9943-a4459ec081ee', 'name': 'stand_picture-20210727-212207.jpg', 'contentType': 'image/jpeg', 'size': 973045, 'keywords': 'stand_picture', 'exifInfo': None}]\n",
      "South_Berkeley\n",
      "blossom_bluff\n",
      "stand_picture-20210727-212156.jpg\n",
      "1\n",
      "stand_picture-20210727-212207.jpg\n",
      "2\n",
      "[{'id': 3, 'globalId': '3cb3bab8-9175-439b-8971-2c1d3a34b56c', 'parentGlobalId': '16cc2b87-7355-4e6e-b156-10595f9a65dd', 'name': 'stand_picture-20210727-212432.jpg', 'contentType': 'image/jpeg', 'size': 908695, 'keywords': 'stand_picture', 'exifInfo': None}]\n",
      "South_Berkeley\n",
      "kashiwase_farms\n",
      "stand_picture-20210727-212432.jpg\n",
      "3\n",
      "[{'id': 4, 'globalId': '82520411-651a-4cf9-b1b8-270ecd9ded5a', 'parentGlobalId': 'e65aedc4-0808-4dc8-a851-a828a8c003ef', 'name': 'stand_picture-20210727-212535.jpg', 'contentType': 'image/jpeg', 'size': 1429238, 'keywords': 'stand_picture', 'exifInfo': None}]\n",
      "South_Berkeley\n",
      "Avalos_Farms\n",
      "stand_picture-20210727-212535.jpg\n",
      "4\n",
      "[{'id': 5, 'globalId': '31cb32b3-c0c6-4eef-8753-7305c56e9708', 'parentGlobalId': 'fea9ee57-74ac-44bc-ba38-232b1e31131e', 'name': 'stand_picture-20210727-212620.jpg', 'contentType': 'image/jpeg', 'size': 1030032, 'keywords': 'stand_picture', 'exifInfo': None}]\n",
      "South_Berkeley\n",
      "River_Dog\n",
      "stand_picture-20210727-212620.jpg\n",
      "5\n"
     ]
    }
   ],
   "source": [
    "for objID in listObjIds: \n",
    "    objAtt = lyr.attachments.get_list(oid=objID)\n",
    "    print(objAtt)\n",
    "    sql = \"OBJECTID = {}\".format(objID)\n",
    "    lyrQuery = fmSurveyLyr.query(where = sql, out_fields=\"*\")\n",
    "    lyrQueryFeatures = lyrQuery.features\n",
    "    name1 = lyrQueryFeatures[0].attributes[\"{0}\".format(nameField1)].replace(\" \",\"_\")\n",
    "    print(name1)\n",
    "    name2 = lyrQueryFeatures[0].attributes[\"{0}\".format(nameField2)].replace(\" \",\"_\")\n",
    "    print(name2)\n",
    "        \n",
    "        \n",
    "    for k in range(len(objAtt)):\n",
    "        attachmentName = objAtt[k][\"name\"]\n",
    "        print(attachmentName)\n",
    "        attachmentID = objAtt[k][\"id\"]\n",
    "        print(attachmentID)\n",
    "        pic = lyr.attachments.download(\n",
    "            oid=objID,attachment_id=attachmentID, save_path=PhotoPath\n",
    "        )\n",
    "        newName = os.path.join(PhotoPath,lyrName+\"_\"+str(name1)+\"_\"+str(name2)+\"_\"+str(attachmentID)+\".jpg\")\n",
    "        os.rename(pic[0],newName)"
   ]
  },
  {
   "cell_type": "code",
   "execution_count": null,
   "metadata": {},
   "outputs": [],
   "source": []
  }
 ],
 "metadata": {
  "kernelspec": {
   "display_name": "ArcGISPro",
   "language": "Python",
   "name": "python3"
  },
  "language_info": {
   "file_extension": ".py",
   "name": "python",
   "version": "3"
  }
 },
 "nbformat": 4,
 "nbformat_minor": 2
}
