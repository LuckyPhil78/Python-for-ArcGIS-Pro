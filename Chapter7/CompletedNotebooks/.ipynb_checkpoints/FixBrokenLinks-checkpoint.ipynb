{
 "cells": [
  {
   "cell_type": "code",
   "execution_count": 1,
   "metadata": {},
   "outputs": [],
   "source": [
    "mapName = \"Map\""
   ]
  },
  {
   "cell_type": "code",
   "execution_count": 2,
   "metadata": {},
   "outputs": [],
   "source": [
    "newLinkPath =  r\"C:\\PythonBook\\Chapter7\\TransitData.gdb\""
   ]
  },
  {
   "cell_type": "code",
   "execution_count": 3,
   "metadata": {
    "scrolled": true
   },
   "outputs": [
    {
     "name": "stdout",
     "output_type": "stream",
     "text": [
      "[<arcpy._mp.Layer object at 0x0000021C92A466C8>, <arcpy._mp.Layer object at 0x0000021C92A46708>, <arcpy._mp.Layer object at 0x0000021C92A46748>, <arcpy._mp.Layer object at 0x0000021C92A46788>, <arcpy._mp.Layer object at 0x0000021C92A46588>, <arcpy._mp.Layer object at 0x0000021C92A467C8>]\n",
      "OaklandFVeg\n",
      "False\n",
      "---------\n",
      "UniqueStops_Summer21\n",
      "True\n",
      "---------\n",
      "Summer21RouteShape\n",
      "True\n",
      "---------\n",
      "AlamedaCounty_RaceHispanic_Tract\n",
      "False\n",
      "---------\n",
      "World Topographic Map\n",
      "False\n",
      "---------\n",
      "World Hillshade\n",
      "False\n",
      "---------\n"
     ]
    }
   ],
   "source": [
    "project = arcpy.mp.ArcGISProject(\"CURRENT\")\n",
    "m = project.listMaps(mapName)[0]\n",
    "layers = m.listLayers()\n",
    "print(layers)\n",
    "for layer in layers:\n",
    "    print(layer.name)\n",
    "    print (layer.isBroken)\n",
    "    print(\"---------\")"
   ]
  },
  {
   "cell_type": "code",
   "execution_count": 19,
   "metadata": {
    "scrolled": false
   },
   "outputs": [
    {
     "name": "stdout",
     "output_type": "stream",
     "text": [
      "UniqueStops_Summer21\n",
      "{'dataset': 'UniqueStops_Summer21', 'workspace_factory': 'File Geodatabase', 'connection_info': {'database': 'C:\\\\PythonBook\\\\TranistData\\\\TransitLibrary.gdb'}}\n",
      "Summer21RouteShape\n",
      "{'dataset': 'Summer21RouteShape', 'workspace_factory': 'File Geodatabase', 'connection_info': {'database': 'C:\\\\PythonBook\\\\TranistData\\\\TransitLibrary.gdb'}}\n"
     ]
    }
   ],
   "source": [
    "for layer in layers:\n",
    "    if layer.isBroken is True:\n",
    "        print(layer.name)\n",
    "        print(layer.connectionProperties)"
   ]
  },
  {
   "cell_type": "code",
   "execution_count": 22,
   "metadata": {},
   "outputs": [
    {
     "name": "stdout",
     "output_type": "stream",
     "text": [
      "UniqueStops_Summer21\n",
      "{'dataset': 'UniqueStops_Summer21', 'workspace_factory': 'File Geodatabase', 'connection_info': {'database': 'C:\\\\PythonBook\\\\TranistData\\\\TransitLibrary.gdb'}}\n",
      "{'dataset': 'UniqueStops_Summer21', 'workspace_factory': 'File Geodatabase', 'connection_info': {'database': 'C:\\\\PythonBook\\\\Chapter7_Start\\\\TransitData.gdb'}}\n",
      "---------\n",
      "Summer21RouteShape\n",
      "{'dataset': 'Summer21RouteShape', 'workspace_factory': 'File Geodatabase', 'connection_info': {'database': 'C:\\\\PythonBook\\\\TranistData\\\\TransitLibrary.gdb'}}\n",
      "{'dataset': 'Summer21RouteShape', 'workspace_factory': 'File Geodatabase', 'connection_info': {'database': 'C:\\\\PythonBook\\\\Chapter7_Start\\\\TransitData.gdb'}}\n",
      "---------\n"
     ]
    }
   ],
   "source": [
    "for layer in layers:\n",
    "    if layer.isBroken is True:\n",
    "        print(layer.name)\n",
    "        print(layer.connectionProperties)\n",
    "        newConnProp = layer.connectionProperties\n",
    "        newConnProp[\"connection_info\"][\"database\"] = newLinkPath\n",
    "        print(newConnProp)\n",
    "        print(\"---------\")\n",
    "        layer.updateConnectionProperties(layer.connectionProperties,newConnProp)"
   ]
  },
  {
   "cell_type": "code",
   "execution_count": null,
   "metadata": {},
   "outputs": [],
   "source": [
    "project.save()\n",
    "del project"
   ]
  }
 ],
 "metadata": {
  "kernelspec": {
   "display_name": "ArcGISPro",
   "language": "Python",
   "name": "python3"
  },
  "language_info": {
   "file_extension": ".py",
   "name": "python",
   "version": "3"
  }
 },
 "nbformat": 4,
 "nbformat_minor": 2
}
