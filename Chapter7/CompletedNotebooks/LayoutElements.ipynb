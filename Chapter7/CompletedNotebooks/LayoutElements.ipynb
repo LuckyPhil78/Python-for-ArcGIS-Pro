{
 "cells": [
  {
   "cell_type": "code",
   "execution_count": 66,
   "metadata": {},
   "outputs": [],
   "source": [
    "project = arcpy.mp.ArcGISProject(\"CURRENT\")\n",
    "mapName = \"Map\"\n",
    "layoutName = \"AlamedaCounty\"\n",
    "m = project.listMaps(mapName)[0]\n",
    "layout = project.listLayouts(layoutName)[0]"
   ]
  },
  {
   "cell_type": "code",
   "execution_count": 67,
   "metadata": {},
   "outputs": [],
   "source": [
    "census = \"AlamedaCounty_RaceHispanic_Tract\"\n",
    "busRoute = \"Summer21RouteShape\"\n",
    "vegRaster = \"OaklandFVeg\"\n",
    "censusLyr = m.listLayers(census)[0]\n",
    "busRouteLyr = m.listLayers(busRoute)[0]\n",
    "vegLyr = m.listLayers(vegRaster)[0]"
   ]
  },
  {
   "cell_type": "code",
   "execution_count": 68,
   "metadata": {
    "scrolled": true
   },
   "outputs": [
    {
     "name": "stdout",
     "output_type": "stream",
     "text": [
      "True\n",
      "True\n",
      "True\n"
     ]
    }
   ],
   "source": [
    "print(censusLyr.visible)\n",
    "print(busRouteLyr.visible)\n",
    "print(vegLyr.visible)"
   ]
  },
  {
   "cell_type": "code",
   "execution_count": 70,
   "metadata": {
    "scrolled": false
   },
   "outputs": [
    {
     "name": "stdout",
     "output_type": "stream",
     "text": [
      "False\n"
     ]
    }
   ],
   "source": [
    "vegLyr.visible = False\n",
    "print(vegLyr.visible)"
   ]
  },
  {
   "cell_type": "code",
   "execution_count": 71,
   "metadata": {},
   "outputs": [],
   "source": [
    "busRouteLyr.definitionQuery = \"PUB_RTE In ('F','G','J','L','LA','NL','NX','O','P','U','V','W')\""
   ]
  },
  {
   "cell_type": "code",
   "execution_count": 35,
   "metadata": {
    "scrolled": true
   },
   "outputs": [
    {
     "name": "stdout",
     "output_type": "stream",
     "text": [
      "AlamedaCounty\n",
      "INCH\n",
      "8.5\n",
      "11.0\n"
     ]
    }
   ],
   "source": [
    "print(layout.name)\n",
    "print(layout.pageUnits)\n",
    "print(layout.pageHeight)\n",
    "print(layout.pageWidth)"
   ]
  },
  {
   "cell_type": "code",
   "execution_count": 72,
   "metadata": {},
   "outputs": [
    {
     "name": "stdout",
     "output_type": "stream",
     "text": [
      "AlamedaCountyTransbayBus\n"
     ]
    }
   ],
   "source": [
    "layout.name = \"AlamedaCountyTransbayBus\"\n",
    "layoutName = layout.name\n",
    "print(layoutName)"
   ]
  },
  {
   "cell_type": "code",
   "execution_count": 73,
   "metadata": {
    "scrolled": true
   },
   "outputs": [
    {
     "name": "stdout",
     "output_type": "stream",
     "text": [
      "Text is a TEXT_ELEMENT element\n",
      "Legend is a LEGEND_ELEMENT element\n",
      "Scale Bar is a MAPSURROUND_ELEMENT element\n",
      "North Arrow is a MAPSURROUND_ELEMENT element\n",
      "Map Frame is a MAPFRAME_ELEMENT element\n"
     ]
    }
   ],
   "source": [
    "lytElems = layout.listElements()\n",
    "for elem in lytElems:\n",
    "    print(\"{0} is a {1} element\".format(elem.name,elem.type))"
   ]
  },
  {
   "cell_type": "code",
   "execution_count": 74,
   "metadata": {},
   "outputs": [
    {
     "name": "stdout",
     "output_type": "stream",
     "text": [
      "Title\n"
     ]
    }
   ],
   "source": [
    "textElem = layout.listElements(\"TEXT_ELEMENT\",\"Text\")[0]\n",
    "textElem.name = \"Title\"\n",
    "print(textElem.name)"
   ]
  },
  {
   "cell_type": "code",
   "execution_count": 82,
   "metadata": {},
   "outputs": [
    {
     "name": "stdout",
     "output_type": "stream",
     "text": [
      "Legend\n",
      "False\n",
      "1.66\n",
      "3.86\n",
      "AdjustColumnsAndFont\n"
     ]
    }
   ],
   "source": [
    "legend = layout.listElements(\"LEGEND_ELEMENT\",\"Legend\")[0]\n",
    "print(legend.title)\n",
    "print(legend.showTitle)\n",
    "print(legend.elementHeight)\n",
    "print(legend.elementWidth)\n",
    "print(legend.fittingStrategy)"
   ]
  },
  {
   "cell_type": "code",
   "execution_count": 83,
   "metadata": {},
   "outputs": [
    {
     "name": "stdout",
     "output_type": "stream",
     "text": [
      "AdjustFontSize\n"
     ]
    }
   ],
   "source": [
    "legend.fittingStrategy = \"AdjustFontSize\"\n",
    "print(legend.fittingStrategy)"
   ]
  },
  {
   "cell_type": "code",
   "execution_count": 84,
   "metadata": {},
   "outputs": [
    {
     "name": "stdout",
     "output_type": "stream",
     "text": [
      "1.66\n",
      "3.86\n",
      "AdjustColumnsAndFont\n"
     ]
    }
   ],
   "source": [
    "legend.fittingStrategy = \"AdjustColumnsAndFont\"\n",
    "print(legend.elementHeight)\n",
    "print(legend.elementWidth)\n",
    "print(legend.fittingStrategy)"
   ]
  },
  {
   "cell_type": "code",
   "execution_count": 86,
   "metadata": {
    "scrolled": true
   },
   "outputs": [
    {
     "name": "stdout",
     "output_type": "stream",
     "text": [
      "Summer21RouteShape\n",
      "True\n"
     ]
    }
   ],
   "source": [
    "for item in legend.items:\n",
    "    if item.name == \"Summer21RouteShape\":\n",
    "        print(item.name)\n",
    "        item.showVisibleFeatures = True\n",
    "        print(item.showVisibleFeatures)"
   ]
  },
  {
   "cell_type": "code",
   "execution_count": 94,
   "metadata": {},
   "outputs": [
    {
     "name": "stdout",
     "output_type": "stream",
     "text": [
      "PUB_RTE\n",
      "Transbay Routes\n"
     ]
    }
   ],
   "source": [
    "busRouteLyrSym = busRouteLyr.symbology\n",
    "for group in busRouteLyrSym.renderer.groups:\n",
    "    print(group.heading)\n",
    "    if group.heading == \"PUB_RTE\":\n",
    "        group.heading = \"Transbay Routes\"\n",
    "        print(group.heading)\n",
    "busRouteLyr.symbology = busRouteLyrSym"
   ]
  },
  {
   "cell_type": "code",
   "execution_count": 95,
   "metadata": {},
   "outputs": [],
   "source": [
    "censusLyr.name = \"Percent Minority by Tract\""
   ]
  },
  {
   "cell_type": "code",
   "execution_count": 98,
   "metadata": {},
   "outputs": [
    {
     "name": "stdout",
     "output_type": "stream",
     "text": [
      "0.6\n"
     ]
    }
   ],
   "source": [
    "print(legend.elememtPositionX)"
   ]
  },
  {
   "cell_type": "code",
   "execution_count": 104,
   "metadata": {},
   "outputs": [],
   "source": [
    "legend.elementPositionX = 0.7\n",
    "legend.elementPositionY = 0.7"
   ]
  },
  {
   "cell_type": "code",
   "execution_count": 105,
   "metadata": {},
   "outputs": [],
   "source": [
    "scalebar = layout.listElements(\"MAPSURROUND_ELEMENT\",\"Scale Bar\")[0]\n",
    "northArrow = layout.listElements(\"MAPSURROUND_ELEMENT\",\"North Arrow\")[0]\n",
    "title = layout.listElements(\"TEXT_ELEMENT\",\"Title\")[0]"
   ]
  },
  {
   "cell_type": "code",
   "execution_count": 106,
   "metadata": {},
   "outputs": [],
   "source": [
    "scalebar.elementPositionX = 10.4\n",
    "scalebar.elementPositionY = 0.6"
   ]
  },
  {
   "cell_type": "code",
   "execution_count": 108,
   "metadata": {},
   "outputs": [],
   "source": [
    "northArrow.elementPositionX = scalebar.elementPositionX -(scalebar.elementWidth/2)\n",
    "northArrow.elementPositionY = scalebar.elementPositionY + scalebar.elementHeight  + .25"
   ]
  },
  {
   "cell_type": "code",
   "execution_count": 110,
   "metadata": {},
   "outputs": [],
   "source": [
    "title.text = \"AC Transit Trans-Bay Bus Routes and Percent Minority in Alameda County\""
   ]
  },
  {
   "cell_type": "code",
   "execution_count": null,
   "metadata": {},
   "outputs": [],
   "source": []
  }
 ],
 "metadata": {
  "kernelspec": {
   "display_name": "ArcGISPro",
   "language": "Python",
   "name": "python3"
  },
  "language_info": {
   "file_extension": ".py",
   "name": "python",
   "version": "3"
  }
 },
 "nbformat": 4,
 "nbformat_minor": 2
}
