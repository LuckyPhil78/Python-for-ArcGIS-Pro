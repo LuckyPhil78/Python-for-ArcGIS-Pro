{
 "cells": [
  {
   "cell_type": "code",
   "execution_count": 1,
   "metadata": {},
   "outputs": [],
   "source": [
    "mapName = \"Map\""
   ]
  },
  {
   "cell_type": "code",
   "execution_count": 30,
   "metadata": {},
   "outputs": [],
   "source": [
    "cpadUnits = r\"C:\\PythonBook\\Chapter7\\CPAD_2020b_Units.shp\"\n",
    "oaklandBerkeley = r\"C:\\PythonBook\\Chapter7\\OaklandBerkeley_RaceHispanic_Place.lyrx\"\n",
    "cpadOakland = r\"C:\\PythonBook\\Chapter7\\Chapter7.gdb\\CPAD_2020b_Units_Oakland\"\n",
    "dataToAdd = [cpadUnits,cpadOakland]"
   ]
  },
  {
   "cell_type": "code",
   "execution_count": 31,
   "metadata": {},
   "outputs": [],
   "source": [
    "project = arcpy.mp.ArcGISProject(\"CURRENT\")\n",
    "m = project.listMaps(mapName)[0]"
   ]
  },
  {
   "cell_type": "code",
   "execution_count": 32,
   "metadata": {},
   "outputs": [],
   "source": [
    "m.addBasemap(\"Streets\")"
   ]
  },
  {
   "cell_type": "code",
   "execution_count": 33,
   "metadata": {},
   "outputs": [
    {
     "data": {
      "text/plain": [
       "<arcpy._mp.Layer object at 0x0000026E249B2808>"
      ]
     },
     "execution_count": 33,
     "metadata": {},
     "output_type": "execute_result"
    }
   ],
   "source": [
    "m.addDataFromPath(cpadUnits)"
   ]
  },
  {
   "cell_type": "code",
   "execution_count": 40,
   "metadata": {},
   "outputs": [
    {
     "data": {
      "text/plain": [
       "[<arcpy._mp.Layer object at 0x0000026E249B69C8>]"
      ]
     },
     "execution_count": 40,
     "metadata": {},
     "output_type": "execute_result"
    }
   ],
   "source": [
    "addLyr = arcpy.mp.LayerFile(oaklandBerkeley)\n",
    "m.addLayer(addLyr,\"BOTTOM\")"
   ]
  },
  {
   "cell_type": "code",
   "execution_count": 44,
   "metadata": {},
   "outputs": [
    {
     "data": {
      "text/plain": [
       "True"
      ]
     },
     "execution_count": 44,
     "metadata": {},
     "output_type": "execute_result"
    }
   ],
   "source": [
    "refLayer = m.listLayers(\"AlamedaCounty_RaceHispanic_Tract\")[0]\n",
    "oakBerkLyr = m.listLayers(\"OaklandBerkeley_RaceHispanic_Place\")[0]\n",
    "m.moveLayer(refLayer,oakBerkLyr,\"BEFORE\")"
   ]
  },
  {
   "cell_type": "code",
   "execution_count": 45,
   "metadata": {},
   "outputs": [
    {
     "data": {
      "text/plain": [
       "<arcpy._mp.Layer object at 0x0000026E249B9108>"
      ]
     },
     "execution_count": 45,
     "metadata": {},
     "output_type": "execute_result"
    }
   ],
   "source": [
    "m2 = project.listMaps(\"Map1\")[0]\n",
    "insertLyr = m2.listLayers(\"CPAD_2020b_Units_Oakland\")[0]\n",
    "m.insertLayer(oakBerkLyr,insertLyr,\"AFTER\")"
   ]
  },
  {
   "cell_type": "code",
   "execution_count": 47,
   "metadata": {},
   "outputs": [
    {
     "name": "stdout",
     "output_type": "stream",
     "text": [
      "CPAD_2020b_Units\n",
      "DimondBridgeViewTrail\n",
      "CPAD_2020b_Units_Oakland\n",
      "OaklandBerkeley_RaceHispanic_Place\n"
     ]
    }
   ],
   "source": [
    "cpadUnits = m.listLayers(\"CPAD_2020b_Units\")[0]\n",
    "cpadOakland = m.listLayers(\"CPAD_2020b_Units_Oakland\")[0]\n",
    "oakBerRaceHis = m.listLayers(\"OaklandBerkeley_RaceHispanic_Place\")[0]\n",
    "removeList = [cpadUnits,cpadOakland,oakBerRaceHis]\n",
    "for layer in removeList:\n",
    "    print(layer.name)\n",
    "    m.removeLayer(layer)"
   ]
  },
  {
   "cell_type": "code",
   "execution_count": 48,
   "metadata": {},
   "outputs": [],
   "source": [
    "project.save()\n",
    "del project"
   ]
  },
  {
   "cell_type": "code",
   "execution_count": null,
   "metadata": {},
   "outputs": [],
   "source": []
  }
 ],
 "metadata": {
  "kernelspec": {
   "display_name": "ArcGISPro",
   "language": "Python",
   "name": "python3"
  },
  "language_info": {
   "file_extension": ".py",
   "name": "python",
   "version": "3"
  }
 },
 "nbformat": 4,
 "nbformat_minor": 2
}
