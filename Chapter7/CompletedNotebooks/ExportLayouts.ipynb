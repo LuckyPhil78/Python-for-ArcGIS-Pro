{
 "cells": [
  {
   "cell_type": "code",
   "execution_count": 112,
   "metadata": {},
   "outputs": [],
   "source": [
    "import os"
   ]
  },
  {
   "cell_type": "code",
   "execution_count": 113,
   "metadata": {},
   "outputs": [],
   "source": [
    "outputLoc = r\"C:\\PythonBook\\Chapter7\""
   ]
  },
  {
   "cell_type": "code",
   "execution_count": 114,
   "metadata": {},
   "outputs": [],
   "source": [
    "project = arcpy.mp.ArcGISProject(\"CURRENT\")\n",
    "layouts = project.listLayouts()"
   ]
  },
  {
   "cell_type": "code",
   "execution_count": 115,
   "metadata": {},
   "outputs": [
    {
     "name": "stdout",
     "output_type": "stream",
     "text": [
      "C:\\PythonBook\\Chapter7\\AlamedaCountyTransbayBus.jpg\n"
     ]
    }
   ],
   "source": [
    "for layout in layouts:\n",
    "    name = layout.name\n",
    "    jpgName = os.path.join(outputLoc,name+\".jpg\")\n",
    "    print(jpgName)\n",
    "    layout.exportToJPEG(jpgName,resolution=250)"
   ]
  },
  {
   "cell_type": "code",
   "execution_count": 116,
   "metadata": {},
   "outputs": [
    {
     "name": "stdout",
     "output_type": "stream",
     "text": [
      "C:\\PythonBook\\Chapter7\\AlamedaCountyTransbayBus.png\n"
     ]
    }
   ],
   "source": [
    "for layout in layouts:\n",
    "    name = layout.name\n",
    "    pngName = os.path.join(outputLoc,name+\".png\")\n",
    "    print(pngName)\n",
    "    layout.exportToPNG(pngName,resolution=250)"
   ]
  },
  {
   "cell_type": "code",
   "execution_count": 117,
   "metadata": {},
   "outputs": [
    {
     "name": "stdout",
     "output_type": "stream",
     "text": [
      "C:\\PythonBook\\Chapter7\\AlamedaCountyTransbayBus.pdf\n"
     ]
    }
   ],
   "source": [
    "for layout in layouts:\n",
    "    name = layout.name\n",
    "    pdfName = os.path.join(outputLoc,name+\".pdf\")\n",
    "    print(pdfName)\n",
    "    layout.exportToPDF(pdfName,resolution=250)"
   ]
  },
  {
   "cell_type": "code",
   "execution_count": null,
   "metadata": {},
   "outputs": [],
   "source": []
  }
 ],
 "metadata": {
  "kernelspec": {
   "display_name": "ArcGISPro",
   "language": "Python",
   "name": "python3"
  },
  "language_info": {
   "file_extension": ".py",
   "name": "python",
   "version": "3"
  }
 },
 "nbformat": 4,
 "nbformat_minor": 2
}
