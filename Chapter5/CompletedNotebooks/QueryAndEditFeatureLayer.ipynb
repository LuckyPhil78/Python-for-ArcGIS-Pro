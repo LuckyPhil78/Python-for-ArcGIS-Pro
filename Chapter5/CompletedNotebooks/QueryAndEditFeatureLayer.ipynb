{
 "cells": [
  {
   "cell_type": "code",
   "execution_count": 67,
   "metadata": {},
   "outputs": [],
   "source": [
    "from arcgis.gis import GIS\n",
    "from IPython.display import display\n",
    "gis = GIS(\"home\")"
   ]
  },
  {
   "cell_type": "code",
   "execution_count": 68,
   "metadata": {
    "scrolled": true
   },
   "outputs": [
    {
     "data": {
      "text/plain": [
       "[<Item title:\"Farmers Markets in Alameda County\" type:Feature Layer Collection owner:billparkermapping>, <Item title:\"Farmers Markets in Alameda County\" type:Feature Layer Collection owner:billparkermapping>]"
      ]
     },
     "execution_count": 68,
     "metadata": {},
     "output_type": "execute_result"
    }
   ],
   "source": [
    "fmSearch = gis.content.search(query=\"title:Farmers Markets in Alameda County\",item_type=\"Feature Layer\")\n",
    "fmSearch"
   ]
  },
  {
   "cell_type": "code",
   "execution_count": 69,
   "metadata": {
    "scrolled": false
   },
   "outputs": [
    {
     "data": {
      "text/html": [
       "<div class=\"item_container\" style=\"height: auto; overflow: hidden; border: 1px solid #cfcfcf; border-radius: 2px; background: #f6fafa; line-height: 1.21429em; padding: 10px;\">\n",
       "                    <div class=\"item_left\" style=\"width: 210px; float: left;\">\n",
       "                       <a href='https://www.arcgis.com//home/item.html?id=267bb8b8f1d4403abcd9cd22e9617e92' target='_blank'>\n",
       "                        <img src='data:image/png;base64,iVBORw0KGgoAAAANSUhEUgAAAMgAAACFCAYAAAAenrcsAAAEH0lEQVR4Xu3dzY9TVRzGcf4lQ2RnwpK4cKfGzQhK4gI0JgbExDDoCDpRwUm0E0cTA4EYZyXihkAyEhaIMxuZZFTQCEM7fbl9mb5O29v2R+tGcxIfF5VzTzvfz/I+3X6Tc3Kbdo8B+Fd73AcA/kYggEAggEAggEAggEAggEAggEAggEAggEAggEAggEAggEAggEAggEAggEAggEAggEAggEAggEAggEAggEAggEAggEAggEAggEAggEAggEAggEAggEAggEAggEAggEAggEAggEAggEAggEAgvg0G7hMEjEA8qq+vWvmT16x87Vt3QqAIxKP8l3PWSj1j2bdn3AmBIhCPmvc2bGvxmNXWbrgTAkUgvnEHmSgEAggE4smg37e4WrF+HLsTAkYgnmyvXLbq2YNWOH/OnRAwAvEk/9UHVjq9z3Kzh9wJASMQT7qVklVuXrF2dtOdEDACAQQCAQQCAQQCAQQCAQQCAQQC8ai7XbZeq+k+RsAIxJP6Lz9b9eOXLTd/1HrNhjsjUATiSfHaFYtOPmnpI09ZXC65MwJFIJ70u12rrq5Y848NvvI+QQgkQfU7ty26tGDtfNadEAgCSVD+9IztfP6CRRdT7oRAEEgC4mbdqj/dsM3UKXvw1gFrrK+5H0EgCCQBpeWUtb94yXLzr9ug13NnBIRAEhBdPm/pY09YPnXSnRAYAknAII6tU8xbv9N2JwSGQKZA3KgN7zQ/WLtYcCeMiUCmQGn50+Gd5tBfdxr8vwhkCkTfXbDM8E5TWJx1J4yJQKbAoBdbtxxZv9txJ4yJQACBQACBQACBQAIyuku0tx5ar837kVAQSEAqV7+x+tkZyy+9705ICIEEJH/hI4tm91ruvVfcCQkhkIDEtapV11asU8y5ExJCIIBAIB704+7wfrFs0fKi9Votd0bACMSD1v3frTz/rG3PPW2VlevujIARiAe9ZtMynx23zIeHrVOK3BkBIxAP4tq2VW9dt51c2p0QOALxoPj1gnWWXrTcmVfdCYEjEA+K31+y9PG9VliacycEjkB8GP3DbbPODzRMIAIBBAIBBAIBBAIBBAKZMKPf09rJ8j7FFwKZIJ1iwSoLR6307vNW/3XDnfEYEMgE2clsWubEfsu9sc9qqz+6Mx4DApkkg4G1/vzNGnfvjP0nPJ1oeFTbeug+hoNAdqHRUa28cMRK7zzHUe0/EMguNDqqpd/cb9nhUa2+etud8Q8Esku17t+1xr31sY9q045AAIFAAIFAAIFAAIFAAIFAAIFAAIFAAIFAAIFAAIFAAIFAAIFAAIFAAIFAAIFAAIFAAIFAAIFAAIFAAIFAAIFAAIFAAIFAAIFAAIFAAIFAAIFAAIFAAIFAAIFAAIFAAIFAAIFAAIFAAIFAAIFAAIFAAIFAAIFAAOERgy7IIQwhkH4AAAAASUVORK5CYII=' width='200' height='133' class=\"itemThumbnail\">\n",
       "                       </a>\n",
       "                    </div>\n",
       "\n",
       "                    <div class=\"item_right\"     style=\"float: none; width: auto; overflow: hidden;\">\n",
       "                        <a href='https://www.arcgis.com//home/item.html?id=267bb8b8f1d4403abcd9cd22e9617e92' target='_blank'><b>Farmers Markets in Alameda County</b>\n",
       "                        </a>\n",
       "                        <br/><img src='https://www.arcgis.com//home/js/jsapi/esri/css/images/item_type_icons/featureshosted16.png' style=\"vertical-align:middle;\">Feature Layer Collection by billparkermapping\n",
       "                        <br/>Last Modified: January 05, 2022\n",
       "                        <br/>0 comments, 8 views\n",
       "                    </div>\n",
       "                </div>\n",
       "                "
      ],
      "text/plain": [
       "<Item title:\"Farmers Markets in Alameda County\" type:Feature Layer Collection owner:billparkermapping>"
      ]
     },
     "metadata": {},
     "output_type": "display_data"
    }
   ],
   "source": [
    "farmersMarkets = fmSearch[1]\n",
    "display(farmersMarkets)"
   ]
  },
  {
   "cell_type": "code",
   "execution_count": 70,
   "metadata": {},
   "outputs": [
    {
     "data": {
      "text/plain": [
       "'Farmers_Markets_in_Alameda_County_3'"
      ]
     },
     "metadata": {},
     "output_type": "display_data"
    }
   ],
   "source": [
    "fmLayers = farmersMarkets.layers\n",
    "for layer in fmLayers:\n",
    "    display(layer.properties.name)"
   ]
  },
  {
   "cell_type": "code",
   "execution_count": 71,
   "metadata": {},
   "outputs": [
    {
     "name": "stdout",
     "output_type": "stream",
     "text": [
      "esriGeometryPoint\n",
      "Feature Layer\n",
      "[{\n",
      "  \"name\": \"MarketName\",\n",
      "  \"type\": \"esriFieldTypeString\",\n",
      "  \"actualType\": \"nvarchar\",\n",
      "  \"alias\": \"MarketName\",\n",
      "  \"sqlType\": \"sqlTypeNVarchar\",\n",
      "  \"length\": 4000,\n",
      "  \"nullable\": true,\n",
      "  \"editable\": true,\n",
      "  \"domain\": null,\n",
      "  \"defaultValue\": null\n",
      "}, {\n",
      "  \"name\": \"Days\",\n",
      "  \"type\": \"esriFieldTypeString\",\n",
      "  \"actualType\": \"nvarchar\",\n",
      "  \"alias\": \"Days\",\n",
      "  \"sqlType\": \"sqlTypeNVarchar\",\n",
      "  \"length\": 4000,\n",
      "  \"nullable\": true,\n",
      "  \"editable\": true,\n",
      "  \"domain\": null,\n",
      "  \"defaultValue\": null\n",
      "}, {\n",
      "  \"name\": \"Time\",\n",
      "  \"type\": \"esriFieldTypeString\",\n",
      "  \"actualType\": \"nvarchar\",\n",
      "  \"alias\": \"Time\",\n",
      "  \"sqlType\": \"sqlTypeNVarchar\",\n",
      "  \"length\": 256,\n",
      "  \"nullable\": true,\n",
      "  \"editable\": true,\n",
      "  \"domain\": null,\n",
      "  \"defaultValue\": null\n",
      "}, {\n",
      "  \"name\": \"Location\",\n",
      "  \"type\": \"esriFieldTypeString\",\n",
      "  \"actualType\": \"nvarchar\",\n",
      "  \"alias\": \"Location\",\n",
      "  \"sqlType\": \"sqlTypeNVarchar\",\n",
      "  \"length\": 4000,\n",
      "  \"nullable\": true,\n",
      "  \"editable\": true,\n",
      "  \"domain\": null,\n",
      "  \"defaultValue\": null\n",
      "}, {\n",
      "  \"name\": \"City\",\n",
      "  \"type\": \"esriFieldTypeString\",\n",
      "  \"actualType\": \"nvarchar\",\n",
      "  \"alias\": \"City\",\n",
      "  \"sqlType\": \"sqlTypeNVarchar\",\n",
      "  \"length\": 4000,\n",
      "  \"nullable\": true,\n",
      "  \"editable\": true,\n",
      "  \"domain\": null,\n",
      "  \"defaultValue\": null\n",
      "}, {\n",
      "  \"name\": \"Latitude\",\n",
      "  \"type\": \"esriFieldTypeDouble\",\n",
      "  \"actualType\": \"float\",\n",
      "  \"alias\": \"Latitude\",\n",
      "  \"sqlType\": \"sqlTypeFloat\",\n",
      "  \"nullable\": true,\n",
      "  \"editable\": true,\n",
      "  \"domain\": null,\n",
      "  \"defaultValue\": null\n",
      "}, {\n",
      "  \"name\": \"Longitude\",\n",
      "  \"type\": \"esriFieldTypeDouble\",\n",
      "  \"actualType\": \"float\",\n",
      "  \"alias\": \"Longitude\",\n",
      "  \"sqlType\": \"sqlTypeFloat\",\n",
      "  \"nullable\": true,\n",
      "  \"editable\": true,\n",
      "  \"domain\": null,\n",
      "  \"defaultValue\": null\n",
      "}, {\n",
      "  \"name\": \"ObjectId\",\n",
      "  \"type\": \"esriFieldTypeOID\",\n",
      "  \"actualType\": \"int\",\n",
      "  \"alias\": \"ObjectId\",\n",
      "  \"sqlType\": \"sqlTypeInteger\",\n",
      "  \"nullable\": false,\n",
      "  \"editable\": false,\n",
      "  \"domain\": null,\n",
      "  \"defaultValue\": null\n",
      "}]\n"
     ]
    }
   ],
   "source": [
    "alamedaFM = fmLayers[0]\n",
    "print(alamedaFM.properties.geometryType)\n",
    "print(alamedaFM.properties.type)\n",
    "print(alamedaFM.properties.fields)"
   ]
  },
  {
   "cell_type": "code",
   "execution_count": 72,
   "metadata": {},
   "outputs": [
    {
     "data": {
      "text/plain": [
       "<FeatureSet> 8 features"
      ]
     },
     "execution_count": 72,
     "metadata": {},
     "output_type": "execute_result"
    }
   ],
   "source": [
    "oaklandFM = alamedaFM.query(where=\"City='Oakland'\")\n",
    "oaklandFM"
   ]
  },
  {
   "cell_type": "code",
   "execution_count": 73,
   "metadata": {},
   "outputs": [
    {
     "name": "stdout",
     "output_type": "stream",
     "text": [
      "{'x': -13608573.86722754, 'y': 4552721.437081691, 'spatialReference': {'wkid': 102100, 'latestWkid': 3857}}\n",
      "{'x': -13611486.986982107, 'y': 4551375.895114394, 'spatialReference': {'wkid': 102100, 'latestWkid': 3857}}\n",
      "{'x': -13611589.066955162, 'y': 4550342.270726181, 'spatialReference': {'wkid': 102100, 'latestWkid': 3857}}\n",
      "{'x': -13609863.058250414, 'y': 4556834.097640283, 'spatialReference': {'wkid': 102100, 'latestWkid': 3857}}\n",
      "{'x': -13610357.87338699, 'y': 4556135.949734949, 'spatialReference': {'wkid': 102100, 'latestWkid': 3857}}\n",
      "{'x': -13605919.899247535, 'y': 4547816.049716471, 'spatialReference': {'wkid': 102100, 'latestWkid': 3857}}\n",
      "{'x': -13600459.678224126, 'y': 4546891.35396034, 'spatialReference': {'wkid': 102100, 'latestWkid': 3857}}\n",
      "{'x': -13604305.098714089, 'y': 4554978.39327759, 'spatialReference': {'wkid': 102100, 'latestWkid': 3857}}\n"
     ]
    }
   ],
   "source": [
    "i = 0\n",
    "while i < len(oaklandFM):\n",
    "    print(oaklandFM.features[i].geometry)\n",
    "    i+=1"
   ]
  },
  {
   "cell_type": "code",
   "execution_count": 74,
   "metadata": {},
   "outputs": [
    {
     "name": "stdout",
     "output_type": "stream",
     "text": [
      "{'MarketName': 'Grand Lake ', 'Days': 'Saturday', 'Time': '9 am - 2 pm', 'Location': 'Splash Pad Park', 'City': 'Oakland', 'Latitude': 37.810721, 'Longitude': -122.247899, 'ObjectId': 4}\n",
      "{'MarketName': 'Old Oakland', 'Days': 'Friday', 'Time': '8 am - 2 pm', 'Location': '9th St and Broadway', 'City': 'Oakland', 'Latitude': 37.801171, 'Longitude': -122.274068, 'ObjectId': 5}\n",
      "{'MarketName': 'Jack London Square', 'Days': 'Sunday', 'Time': '9 am - 2 pm', 'Location': '44 Webster St', 'City': 'Oakland', 'Latitude': 37.793834, 'Longitude': -122.274985, 'ObjectId': 6}\n",
      "{'MarketName': 'Temescal Farmers Market', 'Days': 'Sunday', 'Time': '9 am - 1 pm', 'Location': '5300 Claremnont Avenue', 'City': 'Oakland', 'Latitude': 37.839903, 'Longitude': -122.25948, 'ObjectId': 7}\n",
      "{'MarketName': 'BeetBox CSA', 'Days': 'Wednesday', 'Time': '2 pm - 6 pm', 'Location': '4799 Shattuck Avenue', 'City': 'Oakland', 'Latitude': 37.83495, 'Longitude': -122.263925, 'ObjectId': 8}\n",
      "{'MarketName': 'Fruitvale Farmers Market', 'Days': 'Tuesday, Thursday', 'Time': '11 am - 7 pm', 'Location': 'Avenida de la Fuente and 12th St', 'City': 'Oakland', 'Latitude': 37.775899, 'Longitude': -122.224058, 'ObjectId': 9}\n",
      "{'MarketName': 'Akoma Outdoor Market', 'Days': 'Sunday', 'Time': '9 am - 2 pm', 'Location': '6955 Foothill Boulevard', 'City': 'Oakland', 'Latitude': 37.769333, 'Longitude': -122.175008, 'ObjectId': 10}\n",
      "{'MarketName': 'Montclair Village Farmers Market', 'Days': 'Sunday', 'Time': '9 am - 1 pm', 'Location': 'La Salle Avenue and Mountain Boulevard', 'City': 'Oakland', 'Latitude': 37.826737, 'Longitude': -122.209552, 'ObjectId': 11}\n"
     ]
    }
   ],
   "source": [
    "i = 0\n",
    "while i < len(oaklandFM):\n",
    "    print(oaklandFM.features[i].attributes)\n",
    "    i+=1"
   ]
  },
  {
   "cell_type": "code",
   "execution_count": 75,
   "metadata": {},
   "outputs": [
    {
     "data": {
      "text/plain": [
       "'Create,Delete,Query,Update,Editing'"
      ]
     },
     "execution_count": 75,
     "metadata": {},
     "output_type": "execute_result"
    }
   ],
   "source": [
    "alamedaFM.properties.capabilities"
   ]
  },
  {
   "cell_type": "code",
   "execution_count": 76,
   "metadata": {},
   "outputs": [],
   "source": [
    "oakFM_features = oaklandFM"
   ]
  },
  {
   "cell_type": "code",
   "execution_count": 77,
   "metadata": {
    "scrolled": true
   },
   "outputs": [
    {
     "name": "stdout",
     "output_type": "stream",
     "text": [
      "Splash Pad Park\n",
      "9th St and Broadway\n",
      "44 Webster St\n",
      "5300 Claremnont Avenue\n",
      "4799 Shattuck Avenue\n",
      "Avenida de la Fuente and 12th St\n",
      "6955 Foothill Boulevard\n",
      "La Salle Avenue and Mountain Boulevard\n"
     ]
    }
   ],
   "source": [
    "fmFeature =[]\n",
    "for f in oakFM_features:\n",
    "    print(f.attributes[\"Location\"])\n",
    "    if \"St\" in f.attributes[\"Location\"]:\n",
    "        fmFeature.append(f)"
   ]
  },
  {
   "cell_type": "code",
   "execution_count": 78,
   "metadata": {},
   "outputs": [
    {
     "name": "stdout",
     "output_type": "stream",
     "text": [
      "{'MarketName': 'Old Oakland', 'Days': 'Friday', 'Time': '8 am - 2 pm', 'Location': '9th Street and Broadway', 'City': 'Oakland', 'Latitude': 37.801171, 'Longitude': -122.274068, 'ObjectId': 5}\n",
      "{'MarketName': 'Jack London Square', 'Days': 'Sunday', 'Time': '9 am - 2 pm', 'Location': '44 Webster Street', 'City': 'Oakland', 'Latitude': 37.793834, 'Longitude': -122.274985, 'ObjectId': 6}\n",
      "{'MarketName': 'Fruitvale Farmers Market', 'Days': 'Tuesday, Thursday', 'Time': '11 am - 7 pm', 'Location': 'Avenida de la Fuente and 12th Street', 'City': 'Oakland', 'Latitude': 37.775899, 'Longitude': -122.224058, 'ObjectId': 9}\n"
     ]
    }
   ],
   "source": [
    "featEditList = []\n",
    "for feat in fmFeature:\n",
    "    featEdit = feat\n",
    "    featEdit.attributes[\"Location\"] = featEdit.attributes[\"Location\"].replace(\"St\",\"Street\")\n",
    "    featEditList.append(featEdit)\n",
    "    print(featEdit.attributes)"
   ]
  },
  {
   "cell_type": "code",
   "execution_count": 79,
   "metadata": {},
   "outputs": [
    {
     "data": {
      "text/plain": [
       "{'addResults': [], 'updateResults': [{'objectId': 5, 'uniqueId': 5, 'globalId': None, 'success': True}, {'objectId': 6, 'uniqueId': 6, 'globalId': None, 'success': True}, {'objectId': 9, 'uniqueId': 9, 'globalId': None, 'success': True}], 'deleteResults': []}"
      ]
     },
     "execution_count": 79,
     "metadata": {},
     "output_type": "execute_result"
    }
   ],
   "source": [
    "updateFM = alamedaFM.edit_features(updates = featEditList)\n",
    "updateFM"
   ]
  },
  {
   "cell_type": "code",
   "execution_count": null,
   "metadata": {},
   "outputs": [],
   "source": []
  }
 ],
 "metadata": {
  "kernelspec": {
   "display_name": "ArcGISPro",
   "language": "Python",
   "name": "python3"
  },
  "language_info": {
   "file_extension": ".py",
   "name": "python",
   "version": "3"
  }
 },
 "nbformat": 4,
 "nbformat_minor": 2
}
