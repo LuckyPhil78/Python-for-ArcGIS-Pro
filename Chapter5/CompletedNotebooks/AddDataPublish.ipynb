{
 "cells": [
  {
   "cell_type": "code",
   "execution_count": 66,
   "metadata": {},
   "outputs": [],
   "source": [
    "from arcgis.gis import GIS\n",
    "from IPython.display import display\n",
    "gis = GIS('home')"
   ]
  },
  {
   "cell_type": "code",
   "execution_count": 67,
   "metadata": {},
   "outputs": [],
   "source": [
    "csvFM = r\"C:\\PythonBook\\Chapter5\\AlamedaCountyFarmersMarket.csv\""
   ]
  },
  {
   "cell_type": "code",
   "execution_count": 68,
   "metadata": {},
   "outputs": [],
   "source": [
    "csvProperties = {\n",
    "    \"title\":\"Farmers Markets in Alameda County\",\n",
    "    \"descrption\":\"Location, days, and hours of Farmers Markets in Alameda County\",\n",
    "    \"tags\":\"Farmers Market, Alameda County, ArcGIS API for Python\"\n",
    "}"
   ]
  },
  {
   "cell_type": "code",
   "execution_count": 69,
   "metadata": {},
   "outputs": [],
   "source": [
    "addCsvFM = gis.content.add(item_properties=csvProperties,data=csvFM)"
   ]
  },
  {
   "cell_type": "code",
   "execution_count": 71,
   "metadata": {},
   "outputs": [
    {
     "data": {
      "text/html": [
       "<div class=\"item_container\" style=\"height: auto; overflow: hidden; border: 1px solid #cfcfcf; border-radius: 2px; background: #f6fafa; line-height: 1.21429em; padding: 10px;\">\n",
       "                    <div class=\"item_left\" style=\"width: 210px; float: left;\">\n",
       "                       <a href='https://www.arcgis.com//home/item.html?id=d8dbf13b9bce4f1e9c3d8d346e295ac3' target='_blank'>\n",
       "                        <img src='http://static.arcgis.com/images/desktopapp.png' class=\"itemThumbnail\">\n",
       "                       </a>\n",
       "                    </div>\n",
       "\n",
       "                    <div class=\"item_right\"     style=\"float: none; width: auto; overflow: hidden;\">\n",
       "                        <a href='https://www.arcgis.com//home/item.html?id=d8dbf13b9bce4f1e9c3d8d346e295ac3' target='_blank'><b>Farmers Markets in Alameda County 3</b>\n",
       "                        </a>\n",
       "                        <br/><img src='https://www.arcgis.com//home/js/jsapi/esri/css/images/item_type_icons/layers16.png' style=\"vertical-align:middle;\">CSV by billparkermapping\n",
       "                        <br/>Last Modified: November 23, 2021\n",
       "                        <br/>0 comments, 0 views\n",
       "                    </div>\n",
       "                </div>\n",
       "                "
      ],
      "text/plain": [
       "<Item title:\"Farmers Markets in Alameda County 3\" type:CSV owner:billparkermapping>"
      ]
     },
     "execution_count": 71,
     "metadata": {},
     "output_type": "execute_result"
    }
   ],
   "source": [
    "addCsvFM"
   ]
  },
  {
   "cell_type": "code",
   "execution_count": 72,
   "metadata": {
    "scrolled": false
   },
   "outputs": [
    {
     "ename": "KeyError",
     "evalue": "'type'",
     "output_type": "error",
     "traceback": [
      "\u001b[0;31m---------------------------------------------------------------------------\u001b[0m\n\u001b[0;31mKeyError\u001b[0m                                  Traceback (most recent call last)",
      "In  \u001b[0;34m[72]\u001b[0m:\nLine \u001b[0;34m1\u001b[0m:     farmersMarketFL = addCsvFM.publish()\n",
      "File \u001b[0;34mC:\\Users\\William\\AppData\\Local\\ESRI\\conda\\envs\\arcgispro-py3-clone1\\lib\\site-packages\\arcgis\\gis\\__init__.py\u001b[0m, in \u001b[0;32mpublish\u001b[0m:\nLine \u001b[0;34m10384\u001b[0m: \u001b[34melif\u001b[39;49;00m \u001b[35mnot\u001b[39;49;00m buildInitialCache \u001b[35mand\u001b[39;49;00m ret[\u001b[34m0\u001b[39;49;00m][\u001b[33m'\u001b[39;49;00m\u001b[33mtype\u001b[39;49;00m\u001b[33m'\u001b[39;49;00m].lower() == \u001b[33m'\u001b[39;49;00m\u001b[33mimage service\u001b[39;49;00m\u001b[33m'\u001b[39;49;00m:\n",
      "\u001b[0;31mKeyError\u001b[0m: 'type'\n\u001b[0;31m---------------------------------------------------------------------------\u001b[0m"
     ]
    }
   ],
   "source": [
    "farmersMarketFL = addCsvFM.publish()\n",
    "farmersMarketFL"
   ]
  },
  {
   "cell_type": "code",
   "execution_count": 115,
   "metadata": {},
   "outputs": [
    {
     "data": {
      "application/vnd.jupyter.widget-view+json": {
       "model_id": "ab975f052e2744749c5bd72946642de7",
       "version_major": 2,
       "version_minor": 0
      },
      "text/plain": [
       "MapView(layout=Layout(height='400px', width='100%'))"
      ]
     },
     "metadata": {},
     "output_type": "display_data"
    },
    {
     "data": {
      "text/html": [
       "<div class=\"map-static-img-preview-040a1cf2-c84c-44f4-8670-cbc9f02d796d\"><img src=\"\"></img></div>"
      ],
      "text/plain": [
       "<display.HTML object>"
      ]
     },
     "metadata": {},
     "output_type": "display_data"
    },
    {
     "data": {
      "text/html": [
       "<div class=\"map-html-embed-preview-040a1cf2-c84c-44f4-8670-cbc9f02d796d\"></div>"
      ],
      "text/plain": [
       "<display.HTML object>"
      ]
     },
     "metadata": {},
     "output_type": "display_data"
    }
   ],
   "source": [
    "map1 = gis.map(\"Oakland, California\")\n",
    "map1.add_layer(farmersMarketFL)\n",
    "map1"
   ]
  },
  {
   "cell_type": "code",
   "execution_count": null,
   "metadata": {},
   "outputs": [],
   "source": []
  }
 ],
 "metadata": {
  "kernelspec": {
   "display_name": "ArcGISPro",
   "language": "Python",
   "name": "python3"
  },
  "language_info": {
   "file_extension": ".py",
   "name": "python",
   "version": "3"
  }
 },
 "nbformat": 4,
 "nbformat_minor": 2
}
