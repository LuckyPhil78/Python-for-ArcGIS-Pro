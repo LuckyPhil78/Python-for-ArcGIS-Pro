{
 "cells": [
  {
   "cell_type": "code",
   "execution_count": 80,
   "metadata": {},
   "outputs": [],
   "source": [
    "from arcgis.gis import GIS\n",
    "import zipfile\n",
    "import arcpy\n",
    "import os\n",
    "gis = GIS('home')"
   ]
  },
  {
   "cell_type": "code",
   "execution_count": 87,
   "metadata": {},
   "outputs": [],
   "source": [
    "gdb = r\"C:\\PythonBook\\Chapter5\\Chapter5.gdb\"\n",
    "zipName = \"AdditionalAlamedaFarmersMarket\"\n",
    "zipLoc = r\"C:\\PythonBook\\Chapter5\"\n",
    "zipFull = os.path.join(zipLoc,zipName+\".zip\")"
   ]
  },
  {
   "cell_type": "code",
   "execution_count": 88,
   "metadata": {},
   "outputs": [],
   "source": [
    "writeZip = zipfile.ZipFile(zipFull, 'w')\n",
    "walk = os.walk(zipLoc)\n",
    "for dirpath, dirnames, filenames in walk:\n",
    "    if dirpath == gdb:\n",
    "        for filename in filenames:\n",
    "            if filename[-5:] != \".lock\":\n",
    "                writeZip.write(os.path.join(gdb,filename),\n",
    "                               arcname=os.path.join(os.path.basename(gdb),filename))\n",
    "writeZip.close()"
   ]
  },
  {
   "cell_type": "code",
   "execution_count": 90,
   "metadata": {
    "scrolled": true
   },
   "outputs": [],
   "source": [
    "fmNewProperties = {\"title\":\"Additional Farmers Markets In Alameda County 2\",\n",
    "                   \"type\":\"File Geodatabase\",\n",
    "                   \"tags\":\"Alameda County, Farmers Market, Additional\",\n",
    "                   \"snippet\":\"Alameda Farmers Markets to be added\",\n",
    "                   \"description\":\"Farmers Markets outside Oakland and Berkeley to be added to the full feature layer\"\n",
    "        }\n",
    "fmNewGdb = gis.content.add(item_properties=fmNewProperties,\n",
    "                                        data=zipFull,\n",
    "                                        folder=\"AlamedaFarmersMarkets\")"
   ]
  },
  {
   "cell_type": "code",
   "execution_count": 92,
   "metadata": {},
   "outputs": [],
   "source": [
    "newFmGDBId = fmNewGdb.id"
   ]
  },
  {
   "cell_type": "code",
   "execution_count": 95,
   "metadata": {
    "scrolled": true
   },
   "outputs": [
    {
     "data": {
      "text/plain": [
       "<FeatureLayer url:\"https://services3.arcgis.com/HReqYJDJNUe3sQwB/arcgis/rest/services/Farmers_Markets_in_Alameda_County_3/FeatureServer/0\">"
      ]
     },
     "execution_count": 95,
     "metadata": {},
     "output_type": "execute_result"
    }
   ],
   "source": [
    "fmSearch = gis.content.search(query=\"title:Farmers Markets in Alameda County\",item_type=\"Feature Layer\")\n",
    "farmersMarkets = fmSearch[0]\n",
    "fmLayer = farmersMarkets.layers[0]\n",
    "fmLayer"
   ]
  },
  {
   "cell_type": "code",
   "execution_count": 96,
   "metadata": {},
   "outputs": [
    {
     "data": {
      "text/plain": [
       "True"
      ]
     },
     "execution_count": 96,
     "metadata": {},
     "output_type": "execute_result"
    }
   ],
   "source": [
    "fmLayer.append(item_id=newFmGDBId, \n",
    "               upload_format='filegdb',\n",
    "               source_table_name='AlamedaCountyAdditionalFarmersMarkets',\n",
    "               upsert = False\n",
    "              )"
   ]
  },
  {
   "cell_type": "code",
   "execution_count": 97,
   "metadata": {},
   "outputs": [
    {
     "data": {
      "text/plain": [
       "'C:\\\\PythonBook\\\\Chapter5\\\\AllFarmersMarketsAlameda.zip'"
      ]
     },
     "execution_count": 97,
     "metadata": {},
     "output_type": "execute_result"
    }
   ],
   "source": [
    "fmUpdateExport = farmersMarkets.export(title=\"AllFarmersMarketsAlameda\",export_format=\"File Geodatabase\")\n",
    "fmUpdateExport.download(zipLoc)"
   ]
  },
  {
   "cell_type": "code",
   "execution_count": 98,
   "metadata": {},
   "outputs": [
    {
     "data": {
      "text/plain": [
       "True"
      ]
     },
     "execution_count": 98,
     "metadata": {},
     "output_type": "execute_result"
    }
   ],
   "source": [
    "fmUpdateExport.delete()\n",
    "fmNewGdb.delete()"
   ]
  },
  {
   "cell_type": "code",
   "execution_count": null,
   "metadata": {},
   "outputs": [],
   "source": []
  }
 ],
 "metadata": {
  "kernelspec": {
   "display_name": "ArcGISPro",
   "language": "Python",
   "name": "python3"
  },
  "language_info": {
   "file_extension": ".py",
   "name": "python",
   "version": "3"
  }
 },
 "nbformat": 4,
 "nbformat_minor": 2
}
