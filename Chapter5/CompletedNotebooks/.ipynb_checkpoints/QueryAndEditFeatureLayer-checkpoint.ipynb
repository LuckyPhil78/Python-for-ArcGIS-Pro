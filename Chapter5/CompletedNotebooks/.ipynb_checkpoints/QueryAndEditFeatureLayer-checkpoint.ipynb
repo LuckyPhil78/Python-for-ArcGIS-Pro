{
 "cells": [
  {
   "cell_type": "code",
   "execution_count": 102,
   "metadata": {},
   "outputs": [],
   "source": [
    "from arcgis.gis import GIS\n",
    "from IPython.display import display\n",
    "gis = GIS(\"home\")"
   ]
  },
  {
   "cell_type": "code",
   "execution_count": 103,
   "metadata": {
    "scrolled": true
   },
   "outputs": [
    {
     "data": {
      "text/plain": [
       "[<Item title:\"Farmers Markets in Alameda County\" type:Feature Layer Collection owner:billparkermapping>]"
      ]
     },
     "execution_count": 103,
     "metadata": {},
     "output_type": "execute_result"
    }
   ],
   "source": [
    "fmSearch = gis.content.search(query=\"title:Farmers Markets in Alameda County\",item_type=\"Feature Layer\")\n",
    "fmSearch"
   ]
  },
  {
   "cell_type": "code",
   "execution_count": 104,
   "metadata": {},
   "outputs": [
    {
     "data": {
      "text/html": [
       "<div class=\"item_container\" style=\"height: auto; overflow: hidden; border: 1px solid #cfcfcf; border-radius: 2px; background: #f6fafa; line-height: 1.21429em; padding: 10px;\">\n",
       "                    <div class=\"item_left\" style=\"width: 210px; float: left;\">\n",
       "                       <a href='https://www.arcgis.com//home/item.html?id=df1b9d3df42e4ba8b0634f439ed8dd48' target='_blank'>\n",
       "                        <img src='data:image/png;base64,iVBORw0KGgoAAAANSUhEUgAAAMgAAACFCAYAAAAenrcsAAAEHElEQVR4Xu3dzWscdRzH8f5Lau1N6FE8eFPxEq0KHlpFKK0K0qipD0GtBmyCrVBaLEJO1oeDRIgiiDW52EDUVrSmu93ZnX3IPsw+ze5+TeJB+YEfD2t/89vN+3Wcz17fMD9mmTlgAP7VAfcCgL8RCCAQCCAQCCAQCCAQCCAQCCAQCCAQCCAQCCAQCCAQCCAQCCAQCCAQCCAQCCAQCCAQCCAQCCAQCCAQCCAQCCAQCCAQCCAQCCAQCCAQCCAQCCAQCCAQCCAQCCAQCCAQCCAQCCAQCCAQCCAQiG+jkXsFASMQj1oba1Z771mrrHziTggUgXhU/HDO2osPWuGlGXdCoAjEo+TGpuWXTlhj/Rt3QqAIxDfOIBOFQACBQDwZDYeW1ms2TFN3QsAIxJPt1StWP/O4lS6+604IGIF4UrzwplVOH7Jo9og7IWAE4km/VrHat59bt7DlTggYgQACgQACgQACgQACgQACgQACgXjU367aoJ24lxEwAvGk+dOPVn/nSYvmj9kgabkzAkUgnpRXPrP41EHLHb3P0mrFnREoAvFk2O9bfW3Vkt82+cv7BCGQDDWuXbX48oJ1iwV3QiAIJEPF12as88GjFn+06E4IBIFkIE2aVv/ha9tafNn+ePF+a22suz9BIAgkA5Xls9Y9/4RF88/ZaDBwZwSEQDIQX7louRN3WXHxlDshMASSgVGaWq9ctGGv604IDIFMgbTV2DvTdMsld8KYCGQKVJbf3znTHNk70+D/RSBTIP700s6Z5m4rLc26E8ZEIFNgNEitX41t2O+5E8ZEIIBAIIBAIIBAIAEZ7pwlurdv2aDL85FQEEhAal8uW/PMjBXPveFOyAiBBKR46W2LZ++x6PTT7oSMEEhA0kbd6uur1itH7oSMEAggEIgHw7S/d76Il5ds0G67MwJGIB60b/5q1fmHbHvuAautfuXOCBiBeDBIEsufPWn5t56yXiV2ZwSMQDxIG9tW/27FOlHOnRA4AvGg/PGC9c4/ZtHrz7gTAkcgHpS/uGy5kwetdG7OnRA4AvFh9wu3SZMXNEwgAgEEAgEEAgEEAgEEApkwu+/T6hR4nuILgUyQXrlk1YVjVn31EWv+vOnOuAMIZIJ08luWf+GwRcfvtcba9+6MO4BAJsloZO3ff7HW9Wtjf4SnG0fWuX3LvQwHgexDf92qHbXqKw9zq/YfCGQf2r1Vyz1/2ArHD1lz7ao74x8IZJ9q37xuyY2NsW/Vph2BAAKBAAKBAAKBAAKBAAKBAAKBAAKBAAKBAAKBAAKBAAKBAAKBAAKBAAKBAAKBAAKBAAKBAAKBAAKBAAKBAAKBAAKBAAKBAAKBAAKBAAKBAAKBAAKBAAKBAAKBAAKBAAKBAAKBAAKBAAKBAAKBAAKBAAKBAAKBAMKfzfjIHvluMtoAAAAASUVORK5CYII=' width='200' height='133' class=\"itemThumbnail\">\n",
       "                       </a>\n",
       "                    </div>\n",
       "\n",
       "                    <div class=\"item_right\"     style=\"float: none; width: auto; overflow: hidden;\">\n",
       "                        <a href='https://www.arcgis.com//home/item.html?id=df1b9d3df42e4ba8b0634f439ed8dd48' target='_blank'><b>Farmers Markets in Alameda County</b>\n",
       "                        </a>\n",
       "                        <br/><img src='https://www.arcgis.com//home/js/jsapi/esri/css/images/item_type_icons/featureshosted16.png' style=\"vertical-align:middle;\">Feature Layer Collection by billparkermapping\n",
       "                        <br/>Last Modified: August 02, 2021\n",
       "                        <br/>0 comments, 3 views\n",
       "                    </div>\n",
       "                </div>\n",
       "                "
      ],
      "text/plain": [
       "<Item title:\"Farmers Markets in Alameda County\" type:Feature Layer Collection owner:billparkermapping>"
      ]
     },
     "metadata": {},
     "output_type": "display_data"
    }
   ],
   "source": [
    "farmersMarkets = fmSearch[0]\n",
    "farmersMarkets"
   ]
  },
  {
   "cell_type": "code",
   "execution_count": 118,
   "metadata": {},
   "outputs": [
    {
     "data": {
      "text/plain": [
       "'Farmers_Markets_in_Alameda_County'"
      ]
     },
     "metadata": {},
     "output_type": "display_data"
    }
   ],
   "source": [
    "fmLayers = farmersMarkets.layers\n",
    "for layer in fmLayers:\n",
    "    display(layer.properties.name)"
   ]
  },
  {
   "cell_type": "code",
   "execution_count": 120,
   "metadata": {},
   "outputs": [
    {
     "name": "stdout",
     "output_type": "stream",
     "text": [
      "esriGeometryPoint\n",
      "Feature Layer\n",
      "[{\n",
      "  \"name\": \"MarketName\",\n",
      "  \"type\": \"esriFieldTypeString\",\n",
      "  \"actualType\": \"nvarchar\",\n",
      "  \"alias\": \"MarketName\",\n",
      "  \"sqlType\": \"sqlTypeNVarchar\",\n",
      "  \"length\": 4000,\n",
      "  \"nullable\": true,\n",
      "  \"editable\": true,\n",
      "  \"domain\": null,\n",
      "  \"defaultValue\": null\n",
      "}, {\n",
      "  \"name\": \"Days\",\n",
      "  \"type\": \"esriFieldTypeString\",\n",
      "  \"actualType\": \"nvarchar\",\n",
      "  \"alias\": \"Days\",\n",
      "  \"sqlType\": \"sqlTypeNVarchar\",\n",
      "  \"length\": 4000,\n",
      "  \"nullable\": true,\n",
      "  \"editable\": true,\n",
      "  \"domain\": null,\n",
      "  \"defaultValue\": null\n",
      "}, {\n",
      "  \"name\": \"Time\",\n",
      "  \"type\": \"esriFieldTypeString\",\n",
      "  \"actualType\": \"nvarchar\",\n",
      "  \"alias\": \"Time\",\n",
      "  \"sqlType\": \"sqlTypeNVarchar\",\n",
      "  \"length\": 256,\n",
      "  \"nullable\": true,\n",
      "  \"editable\": true,\n",
      "  \"domain\": null,\n",
      "  \"defaultValue\": null\n",
      "}, {\n",
      "  \"name\": \"Location\",\n",
      "  \"type\": \"esriFieldTypeString\",\n",
      "  \"actualType\": \"nvarchar\",\n",
      "  \"alias\": \"Location\",\n",
      "  \"sqlType\": \"sqlTypeNVarchar\",\n",
      "  \"length\": 4000,\n",
      "  \"nullable\": true,\n",
      "  \"editable\": true,\n",
      "  \"domain\": null,\n",
      "  \"defaultValue\": null\n",
      "}, {\n",
      "  \"name\": \"City\",\n",
      "  \"type\": \"esriFieldTypeString\",\n",
      "  \"actualType\": \"nvarchar\",\n",
      "  \"alias\": \"City\",\n",
      "  \"sqlType\": \"sqlTypeNVarchar\",\n",
      "  \"length\": 4000,\n",
      "  \"nullable\": true,\n",
      "  \"editable\": true,\n",
      "  \"domain\": null,\n",
      "  \"defaultValue\": null\n",
      "}, {\n",
      "  \"name\": \"Latitude\",\n",
      "  \"type\": \"esriFieldTypeDouble\",\n",
      "  \"actualType\": \"float\",\n",
      "  \"alias\": \"Latitude\",\n",
      "  \"sqlType\": \"sqlTypeFloat\",\n",
      "  \"nullable\": true,\n",
      "  \"editable\": true,\n",
      "  \"domain\": null,\n",
      "  \"defaultValue\": null\n",
      "}, {\n",
      "  \"name\": \"Longitude\",\n",
      "  \"type\": \"esriFieldTypeDouble\",\n",
      "  \"actualType\": \"float\",\n",
      "  \"alias\": \"Longitude\",\n",
      "  \"sqlType\": \"sqlTypeFloat\",\n",
      "  \"nullable\": true,\n",
      "  \"editable\": true,\n",
      "  \"domain\": null,\n",
      "  \"defaultValue\": null\n",
      "}, {\n",
      "  \"name\": \"ObjectId\",\n",
      "  \"type\": \"esriFieldTypeOID\",\n",
      "  \"actualType\": \"int\",\n",
      "  \"alias\": \"ObjectId\",\n",
      "  \"sqlType\": \"sqlTypeInteger\",\n",
      "  \"nullable\": false,\n",
      "  \"editable\": false,\n",
      "  \"domain\": null,\n",
      "  \"defaultValue\": null\n",
      "}]\n"
     ]
    }
   ],
   "source": [
    "alamedaFM = fmLayers[0]\n",
    "print(alamedaFM.properties.geometryType)\n",
    "print(alamedaFM.properties.type)\n",
    "print(alamedaFM.properties.fields)"
   ]
  },
  {
   "cell_type": "code",
   "execution_count": 122,
   "metadata": {},
   "outputs": [],
   "source": [
    "oaklandFM = alamedaFM.query(where=\"City='Oakland'\")\n",
    "oaklandFM"
   ]
  },
  {
   "cell_type": "code",
   "execution_count": 153,
   "metadata": {},
   "outputs": [
    {
     "name": "stdout",
     "output_type": "stream",
     "text": [
      "{'x': -13608573.86722754, 'y': 4552721.437081691, 'spatialReference': {'wkid': 102100, 'latestWkid': 3857}}\n",
      "{'x': -13611486.986982107, 'y': 4551375.895114394, 'spatialReference': {'wkid': 102100, 'latestWkid': 3857}}\n",
      "{'x': -13611589.066955162, 'y': 4550342.270726181, 'spatialReference': {'wkid': 102100, 'latestWkid': 3857}}\n",
      "{'x': -13609863.058250414, 'y': 4556834.097640283, 'spatialReference': {'wkid': 102100, 'latestWkid': 3857}}\n",
      "{'x': -13610357.87338699, 'y': 4556135.949734949, 'spatialReference': {'wkid': 102100, 'latestWkid': 3857}}\n",
      "{'x': -13605919.899247535, 'y': 4547816.049716471, 'spatialReference': {'wkid': 102100, 'latestWkid': 3857}}\n",
      "{'x': -13600459.678224126, 'y': 4546891.35396034, 'spatialReference': {'wkid': 102100, 'latestWkid': 3857}}\n",
      "{'x': -13604305.098714089, 'y': 4554978.39327759, 'spatialReference': {'wkid': 102100, 'latestWkid': 3857}}\n"
     ]
    }
   ],
   "source": [
    "i = 0\n",
    "while i < len(oaklandFM):\n",
    "    print(oaklandFM.features[i].geometry)\n",
    "    i+=1"
   ]
  },
  {
   "cell_type": "code",
   "execution_count": 154,
   "metadata": {},
   "outputs": [
    {
     "name": "stdout",
     "output_type": "stream",
     "text": [
      "{'MarketName': 'Grand Lake ', 'Days': 'Saturday', 'Time': '9 am - 2 pm', 'Location': 'Splash Pad Park', 'City': 'Oakland', 'Latitude': 37.810721, 'Longitude': -122.247899, 'ObjectId': 4}\n",
      "{'MarketName': 'Old Oakland', 'Days': 'Friday', 'Time': '8 am - 2 pm', 'Location': '9th Street and Broadway', 'City': 'Oakland', 'Latitude': 37.801171, 'Longitude': -122.274068, 'ObjectId': 5}\n",
      "{'MarketName': 'Jack London Square', 'Days': 'Sunday', 'Time': '9 am - 2 pm', 'Location': '44 Webster Street', 'City': 'Oakland', 'Latitude': 37.793834, 'Longitude': -122.274985, 'ObjectId': 6}\n",
      "{'MarketName': 'Temescal Farmers Market', 'Days': 'Sunday', 'Time': '9 am - 1 pm', 'Location': '5300 Claremnont Avenue', 'City': 'Oakland', 'Latitude': 37.839903, 'Longitude': -122.25948, 'ObjectId': 7}\n",
      "{'MarketName': 'BeetBox CSA', 'Days': 'Wednesday', 'Time': '2 pm - 6 pm', 'Location': '4799 Shattuck Avenue', 'City': 'Oakland', 'Latitude': 37.83495, 'Longitude': -122.263925, 'ObjectId': 8}\n",
      "{'MarketName': 'Fruitvale Farmers Market', 'Days': 'Tuesday, Thursday', 'Time': '11 am - 7 pm', 'Location': 'Avenida de la Fuente and 12th Street', 'City': 'Oakland', 'Latitude': 37.775899, 'Longitude': -122.224058, 'ObjectId': 9}\n",
      "{'MarketName': 'Akoma Outdoor Market', 'Days': 'Sunday', 'Time': '9 am - 2 pm', 'Location': '6955 Foothill Boulevard', 'City': 'Oakland', 'Latitude': 37.769333, 'Longitude': -122.175008, 'ObjectId': 10}\n",
      "{'MarketName': 'Montclair Village Farmers Market', 'Days': 'Sunday', 'Time': '9 am - 1 pm', 'Location': 'La Salle Avenue and Mountain Bouldevard', 'City': 'Oakland', 'Latitude': 37.826737, 'Longitude': -122.209552, 'ObjectId': 11}\n"
     ]
    }
   ],
   "source": [
    "i = 0\n",
    "while i < len(oaklandFM):\n",
    "    print(oaklandFM.features[i].attributes)\n",
    "    i+=1"
   ]
  },
  {
   "cell_type": "code",
   "execution_count": 155,
   "metadata": {},
   "outputs": [
    {
     "data": {
      "text/plain": [
       "'Create,Delete,Query,Update,Editing'"
      ]
     },
     "execution_count": 155,
     "metadata": {},
     "output_type": "execute_result"
    }
   ],
   "source": [
    "alamedaFM.properties.capabilities"
   ]
  },
  {
   "cell_type": "code",
   "execution_count": 156,
   "metadata": {},
   "outputs": [],
   "source": [
    "oakFM_features = oaklandFM"
   ]
  },
  {
   "cell_type": "code",
   "execution_count": 161,
   "metadata": {},
   "outputs": [
    {
     "name": "stdout",
     "output_type": "stream",
     "text": [
      "Splash Pad Park\n",
      "9th Street and Broadway\n",
      "44 Webster Street\n",
      "5300 Claremnont Avenue\n",
      "4799 Shattuck Avenue\n",
      "Avenida de la Fuente and 12th Street\n",
      "6955 Foothill Boulevard\n",
      "La Salle Avenue and Mountain Bouldevard\n"
     ]
    }
   ],
   "source": [
    "fmFeature =[]\n",
    "for f in oakFM_features:\n",
    "    print(f.attributes[\"Location\"])\n",
    "    if \"Bouldevard\" in f.attributes[\"Location\"]:\n",
    "        fmFeature.append(f)\n",
    "        "
   ]
  },
  {
   "cell_type": "code",
   "execution_count": 168,
   "metadata": {},
   "outputs": [],
   "source": [
    "featEditList = []\n",
    "for feat in fmFeature:\n",
    "    featEdit = feat\n",
    "    featEdit.attributes[\"Location\"] = featEdit.attributes[\"Location\"].replace(\"Bouldevard\",\"Boulevard\")\n",
    "    featEditList.append(featEdit)"
   ]
  },
  {
   "cell_type": "code",
   "execution_count": 169,
   "metadata": {},
   "outputs": [
    {
     "data": {
      "text/plain": [
       "[{\"geometry\": {\"x\": -13604305.098714089, \"y\": 4554978.39327759, \"spatialReference\": {\"wkid\": 102100, \"latestWkid\": 3857}}, \"attributes\": {\"MarketName\": \"Montclair Village Farmers Market\", \"Days\": \"Sunday\", \"Time\": \"9 am - 1 pm\", \"Location\": \"La Salle Avenue and Mountain Boulevard\", \"City\": \"Oakland\", \"Latitude\": 37.826737, \"Longitude\": -122.209552, \"ObjectId\": 11}}]"
      ]
     },
     "execution_count": 169,
     "metadata": {},
     "output_type": "execute_result"
    }
   ],
   "source": [
    "featEditList"
   ]
  },
  {
   "cell_type": "code",
   "execution_count": 170,
   "metadata": {},
   "outputs": [
    {
     "data": {
      "text/plain": [
       "{'addResults': [], 'updateResults': [{'objectId': 11, 'uniqueId': 11, 'globalId': None, 'success': True}], 'deleteResults': []}"
      ]
     },
     "execution_count": 170,
     "metadata": {},
     "output_type": "execute_result"
    }
   ],
   "source": [
    "updateFM = alamedaFM.edit_features(updates = featEditList)\n",
    "updateFM"
   ]
  },
  {
   "cell_type": "code",
   "execution_count": null,
   "metadata": {},
   "outputs": [],
   "source": []
  }
 ],
 "metadata": {
  "kernelspec": {
   "display_name": "ArcGISPro",
   "language": "Python",
   "name": "python3"
  },
  "language_info": {
   "file_extension": ".py",
   "name": "python",
   "version": "3"
  }
 },
 "nbformat": 4,
 "nbformat_minor": 2
}
