{
 "cells": [
  {
   "cell_type": "code",
   "execution_count": 1,
   "metadata": {},
   "outputs": [],
   "source": [
    "from arcgis.gis import GIS\n",
    "from IPython.display import display\n",
    "gis = GIS(\"home\")"
   ]
  },
  {
   "cell_type": "code",
   "execution_count": 3,
   "metadata": {},
   "outputs": [],
   "source": [
    "farmersMarketGroup = gis.groups.search('title:Alameda County Farmers Markets')[0]"
   ]
  },
  {
   "cell_type": "code",
   "execution_count": 4,
   "metadata": {
    "scrolled": true
   },
   "outputs": [
    {
     "data": {
      "text/html": [
       "<div class=\"9item_container\" style=\"height: auto; overflow: hidden; border: 1px solid #cfcfcf; border-radius: 2px; background: #f6fafa; line-height: 1.21429em; padding: 10px;\">\n",
       "                    <div class=\"item_left\" style=\"width: 210px; float: left;\">\n",
       "                       <a href='https://www.arcgis.com//home/group.html?id=7025277f0c7c405ca095a46df9b588ff' target='_blank'>\n",
       "                        <img src='https://www.arcgis.com//home/images/group-no-image.png' class=\"itemThumbnail\">\n",
       "                       </a>\n",
       "                    </div>\n",
       "\n",
       "                    <div class=\"item_right\" style=\"float: none; width: auto; overflow: hidden;\">\n",
       "                        <a href='https://www.arcgis.com//home/group.html?id=7025277f0c7c405ca095a46df9b588ff' target='_blank'><b>Alameda County Farmers Markets</b>\n",
       "                        </a>\n",
       "                        <br/>\n",
       "                        <br/><b>Summary</b>: None\n",
       "                        <br/><b>Description</b>: Group with data for Alameda County Farmers Markets.\n",
       "                        <br/><b>Owner</b>: billparkermapping\n",
       "                        <br/><b>Created</b>: August 02, 2021\n",
       "\n",
       "                    </div>\n",
       "                </div>\n",
       "                "
      ],
      "text/plain": [
       "<Group title:\"Alameda County Farmers Markets\" owner:billparkermapping>"
      ]
     },
     "execution_count": 4,
     "metadata": {},
     "output_type": "execute_result"
    }
   ],
   "source": [
    "farmersMarketGroup"
   ]
  },
  {
   "cell_type": "code",
   "execution_count": 2,
   "metadata": {},
   "outputs": [
    {
     "ename": "Exception",
     "evalue": "Unable to create group.\nYou already have a group named 'Alameda County Farmers Markets'. Try a different name.\n(Error Code: 400)",
     "output_type": "error",
     "traceback": [
      "\u001b[0;31m---------------------------------------------------------------------------\u001b[0m\n\u001b[0;31mException\u001b[0m                                 Traceback (most recent call last)",
      "In  \u001b[0;34m[2]\u001b[0m:\nLine \u001b[0;34m5\u001b[0m:     is_invitation_only = \u001b[33m\"\u001b[39;49;00m\u001b[33mFalse\u001b[39;49;00m\u001b[33m\"\u001b[39;49;00m,\n",
      "File \u001b[0;34mC:\\Users\\William\\AppData\\Local\\ESRI\\conda\\envs\\arcgispro-py3-clone1\\lib\\site-packages\\arcgis\\gis\\__init__.py\u001b[0m, in \u001b[0;32mcreate\u001b[0m:\nLine \u001b[0;34m3722\u001b[0m:  group = \u001b[36mself\u001b[39;49;00m._portal.create_group_from_dict(params, thumbnail)\n",
      "File \u001b[0;34mC:\\Users\\William\\AppData\\Local\\ESRI\\conda\\envs\\arcgispro-py3-clone1\\lib\\site-packages\\arcgis\\gis\\_impl\\_portalpy.py\u001b[0m, in \u001b[0;32mcreate_group_from_dict\u001b[0m:\nLine \u001b[0;34m551\u001b[0m:   resp = \u001b[36mself\u001b[39;49;00m.con.post(\u001b[33m'\u001b[39;49;00m\u001b[33mcommunity/createGroup\u001b[39;49;00m\u001b[33m'\u001b[39;49;00m, postdata, files)\n",
      "File \u001b[0;34mC:\\Users\\William\\AppData\\Local\\ESRI\\conda\\envs\\arcgispro-py3-clone1\\lib\\site-packages\\arcgis\\gis\\_impl\\_con\\_connection.py\u001b[0m, in \u001b[0;32mpost\u001b[0m:\nLine \u001b[0;34m720\u001b[0m:   force_bytes=kwargs.pop(\u001b[33m'\u001b[39;49;00m\u001b[33mforce_bytes\u001b[39;49;00m\u001b[33m'\u001b[39;49;00m, \u001b[34mFalse\u001b[39;49;00m))\n",
      "File \u001b[0;34mC:\\Users\\William\\AppData\\Local\\ESRI\\conda\\envs\\arcgispro-py3-clone1\\lib\\site-packages\\arcgis\\gis\\_impl\\_con\\_connection.py\u001b[0m, in \u001b[0;32m_handle_response\u001b[0m:\nLine \u001b[0;34m514\u001b[0m:   \u001b[36mself\u001b[39;49;00m._handle_json_error(data[\u001b[33m'\u001b[39;49;00m\u001b[33merror\u001b[39;49;00m\u001b[33m'\u001b[39;49;00m], errorcode)\n",
      "File \u001b[0;34mC:\\Users\\William\\AppData\\Local\\ESRI\\conda\\envs\\arcgispro-py3-clone1\\lib\\site-packages\\arcgis\\gis\\_impl\\_con\\_connection.py\u001b[0m, in \u001b[0;32m_handle_json_error\u001b[0m:\nLine \u001b[0;34m536\u001b[0m:   \u001b[34mraise\u001b[39;49;00m \u001b[36mException\u001b[39;49;00m(errormessage)\n",
      "\u001b[0;31mException\u001b[0m: Unable to create group.\nYou already have a group named 'Alameda County Farmers Markets'. Try a different name.\n(Error Code: 400)\n\u001b[0;31m---------------------------------------------------------------------------\u001b[0m"
     ]
    }
   ],
   "source": [
    "farmerMarketGroup = gis.groups.create(title=\"Alameda County Farmers Markets\",\n",
    "                                      tags=\"Alameda County, Farmers Market\",\n",
    "                                      description = \"Group with data for Alameda County Farmers Markets.\",\n",
    "                                      access = \"org\",\n",
    "                                      is_invitation_only = \"False\",\n",
    "                                     )"
   ]
  },
  {
   "cell_type": "code",
   "execution_count": 269,
   "metadata": {
    "scrolled": true
   },
   "outputs": [
    {
     "data": {
      "text/plain": [
       "'org'"
      ]
     },
     "execution_count": 269,
     "metadata": {},
     "output_type": "execute_result"
    }
   ],
   "source": [
    "farmerMarketGroup.membershipAccess"
   ]
  },
  {
   "cell_type": "code",
   "execution_count": 268,
   "metadata": {},
   "outputs": [
    {
     "data": {
      "text/plain": [
       "True"
      ]
     },
     "execution_count": 268,
     "metadata": {},
     "output_type": "execute_result"
    }
   ],
   "source": [
    "farmerMarketGroup.update(access = \"private\")"
   ]
  },
  {
   "cell_type": "code",
   "execution_count": 270,
   "metadata": {
    "scrolled": true
   },
   "outputs": [
    {
     "data": {
      "text/html": [
       "<div class=\"item_container\" style=\"height: auto; overflow: hidden; border: 1px solid #cfcfcf; border-radius: 2px; background: #f6fafa; line-height: 1.21429em; padding: 10px;\">\n",
       "                    <div class=\"item_left\" style=\"width: 210px; float: left;\">\n",
       "                       <a href='https://www.arcgis.com//home/item.html?id=df1b9d3df42e4ba8b0634f439ed8dd48' target='_blank'>\n",
       "                        <img src='data:image/png;base64,iVBORw0KGgoAAAANSUhEUgAAAMgAAACFCAYAAAAenrcsAAAEHElEQVR4Xu3dzWscdRzH8f5Lau1N6FE8eFPxEq0KHlpFKK0K0qipD0GtBmyCrVBaLEJO1oeDRIgiiDW52EDUVrSmu93ZnX3IPsw+ze5+TeJB+YEfD2t/89vN+3Wcz17fMD9mmTlgAP7VAfcCgL8RCCAQCCAQCCAQCCAQCCAQCCAQCCAQCCAQCCAQCCAQCCAQCCAQCCAQCCAQCCAQCCAQCCAQCCAQCCAQCCAQCCAQCCAQCCAQCCAQCCAQCCAQCCAQCCAQCCAQCCAQCCAQCCAQCCAQCCAQCCAQiG+jkXsFASMQj1oba1Z771mrrHziTggUgXhU/HDO2osPWuGlGXdCoAjEo+TGpuWXTlhj/Rt3QqAIxDfOIBOFQACBQDwZDYeW1ms2TFN3QsAIxJPt1StWP/O4lS6+604IGIF4UrzwplVOH7Jo9og7IWAE4km/VrHat59bt7DlTggYgQACgQACgQACgQACgQACgQACgXjU367aoJ24lxEwAvGk+dOPVn/nSYvmj9kgabkzAkUgnpRXPrP41EHLHb3P0mrFnREoAvFk2O9bfW3Vkt82+cv7BCGQDDWuXbX48oJ1iwV3QiAIJEPF12as88GjFn+06E4IBIFkIE2aVv/ha9tafNn+ePF+a22suz9BIAgkA5Xls9Y9/4RF88/ZaDBwZwSEQDIQX7louRN3WXHxlDshMASSgVGaWq9ctGGv604IDIFMgbTV2DvTdMsld8KYCGQKVJbf3znTHNk70+D/RSBTIP700s6Z5m4rLc26E8ZEIFNgNEitX41t2O+5E8ZEIIBAIIBAIIBAIAEZ7pwlurdv2aDL85FQEEhAal8uW/PMjBXPveFOyAiBBKR46W2LZ++x6PTT7oSMEEhA0kbd6uur1itH7oSMEAggEIgHw7S/d76Il5ds0G67MwJGIB60b/5q1fmHbHvuAautfuXOCBiBeDBIEsufPWn5t56yXiV2ZwSMQDxIG9tW/27FOlHOnRA4AvGg/PGC9c4/ZtHrz7gTAkcgHpS/uGy5kwetdG7OnRA4AvFh9wu3SZMXNEwgAgEEAgEEAgEEAgEEApkwu+/T6hR4nuILgUyQXrlk1YVjVn31EWv+vOnOuAMIZIJ08luWf+GwRcfvtcba9+6MO4BAJsloZO3ff7HW9Wtjf4SnG0fWuX3LvQwHgexDf92qHbXqKw9zq/YfCGQf2r1Vyz1/2ArHD1lz7ao74x8IZJ9q37xuyY2NsW/Vph2BAAKBAAKBAAKBAAKBAAKBAAKBAAKBAAKBAAKBAAKBAAKBAAKBAAKBAAKBAAKBAAKBAAKBAAKBAAKBAAKBAAKBAAKBAAKBAAKBAAKBAAKBAAKBAAKBAAKBAAKBAAKBAAKBAAKBAAKBAAKBAAKBAAKBAAKBAAKBAMKfzfjIHvluMtoAAAAASUVORK5CYII=' width='200' height='133' class=\"itemThumbnail\">\n",
       "                       </a>\n",
       "                    </div>\n",
       "\n",
       "                    <div class=\"item_right\"     style=\"float: none; width: auto; overflow: hidden;\">\n",
       "                        <a href='https://www.arcgis.com//home/item.html?id=df1b9d3df42e4ba8b0634f439ed8dd48' target='_blank'><b>Farmers Markets in Alameda County</b>\n",
       "                        </a>\n",
       "                        <br/><img src='https://www.arcgis.com//home/js/jsapi/esri/css/images/item_type_icons/featureshosted16.png' style=\"vertical-align:middle;\">Feature Layer Collection by billparkermapping\n",
       "                        <br/>Last Modified: August 02, 2021\n",
       "                        <br/>0 comments, 2 views\n",
       "                    </div>\n",
       "                </div>\n",
       "                "
      ],
      "text/plain": [
       "<Item title:\"Farmers Markets in Alameda County\" type:Feature Layer Collection owner:billparkermapping>"
      ]
     },
     "execution_count": 270,
     "metadata": {},
     "output_type": "execute_result"
    }
   ],
   "source": [
    "alamedaFM = gis.content.search(query=\"title:Farmers Markets in Alameda County\")[0]\n",
    "alamedaFM"
   ]
  },
  {
   "cell_type": "code",
   "execution_count": null,
   "metadata": {},
   "outputs": [],
   "source": [
    "alamedaFM.access"
   ]
  },
  {
   "cell_type": "code",
   "execution_count": 271,
   "metadata": {
    "scrolled": true
   },
   "outputs": [
    {
     "data": {
      "text/plain": [
       "{'results': [{'itemId': 'df1b9d3df42e4ba8b0634f439ed8dd48', 'success': True, 'notSharedWith': []}]}"
      ]
     },
     "execution_count": 271,
     "metadata": {},
     "output_type": "execute_result"
    }
   ],
   "source": [
    "alamedaFM.share(org=False,groups=farmerMarketGroup.id)"
   ]
  },
  {
   "cell_type": "code",
   "execution_count": 272,
   "metadata": {},
   "outputs": [
    {
     "data": {
      "text/plain": [
       "{'everyone': False, 'org': False, 'groups': [<Group title:\"Alameda County Farmers Markets\" owner:billparkermapping>]}"
      ]
     },
     "execution_count": 272,
     "metadata": {},
     "output_type": "execute_result"
    }
   ],
   "source": [
    "alamedaFM.shared_with"
   ]
  },
  {
   "cell_type": "code",
   "execution_count": 278,
   "metadata": {
    "scrolled": false
   },
   "outputs": [
    {
     "data": {
      "text/plain": [
       "{'notAdded': ['parkerw13'], 'notAddedDetails': [{'username': 'parkerw13', 'error': {'code': 403, 'messageCode': 'COM_1206', 'message': 'Public users cannot be added to organization groups.'}, 'status': False}]}"
      ]
     },
     "execution_count": 278,
     "metadata": {},
     "output_type": "execute_result"
    }
   ],
   "source": [
    "farmerMarketGroup.add_users([\"parkerw13\"])"
   ]
  },
  {
   "cell_type": "code",
   "execution_count": 279,
   "metadata": {},
   "outputs": [
    {
     "data": {
      "text/plain": [
       "99.53455"
      ]
     },
     "execution_count": 279,
     "metadata": {},
     "output_type": "execute_result"
    }
   ],
   "source": [
    "gis.admin.credits.credits"
   ]
  },
  {
   "cell_type": "code",
   "execution_count": 280,
   "metadata": {},
   "outputs": [],
   "source": [
    "me = gis.users.me"
   ]
  },
  {
   "cell_type": "code",
   "execution_count": 281,
   "metadata": {},
   "outputs": [
    {
     "data": {
      "text/plain": [
       "'org'"
      ]
     },
     "execution_count": 281,
     "metadata": {},
     "output_type": "execute_result"
    }
   ],
   "source": [
    "me.access"
   ]
  },
  {
   "cell_type": "code",
   "execution_count": null,
   "metadata": {},
   "outputs": [],
   "source": []
  }
 ],
 "metadata": {
  "kernelspec": {
   "display_name": "ArcGISPro",
   "language": "Python",
   "name": "python3"
  },
  "language_info": {
   "file_extension": ".py",
   "name": "python",
   "version": "3"
  }
 },
 "nbformat": 4,
 "nbformat_minor": 2
}
