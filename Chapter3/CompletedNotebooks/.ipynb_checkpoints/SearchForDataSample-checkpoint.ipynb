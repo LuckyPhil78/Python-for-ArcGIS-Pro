{
 "cells": [
  {
   "cell_type": "code",
   "execution_count": 52,
   "metadata": {},
   "outputs": [],
   "source": [
    "from arcgis.gis import GIS\n",
    "from IPython.display import display\n",
    "gis = GIS()"
   ]
  },
  {
   "cell_type": "code",
   "execution_count": 53,
   "metadata": {},
   "outputs": [
    {
     "name": "stdout",
     "output_type": "stream",
     "text": [
      "<Item title:\"CA Bay Area Liquefaction Risk\" type:Feature Layer Collection owner:Ferrar@FracTracker.org>\n",
      "<Item title:\"OaklandCnty_Test_v2\" type:Feature Layer Collection owner:nathandumont>\n",
      "<Item title:\"Oakland_CBG_allDriveTimes269309\" type:Feature Layer Collection owner:philiporlando>\n",
      "<Item title:\"Merge_LAND_USE_4_central_oakland_parcel_data_South_Oakland_parcel_data\" type:Feature Layer Collection owner:mnaji0>\n",
      "<Item title:\"Join_Features_to_All_Oakland_Census_Tracts\" type:Feature Layer Collection owner:1552844_CAL>\n"
     ]
    },
    {
     "data": {
      "text/html": [
       "<div class=\"item_container\" style=\"height: auto; overflow: hidden; border: 1px solid #cfcfcf; border-radius: 2px; background: #f6fafa; line-height: 1.21429em; padding: 10px;\">\n",
       "                    <div class=\"item_left\" style=\"width: 210px; float: left;\">\n",
       "                       <a href='https://www.arcgis.com/home/item.html?id=70a1ed248171467abce663808df4963a' target='_blank'>\n",
       "                        <img src='https://www.arcgis.com/sharing/rest//content/items/70a1ed248171467abce663808df4963a/info/thumbnail/thumbnail.png' class=\"itemThumbnail\">\n",
       "                       </a>\n",
       "                    </div>\n",
       "\n",
       "                    <div class=\"item_right\"     style=\"float: none; width: auto; overflow: hidden;\">\n",
       "                        <a href='https://www.arcgis.com/home/item.html?id=70a1ed248171467abce663808df4963a' target='_blank'><b>CA Bay Area Liquefaction Risk</b>\n",
       "                        </a>\n",
       "                        <br/>Risks of liquefaction occurring as a result of earthquakes in the Bay Area.<img src='https://www.arcgis.com/home/js/jsapi/esri/css/images/item_type_icons/featureshosted16.png' style=\"vertical-align:middle;\">Feature Layer Collection by Ferrar@FracTracker.org\n",
       "                        <br/>Last Modified: June 23, 2014\n",
       "                        <br/>0 comments, 23,409 views\n",
       "                    </div>\n",
       "                </div>\n",
       "                "
      ],
      "text/plain": [
       "<Item title:\"CA Bay Area Liquefaction Risk\" type:Feature Layer Collection owner:Ferrar@FracTracker.org>"
      ]
     },
     "metadata": {},
     "output_type": "display_data"
    },
    {
     "data": {
      "text/html": [
       "<div class=\"item_container\" style=\"height: auto; overflow: hidden; border: 1px solid #cfcfcf; border-radius: 2px; background: #f6fafa; line-height: 1.21429em; padding: 10px;\">\n",
       "                    <div class=\"item_left\" style=\"width: 210px; float: left;\">\n",
       "                       <a href='https://www.arcgis.com/home/item.html?id=66c9161c9a1b48828f05c2962be50b80' target='_blank'>\n",
       "                        <img src='https://www.arcgis.com/sharing/rest//content/items/66c9161c9a1b48828f05c2962be50b80/info/thumbnail/thuD471.png' class=\"itemThumbnail\">\n",
       "                       </a>\n",
       "                    </div>\n",
       "\n",
       "                    <div class=\"item_right\"     style=\"float: none; width: auto; overflow: hidden;\">\n",
       "                        <a href='https://www.arcgis.com/home/item.html?id=66c9161c9a1b48828f05c2962be50b80' target='_blank'><b>OaklandCnty_Test_v2</b>\n",
       "                        </a>\n",
       "                        <br/>Oakland_v2<img src='https://www.arcgis.com/home/js/jsapi/esri/css/images/item_type_icons/featureshosted16.png' style=\"vertical-align:middle;\">Feature Layer Collection by nathandumont\n",
       "                        <br/>Last Modified: July 03, 2018\n",
       "                        <br/>0 comments, 6 views\n",
       "                    </div>\n",
       "                </div>\n",
       "                "
      ],
      "text/plain": [
       "<Item title:\"OaklandCnty_Test_v2\" type:Feature Layer Collection owner:nathandumont>"
      ]
     },
     "metadata": {},
     "output_type": "display_data"
    },
    {
     "data": {
      "text/html": [
       "<div class=\"item_container\" style=\"height: auto; overflow: hidden; border: 1px solid #cfcfcf; border-radius: 2px; background: #f6fafa; line-height: 1.21429em; padding: 10px;\">\n",
       "                    <div class=\"item_left\" style=\"width: 210px; float: left;\">\n",
       "                       <a href='https://www.arcgis.com/home/item.html?id=b986141eef8345ecbc9bf5dd12313185' target='_blank'>\n",
       "                        <img src='http://static.arcgis.com/images/desktopapp.png' class=\"itemThumbnail\">\n",
       "                       </a>\n",
       "                    </div>\n",
       "\n",
       "                    <div class=\"item_right\"     style=\"float: none; width: auto; overflow: hidden;\">\n",
       "                        <a href='https://www.arcgis.com/home/item.html?id=b986141eef8345ecbc9bf5dd12313185' target='_blank'><b>Oakland_CBG_allDriveTimes269309</b>\n",
       "                        </a>\n",
       "                        <br/><img src='https://www.arcgis.com/home/js/jsapi/esri/css/images/item_type_icons/featureshosted16.png' style=\"vertical-align:middle;\">Feature Layer Collection by philiporlando\n",
       "                        <br/>Last Modified: September 14, 2019\n",
       "                        <br/>0 comments, 3 views\n",
       "                    </div>\n",
       "                </div>\n",
       "                "
      ],
      "text/plain": [
       "<Item title:\"Oakland_CBG_allDriveTimes269309\" type:Feature Layer Collection owner:philiporlando>"
      ]
     },
     "metadata": {},
     "output_type": "display_data"
    },
    {
     "data": {
      "text/html": [
       "<div class=\"item_container\" style=\"height: auto; overflow: hidden; border: 1px solid #cfcfcf; border-radius: 2px; background: #f6fafa; line-height: 1.21429em; padding: 10px;\">\n",
       "                    <div class=\"item_left\" style=\"width: 210px; float: left;\">\n",
       "                       <a href='https://www.arcgis.com/home/item.html?id=4209bc131f7946a4b6b9d6019db87b9c' target='_blank'>\n",
       "                        <img src='https://www.arcgis.com/sharing/rest//content/items/4209bc131f7946a4b6b9d6019db87b9c/info/thumbnail/ago_downloaded.png' class=\"itemThumbnail\">\n",
       "                       </a>\n",
       "                    </div>\n",
       "\n",
       "                    <div class=\"item_right\"     style=\"float: none; width: auto; overflow: hidden;\">\n",
       "                        <a href='https://www.arcgis.com/home/item.html?id=4209bc131f7946a4b6b9d6019db87b9c' target='_blank'><b>Merge_LAND_USE_4_central_oakland_parcel_data_South_Oakland_parcel_data</b>\n",
       "                        </a>\n",
       "                        <br/>Feature layer generated from Merge Layers<img src='https://www.arcgis.com/home/js/jsapi/esri/css/images/item_type_icons/featureshosted16.png' style=\"vertical-align:middle;\">Feature Layer Collection by mnaji0\n",
       "                        <br/>Last Modified: July 29, 2020\n",
       "                        <br/>0 comments, 39 views\n",
       "                    </div>\n",
       "                </div>\n",
       "                "
      ],
      "text/plain": [
       "<Item title:\"Merge_LAND_USE_4_central_oakland_parcel_data_South_Oakland_parcel_data\" type:Feature Layer Collection owner:mnaji0>"
      ]
     },
     "metadata": {},
     "output_type": "display_data"
    },
    {
     "data": {
      "text/html": [
       "<div class=\"item_container\" style=\"height: auto; overflow: hidden; border: 1px solid #cfcfcf; border-radius: 2px; background: #f6fafa; line-height: 1.21429em; padding: 10px;\">\n",
       "                    <div class=\"item_left\" style=\"width: 210px; float: left;\">\n",
       "                       <a href='https://www.arcgis.com/home/item.html?id=83afd89513e44823a394d4129bfc2414' target='_blank'>\n",
       "                        <img src='http://static.arcgis.com/images/desktopapp.png' class=\"itemThumbnail\">\n",
       "                       </a>\n",
       "                    </div>\n",
       "\n",
       "                    <div class=\"item_right\"     style=\"float: none; width: auto; overflow: hidden;\">\n",
       "                        <a href='https://www.arcgis.com/home/item.html?id=83afd89513e44823a394d4129bfc2414' target='_blank'><b>Join_Features_to_All_Oakland_Census_Tracts</b>\n",
       "                        </a>\n",
       "                        <br/>Feature layer generated from Join Features<img src='https://www.arcgis.com/home/js/jsapi/esri/css/images/item_type_icons/featureshosted16.png' style=\"vertical-align:middle;\">Feature Layer Collection by 1552844_CAL\n",
       "                        <br/>Last Modified: April 19, 2019\n",
       "                        <br/>0 comments, 144 views\n",
       "                    </div>\n",
       "                </div>\n",
       "                "
      ],
      "text/plain": [
       "<Item title:\"Join_Features_to_All_Oakland_Census_Tracts\" type:Feature Layer Collection owner:1552844_CAL>"
      ]
     },
     "metadata": {},
     "output_type": "display_data"
    }
   ],
   "source": [
    "oaklandResults = gis.content.search(query=\"Oakland\",item_type=\"Feature Layer\",max_items=5)\n",
    "for item in oaklandResults:\n",
    "    print(item)\n",
    "for result in oaklandResults:\n",
    "    display(result)"
   ]
  },
  {
   "cell_type": "code",
   "execution_count": 69,
   "metadata": {},
   "outputs": [
    {
     "name": "stdout",
     "output_type": "stream",
     "text": [
      "<Item title:\"Oakland City Limit Line\" type:Feature Layer Collection owner:davidlok>\n",
      "<Item title:\"Oakland Transit Stations\" type:Feature Layer Collection owner:kfong88>\n",
      "<Item title:\"Oakland_Demographics\" type:Feature Layer Collection owner:antievictionmapdev>\n",
      "<Item title:\"Oakland\" type:Feature Collection owner:achuman>\n",
      "<Item title:\"Oakland_UD_Eviction\" type:Feature Layer Collection owner:antievictionmapdev>\n"
     ]
    },
    {
     "data": {
      "text/html": [
       "<div class=\"item_container\" style=\"height: auto; overflow: hidden; border: 1px solid #cfcfcf; border-radius: 2px; background: #f6fafa; line-height: 1.21429em; padding: 10px;\">\n",
       "                    <div class=\"item_left\" style=\"width: 210px; float: left;\">\n",
       "                       <a href='https://www.arcgis.com/home/item.html?id=29b3999267c44221ab0639bfd94ba2dc' target='_blank'>\n",
       "                        <img src='https://www.arcgis.com/sharing/rest//content/items/29b3999267c44221ab0639bfd94ba2dc/info/thumbnail/ago_downloaded.gif' class=\"itemThumbnail\">\n",
       "                       </a>\n",
       "                    </div>\n",
       "\n",
       "                    <div class=\"item_right\"     style=\"float: none; width: auto; overflow: hidden;\">\n",
       "                        <a href='https://www.arcgis.com/home/item.html?id=29b3999267c44221ab0639bfd94ba2dc' target='_blank'><b>Oakland City Limit Line</b>\n",
       "                        </a>\n",
       "                        <br/><img src='https://www.arcgis.com/home/js/jsapi/esri/css/images/item_type_icons/featureshosted16.png' style=\"vertical-align:middle;\">Feature Layer Collection by davidlok\n",
       "                        <br/>Last Modified: July 15, 2020\n",
       "                        <br/>0 comments, 74,659 views\n",
       "                    </div>\n",
       "                </div>\n",
       "                "
      ],
      "text/plain": [
       "<Item title:\"Oakland City Limit Line\" type:Feature Layer Collection owner:davidlok>"
      ]
     },
     "metadata": {},
     "output_type": "display_data"
    },
    {
     "data": {
      "text/html": [
       "<div class=\"item_container\" style=\"height: auto; overflow: hidden; border: 1px solid #cfcfcf; border-radius: 2px; background: #f6fafa; line-height: 1.21429em; padding: 10px;\">\n",
       "                    <div class=\"item_left\" style=\"width: 210px; float: left;\">\n",
       "                       <a href='https://www.arcgis.com/home/item.html?id=815d51afc1e04638800f937b805d24b4' target='_blank'>\n",
       "                        <img src='https://www.arcgis.com/sharing/rest//content/items/815d51afc1e04638800f937b805d24b4/info/thumbnail/ago_downloaded.png' class=\"itemThumbnail\">\n",
       "                       </a>\n",
       "                    </div>\n",
       "\n",
       "                    <div class=\"item_right\"     style=\"float: none; width: auto; overflow: hidden;\">\n",
       "                        <a href='https://www.arcgis.com/home/item.html?id=815d51afc1e04638800f937b805d24b4' target='_blank'><b>Oakland Transit Stations</b>\n",
       "                        </a>\n",
       "                        <br/>Transit stations in Oakland and neighboring cities.<img src='https://www.arcgis.com/home/js/jsapi/esri/css/images/item_type_icons/featureshosted16.png' style=\"vertical-align:middle;\">Feature Layer Collection by kfong88\n",
       "                        <br/>Last Modified: February 24, 2015\n",
       "                        <br/>0 comments, 22,475 views\n",
       "                    </div>\n",
       "                </div>\n",
       "                "
      ],
      "text/plain": [
       "<Item title:\"Oakland Transit Stations\" type:Feature Layer Collection owner:kfong88>"
      ]
     },
     "metadata": {},
     "output_type": "display_data"
    },
    {
     "data": {
      "text/html": [
       "<div class=\"item_container\" style=\"height: auto; overflow: hidden; border: 1px solid #cfcfcf; border-radius: 2px; background: #f6fafa; line-height: 1.21429em; padding: 10px;\">\n",
       "                    <div class=\"item_left\" style=\"width: 210px; float: left;\">\n",
       "                       <a href='https://www.arcgis.com/home/item.html?id=319a9b8706a242739709753e2b3b97f7' target='_blank'>\n",
       "                        <img src='https://www.arcgis.com/sharing/rest//content/items/319a9b8706a242739709753e2b3b97f7/info/thumbnail/ago_downloaded.png' class=\"itemThumbnail\">\n",
       "                       </a>\n",
       "                    </div>\n",
       "\n",
       "                    <div class=\"item_right\"     style=\"float: none; width: auto; overflow: hidden;\">\n",
       "                        <a href='https://www.arcgis.com/home/item.html?id=319a9b8706a242739709753e2b3b97f7' target='_blank'><b>Oakland_Demographics</b>\n",
       "                        </a>\n",
       "                        <br/><img src='https://www.arcgis.com/home/js/jsapi/esri/css/images/item_type_icons/featureshosted16.png' style=\"vertical-align:middle;\">Feature Layer Collection by antievictionmapdev\n",
       "                        <br/>Last Modified: September 03, 2016\n",
       "                        <br/>0 comments, 22,077 views\n",
       "                    </div>\n",
       "                </div>\n",
       "                "
      ],
      "text/plain": [
       "<Item title:\"Oakland_Demographics\" type:Feature Layer Collection owner:antievictionmapdev>"
      ]
     },
     "metadata": {},
     "output_type": "display_data"
    },
    {
     "data": {
      "text/html": [
       "<div class=\"item_container\" style=\"height: auto; overflow: hidden; border: 1px solid #cfcfcf; border-radius: 2px; background: #f6fafa; line-height: 1.21429em; padding: 10px;\">\n",
       "                    <div class=\"item_left\" style=\"width: 210px; float: left;\">\n",
       "                       <a href='https://www.arcgis.com/home/item.html?id=3b19817b90464e3ab5bd9133ac027d2a' target='_blank'>\n",
       "                        <img src='https://www.arcgis.com/sharing/rest//content/items/3b19817b90464e3ab5bd9133ac027d2a/info/thumbnail/ago_downloaded.png' class=\"itemThumbnail\">\n",
       "                       </a>\n",
       "                    </div>\n",
       "\n",
       "                    <div class=\"item_right\"     style=\"float: none; width: auto; overflow: hidden;\">\n",
       "                        <a href='https://www.arcgis.com/home/item.html?id=3b19817b90464e3ab5bd9133ac027d2a' target='_blank'><b>Oakland</b>\n",
       "                        </a>\n",
       "                        <br/><img src='https://www.arcgis.com/home/js/jsapi/esri/css/images/item_type_icons/features16.png' style=\"vertical-align:middle;\">Feature Collection by achuman\n",
       "                        <br/>Last Modified: April 10, 2017\n",
       "                        <br/>0 comments, 21,916 views\n",
       "                    </div>\n",
       "                </div>\n",
       "                "
      ],
      "text/plain": [
       "<Item title:\"Oakland\" type:Feature Collection owner:achuman>"
      ]
     },
     "metadata": {},
     "output_type": "display_data"
    },
    {
     "data": {
      "text/html": [
       "<div class=\"item_container\" style=\"height: auto; overflow: hidden; border: 1px solid #cfcfcf; border-radius: 2px; background: #f6fafa; line-height: 1.21429em; padding: 10px;\">\n",
       "                    <div class=\"item_left\" style=\"width: 210px; float: left;\">\n",
       "                       <a href='https://www.arcgis.com/home/item.html?id=ecc61a7bee8f4c3ba9f29b6763ac1ecc' target='_blank'>\n",
       "                        <img src='http://static.arcgis.com/images/desktopapp.png' class=\"itemThumbnail\">\n",
       "                       </a>\n",
       "                    </div>\n",
       "\n",
       "                    <div class=\"item_right\"     style=\"float: none; width: auto; overflow: hidden;\">\n",
       "                        <a href='https://www.arcgis.com/home/item.html?id=ecc61a7bee8f4c3ba9f29b6763ac1ecc' target='_blank'><b>Oakland_UD_Eviction</b>\n",
       "                        </a>\n",
       "                        <br/><img src='https://www.arcgis.com/home/js/jsapi/esri/css/images/item_type_icons/featureshosted16.png' style=\"vertical-align:middle;\">Feature Layer Collection by antievictionmapdev\n",
       "                        <br/>Last Modified: September 02, 2016\n",
       "                        <br/>0 comments, 21,038 views\n",
       "                    </div>\n",
       "                </div>\n",
       "                "
      ],
      "text/plain": [
       "<Item title:\"Oakland_UD_Eviction\" type:Feature Layer Collection owner:antievictionmapdev>"
      ]
     },
     "metadata": {},
     "output_type": "display_data"
    }
   ],
   "source": [
    "oaklandResults2 = gis.content.search(query=\"title:Oakland\",item_type=\"Feature *\",\n",
    "                                     sort_field=\"numViews\",sort_order=\"desc\",max_items=5)\n",
    "for item in oaklandResults2:\n",
    "    print(item)\n",
    "for result in oaklandResults2:\n",
    "    display(result)"
   ]
  },
  {
   "cell_type": "code",
   "execution_count": 70,
   "metadata": {},
   "outputs": [
    {
     "name": "stdout",
     "output_type": "stream",
     "text": [
      "10\n"
     ]
    }
   ],
   "source": [
    "oaklandResults3 = gis.content.search(query=\"owner:antievictionmapdev\",item_type=\"Feature *\")\n",
    "print(len(oaklandResults3))"
   ]
  },
  {
   "cell_type": "code",
   "execution_count": 73,
   "metadata": {},
   "outputs": [
    {
     "data": {
      "text/html": [
       "<div class=\"item_container\" style=\"height: auto; overflow: hidden; border: 1px solid #cfcfcf; border-radius: 2px; background: #f6fafa; line-height: 1.21429em; padding: 10px;\">\n",
       "                    <div class=\"item_left\" style=\"width: 210px; float: left;\">\n",
       "                       <a href='https://www.arcgis.com/home/item.html?id=5198679a85d14845a80ce95c2046298e' target='_blank'>\n",
       "                        <img src='https://www.arcgis.com/sharing/rest//content/items/5198679a85d14845a80ce95c2046298e/info/thumbnail/ago_downloaded.png' class=\"itemThumbnail\">\n",
       "                       </a>\n",
       "                    </div>\n",
       "\n",
       "                    <div class=\"item_right\"     style=\"float: none; width: auto; overflow: hidden;\">\n",
       "                        <a href='https://www.arcgis.com/home/item.html?id=5198679a85d14845a80ce95c2046298e' target='_blank'><b>alameda_co_foreclosures_non_ud_2005_15</b>\n",
       "                        </a>\n",
       "                        <br/><img src='https://www.arcgis.com/home/js/jsapi/esri/css/images/item_type_icons/featureshosted16.png' style=\"vertical-align:middle;\">Feature Layer Collection by antievictionmapdev\n",
       "                        <br/>Last Modified: August 23, 2016\n",
       "                        <br/>0 comments, 51 views\n",
       "                    </div>\n",
       "                </div>\n",
       "                "
      ],
      "text/plain": [
       "<Item title:\"alameda_co_foreclosures_non_ud_2005_15\" type:Feature Layer Collection owner:antievictionmapdev>"
      ]
     },
     "metadata": {},
     "output_type": "display_data"
    },
    {
     "data": {
      "text/html": [
       "<div class=\"item_container\" style=\"height: auto; overflow: hidden; border: 1px solid #cfcfcf; border-radius: 2px; background: #f6fafa; line-height: 1.21429em; padding: 10px;\">\n",
       "                    <div class=\"item_left\" style=\"width: 210px; float: left;\">\n",
       "                       <a href='https://www.arcgis.com/home/item.html?id=48a16d36537a42ac8ab73382e8bdca32' target='_blank'>\n",
       "                        <img src='https://www.arcgis.com/sharing/rest//content/items/48a16d36537a42ac8ab73382e8bdca32/info/thumbnail/ago_downloaded.png' class=\"itemThumbnail\">\n",
       "                       </a>\n",
       "                    </div>\n",
       "\n",
       "                    <div class=\"item_right\"     style=\"float: none; width: auto; overflow: hidden;\">\n",
       "                        <a href='https://www.arcgis.com/home/item.html?id=48a16d36537a42ac8ab73382e8bdca32' target='_blank'><b>Ionica 4th</b>\n",
       "                        </a>\n",
       "                        <br/>Route and directions for Ionica 4th<img src='https://www.arcgis.com/home/js/jsapi/esri/css/images/item_type_icons/features16.png' style=\"vertical-align:middle;\">Feature Collection by antievictionmapdev\n",
       "                        <br/>Last Modified: October 02, 2016\n",
       "                        <br/>0 comments, 35 views\n",
       "                    </div>\n",
       "                </div>\n",
       "                "
      ],
      "text/plain": [
       "<Item title:\"Ionica 4th\" type:Feature Collection owner:antievictionmapdev>"
      ]
     },
     "metadata": {},
     "output_type": "display_data"
    },
    {
     "data": {
      "text/html": [
       "<div class=\"item_container\" style=\"height: auto; overflow: hidden; border: 1px solid #cfcfcf; border-radius: 2px; background: #f6fafa; line-height: 1.21429em; padding: 10px;\">\n",
       "                    <div class=\"item_left\" style=\"width: 210px; float: left;\">\n",
       "                       <a href='https://www.arcgis.com/home/item.html?id=96485f766fe14514ae7abe67c1555b5f' target='_blank'>\n",
       "                        <img src='https://www.arcgis.com/sharing/rest//content/items/96485f766fe14514ae7abe67c1555b5f/info/thumbnail/ago_downloaded.gif' class=\"itemThumbnail\">\n",
       "                       </a>\n",
       "                    </div>\n",
       "\n",
       "                    <div class=\"item_right\"     style=\"float: none; width: auto; overflow: hidden;\">\n",
       "                        <a href='https://www.arcgis.com/home/item.html?id=96485f766fe14514ae7abe67c1555b5f' target='_blank'><b>Housing Choice Vouchers Tract 2016</b>\n",
       "                        </a>\n",
       "                        <br/><img src='https://www.arcgis.com/home/js/jsapi/esri/css/images/item_type_icons/featureshosted16.png' style=\"vertical-align:middle;\">Feature Layer Collection by antievictionmapdev\n",
       "                        <br/>Last Modified: June 14, 2017\n",
       "                        <br/>0 comments, 195 views\n",
       "                    </div>\n",
       "                </div>\n",
       "                "
      ],
      "text/plain": [
       "<Item title:\"Housing Choice Vouchers Tract 2016\" type:Feature Layer Collection owner:antievictionmapdev>"
      ]
     },
     "metadata": {},
     "output_type": "display_data"
    },
    {
     "data": {
      "text/html": [
       "<div class=\"item_container\" style=\"height: auto; overflow: hidden; border: 1px solid #cfcfcf; border-radius: 2px; background: #f6fafa; line-height: 1.21429em; padding: 10px;\">\n",
       "                    <div class=\"item_left\" style=\"width: 210px; float: left;\">\n",
       "                       <a href='https://www.arcgis.com/home/item.html?id=fd7d64e836354d39b19edb0a93e9c774' target='_blank'>\n",
       "                        <img src='http://static.arcgis.com/images/desktopapp.png' class=\"itemThumbnail\">\n",
       "                       </a>\n",
       "                    </div>\n",
       "\n",
       "                    <div class=\"item_right\"     style=\"float: none; width: auto; overflow: hidden;\">\n",
       "                        <a href='https://www.arcgis.com/home/item.html?id=fd7d64e836354d39b19edb0a93e9c774' target='_blank'><b>Images</b>\n",
       "                        </a>\n",
       "                        <br/><img src='https://www.arcgis.com/home/js/jsapi/esri/css/images/item_type_icons/featureshosted16.png' style=\"vertical-align:middle;\">Feature Layer Collection by antievictionmapdev\n",
       "                        <br/>Last Modified: June 27, 2018\n",
       "                        <br/>0 comments, 2 views\n",
       "                    </div>\n",
       "                </div>\n",
       "                "
      ],
      "text/plain": [
       "<Item title:\"Images\" type:Feature Layer Collection owner:antievictionmapdev>"
      ]
     },
     "metadata": {},
     "output_type": "display_data"
    },
    {
     "data": {
      "text/html": [
       "<div class=\"item_container\" style=\"height: auto; overflow: hidden; border: 1px solid #cfcfcf; border-radius: 2px; background: #f6fafa; line-height: 1.21429em; padding: 10px;\">\n",
       "                    <div class=\"item_left\" style=\"width: 210px; float: left;\">\n",
       "                       <a href='https://www.arcgis.com/home/item.html?id=4cb3872a548046bd9821b2daa300088f' target='_blank'>\n",
       "                        <img src='http://static.arcgis.com/images/desktopapp.png' class=\"itemThumbnail\">\n",
       "                       </a>\n",
       "                    </div>\n",
       "\n",
       "                    <div class=\"item_right\"     style=\"float: none; width: auto; overflow: hidden;\">\n",
       "                        <a href='https://www.arcgis.com/home/item.html?id=4cb3872a548046bd9821b2daa300088f' target='_blank'><b>transit_routes_bay_area_2008</b>\n",
       "                        </a>\n",
       "                        <br/><img src='https://www.arcgis.com/home/js/jsapi/esri/css/images/item_type_icons/featureshosted16.png' style=\"vertical-align:middle;\">Feature Layer Collection by antievictionmapdev\n",
       "                        <br/>Last Modified: August 17, 2016\n",
       "                        <br/>0 comments, 54 views\n",
       "                    </div>\n",
       "                </div>\n",
       "                "
      ],
      "text/plain": [
       "<Item title:\"transit_routes_bay_area_2008\" type:Feature Layer Collection owner:antievictionmapdev>"
      ]
     },
     "metadata": {},
     "output_type": "display_data"
    },
    {
     "data": {
      "text/html": [
       "<div class=\"item_container\" style=\"height: auto; overflow: hidden; border: 1px solid #cfcfcf; border-radius: 2px; background: #f6fafa; line-height: 1.21429em; padding: 10px;\">\n",
       "                    <div class=\"item_left\" style=\"width: 210px; float: left;\">\n",
       "                       <a href='https://www.arcgis.com/home/item.html?id=e6bfbe0cac7d40829f1c081fcbebf570' target='_blank'>\n",
       "                        <img src='https://www.arcgis.com/sharing/rest//content/items/e6bfbe0cac7d40829f1c081fcbebf570/info/thumbnail/ago_downloaded.png' class=\"itemThumbnail\">\n",
       "                       </a>\n",
       "                    </div>\n",
       "\n",
       "                    <div class=\"item_right\"     style=\"float: none; width: auto; overflow: hidden;\">\n",
       "                        <a href='https://www.arcgis.com/home/item.html?id=e6bfbe0cac7d40829f1c081fcbebf570' target='_blank'><b>CalEnviroScreen</b>\n",
       "                        </a>\n",
       "                        <br/><img src='https://www.arcgis.com/home/js/jsapi/esri/css/images/item_type_icons/featureshosted16.png' style=\"vertical-align:middle;\">Feature Layer Collection by antievictionmapdev\n",
       "                        <br/>Last Modified: November 26, 2018\n",
       "                        <br/>0 comments, 44 views\n",
       "                    </div>\n",
       "                </div>\n",
       "                "
      ],
      "text/plain": [
       "<Item title:\"CalEnviroScreen\" type:Feature Layer Collection owner:antievictionmapdev>"
      ]
     },
     "metadata": {},
     "output_type": "display_data"
    },
    {
     "data": {
      "text/html": [
       "<div class=\"item_container\" style=\"height: auto; overflow: hidden; border: 1px solid #cfcfcf; border-radius: 2px; background: #f6fafa; line-height: 1.21429em; padding: 10px;\">\n",
       "                    <div class=\"item_left\" style=\"width: 210px; float: left;\">\n",
       "                       <a href='https://www.arcgis.com/home/item.html?id=457401c2e80a4fc7adc0a3cbec9eb1d7' target='_blank'>\n",
       "                        <img src='https://www.arcgis.com/sharing/rest//content/items/457401c2e80a4fc7adc0a3cbec9eb1d7/info/thumbnail/ago_downloaded.png' class=\"itemThumbnail\">\n",
       "                       </a>\n",
       "                    </div>\n",
       "\n",
       "                    <div class=\"item_right\"     style=\"float: none; width: auto; overflow: hidden;\">\n",
       "                        <a href='https://www.arcgis.com/home/item.html?id=457401c2e80a4fc7adc0a3cbec9eb1d7' target='_blank'><b>NEI 2014 Total Emissions SE SF</b>\n",
       "                        </a>\n",
       "                        <br/>Layer shows total emissions by facility for all pollutant types in TONS for SF zip codes 94107, 94110, 94124, and 94132 from NEI 2014 data<img src='https://www.arcgis.com/home/js/jsapi/esri/css/images/item_type_icons/featureshosted16.png' style=\"vertical-align:middle;\">Feature Layer Collection by antievictionmapdev\n",
       "                        <br/>Last Modified: April 24, 2019\n",
       "                        <br/>0 comments, 11 views\n",
       "                    </div>\n",
       "                </div>\n",
       "                "
      ],
      "text/plain": [
       "<Item title:\"NEI 2014 Total Emissions SE SF\" type:Feature Layer Collection owner:antievictionmapdev>"
      ]
     },
     "metadata": {},
     "output_type": "display_data"
    },
    {
     "data": {
      "text/html": [
       "<div class=\"item_container\" style=\"height: auto; overflow: hidden; border: 1px solid #cfcfcf; border-radius: 2px; background: #f6fafa; line-height: 1.21429em; padding: 10px;\">\n",
       "                    <div class=\"item_left\" style=\"width: 210px; float: left;\">\n",
       "                       <a href='https://www.arcgis.com/home/item.html?id=0b991acd2fa0401fac11976601e31a0c' target='_blank'>\n",
       "                        <img src='http://static.arcgis.com/images/desktopapp.png' class=\"itemThumbnail\">\n",
       "                       </a>\n",
       "                    </div>\n",
       "\n",
       "                    <div class=\"item_right\"     style=\"float: none; width: auto; overflow: hidden;\">\n",
       "                        <a href='https://www.arcgis.com/home/item.html?id=0b991acd2fa0401fac11976601e31a0c' target='_blank'><b>Leontina 2nd</b>\n",
       "                        </a>\n",
       "                        <br/>Route and directions for Leontina 2nd<img src='https://www.arcgis.com/home/js/jsapi/esri/css/images/item_type_icons/features16.png' style=\"vertical-align:middle;\">Feature Collection by antievictionmapdev\n",
       "                        <br/>Last Modified: October 02, 2016\n",
       "                        <br/>0 comments, 96 views\n",
       "                    </div>\n",
       "                </div>\n",
       "                "
      ],
      "text/plain": [
       "<Item title:\"Leontina 2nd\" type:Feature Collection owner:antievictionmapdev>"
      ]
     },
     "metadata": {},
     "output_type": "display_data"
    },
    {
     "data": {
      "text/html": [
       "<div class=\"item_container\" style=\"height: auto; overflow: hidden; border: 1px solid #cfcfcf; border-radius: 2px; background: #f6fafa; line-height: 1.21429em; padding: 10px;\">\n",
       "                    <div class=\"item_left\" style=\"width: 210px; float: left;\">\n",
       "                       <a href='https://www.arcgis.com/home/item.html?id=0f90f563aaa143d8820de2f70820cabf' target='_blank'>\n",
       "                        <img src='http://static.arcgis.com/images/desktopapp.png' class=\"itemThumbnail\">\n",
       "                       </a>\n",
       "                    </div>\n",
       "\n",
       "                    <div class=\"item_right\"     style=\"float: none; width: auto; overflow: hidden;\">\n",
       "                        <a href='https://www.arcgis.com/home/item.html?id=0f90f563aaa143d8820de2f70820cabf' target='_blank'><b>Katalin 6th</b>\n",
       "                        </a>\n",
       "                        <br/>Route and directions for Katalin 6th<img src='https://www.arcgis.com/home/js/jsapi/esri/css/images/item_type_icons/features16.png' style=\"vertical-align:middle;\">Feature Collection by antievictionmapdev\n",
       "                        <br/>Last Modified: October 02, 2016\n",
       "                        <br/>0 comments, 206 views\n",
       "                    </div>\n",
       "                </div>\n",
       "                "
      ],
      "text/plain": [
       "<Item title:\"Katalin 6th\" type:Feature Collection owner:antievictionmapdev>"
      ]
     },
     "metadata": {},
     "output_type": "display_data"
    },
    {
     "data": {
      "text/html": [
       "<div class=\"item_container\" style=\"height: auto; overflow: hidden; border: 1px solid #cfcfcf; border-radius: 2px; background: #f6fafa; line-height: 1.21429em; padding: 10px;\">\n",
       "                    <div class=\"item_left\" style=\"width: 210px; float: left;\">\n",
       "                       <a href='https://www.arcgis.com/home/item.html?id=0323ce49de7041509b1679235fee78cd' target='_blank'>\n",
       "                        <img src='http://static.arcgis.com/images/desktopapp.png' class=\"itemThumbnail\">\n",
       "                       </a>\n",
       "                    </div>\n",
       "\n",
       "                    <div class=\"item_right\"     style=\"float: none; width: auto; overflow: hidden;\">\n",
       "                        <a href='https://www.arcgis.com/home/item.html?id=0323ce49de7041509b1679235fee78cd' target='_blank'><b>alameda_co_foreclosures_and_uds_2005_15</b>\n",
       "                        </a>\n",
       "                        <br/><img src='https://www.arcgis.com/home/js/jsapi/esri/css/images/item_type_icons/featureshosted16.png' style=\"vertical-align:middle;\">Feature Layer Collection by antievictionmapdev\n",
       "                        <br/>Last Modified: August 23, 2016\n",
       "                        <br/>0 comments, 24 views\n",
       "                    </div>\n",
       "                </div>\n",
       "                "
      ],
      "text/plain": [
       "<Item title:\"alameda_co_foreclosures_and_uds_2005_15\" type:Feature Layer Collection owner:antievictionmapdev>"
      ]
     },
     "metadata": {},
     "output_type": "display_data"
    }
   ],
   "source": [
    "for result in oaklandResults3:\n",
    "    display(result)"
   ]
  },
  {
   "cell_type": "code",
   "execution_count": 5,
   "metadata": {},
   "outputs": [],
   "source": [
    "gis2 = GIS('home')"
   ]
  },
  {
   "cell_type": "code",
   "execution_count": 6,
   "metadata": {},
   "outputs": [
    {
     "data": {
      "text/plain": [
       "'billparkermapping'"
      ]
     },
     "execution_count": 6,
     "metadata": {},
     "output_type": "execute_result"
    }
   ],
   "source": [
    "gis2.properties.user.username"
   ]
  },
  {
   "cell_type": "code",
   "execution_count": 7,
   "metadata": {},
   "outputs": [
    {
     "data": {
      "text/plain": [
       "{\n",
       "  \"username\": \"billparkermapping\",\n",
       "  \"udn\": null,\n",
       "  \"id\": \"2957c297b1694b349253e358600ef1c2\",\n",
       "  \"fullName\": \"Bill Parker\",\n",
       "  \"availableCredits\": 99.13445,\n",
       "  \"assignedCredits\": -1.0,\n",
       "  \"firstName\": \"Bill\",\n",
       "  \"lastName\": \"Parker\",\n",
       "  \"preferredView\": null,\n",
       "  \"description\": null,\n",
       "  \"email\": \"parkerw13@gmail.com\",\n",
       "  \"userType\": \"both\",\n",
       "  \"idpUsername\": \"108731497066547219120\",\n",
       "  \"favGroupId\": \"91d1a72bd67c47d894462f373233b7e0\",\n",
       "  \"lastLogin\": 1635994764000,\n",
       "  \"mfaEnabled\": false,\n",
       "  \"validateUserProfile\": true,\n",
       "  \"storageUsage\": 6151914,\n",
       "  \"storageQuota\": 2199023255552,\n",
       "  \"orgId\": \"HReqYJDJNUe3sQwB\",\n",
       "  \"role\": \"org_admin\",\n",
       "  \"privileges\": [\n",
       "    \"features:user:edit\",\n",
       "    \"features:user:fullEdit\",\n",
       "    \"features:user:manageVersions\",\n",
       "    \"marketplace:admin:manage\",\n",
       "    \"marketplace:admin:purchase\",\n",
       "    \"marketplace:admin:startTrial\",\n",
       "    \"opendata:user:designateGroup\",\n",
       "    \"opendata:user:openDataAdmin\",\n",
       "    \"portal:admin:assignToGroups\",\n",
       "    \"portal:admin:categorizeItems\",\n",
       "    \"portal:admin:changeUserRoles\",\n",
       "    \"portal:admin:createUpdateCapableGroup\",\n",
       "    \"portal:admin:deleteGroups\",\n",
       "    \"portal:admin:deleteItems\",\n",
       "    \"portal:admin:deleteUsers\",\n",
       "    \"portal:admin:disableUsers\",\n",
       "    \"portal:admin:inviteUsers\",\n",
       "    \"portal:admin:manageCollaborations\",\n",
       "    \"portal:admin:manageCredits\",\n",
       "    \"portal:admin:manageEnterpriseGroups\",\n",
       "    \"portal:admin:manageLicenses\",\n",
       "    \"portal:admin:manageRoles\",\n",
       "    \"portal:admin:manageSecurity\",\n",
       "    \"portal:admin:manageServers\",\n",
       "    \"portal:admin:manageUtilityServices\",\n",
       "    \"portal:admin:manageWebsite\",\n",
       "    \"portal:admin:reassignGroups\",\n",
       "    \"portal:admin:reassignItems\",\n",
       "    \"portal:admin:reassignUsers\",\n",
       "    \"portal:admin:shareToGroup\",\n",
       "    \"portal:admin:shareToOrg\",\n",
       "    \"portal:admin:shareToPublic\",\n",
       "    \"portal:admin:updateGroups\",\n",
       "    \"portal:admin:updateItemCategorySchema\",\n",
       "    \"portal:admin:updateItems\",\n",
       "    \"portal:admin:updateUsers\",\n",
       "    \"portal:admin:viewGroups\",\n",
       "    \"portal:admin:viewItems\",\n",
       "    \"portal:admin:viewUsers\",\n",
       "    \"portal:publisher:bulkPublishFromDataStores\",\n",
       "    \"portal:publisher:publishBigDataAnalytics\",\n",
       "    \"portal:publisher:publishDynamicImagery\",\n",
       "    \"portal:publisher:publishFeatures\",\n",
       "    \"portal:publisher:publishFeeds\",\n",
       "    \"portal:publisher:publishRealTimeAnalytics\",\n",
       "    \"portal:publisher:publishScenes\",\n",
       "    \"portal:publisher:publishServerGPServices\",\n",
       "    \"portal:publisher:publishServerServices\",\n",
       "    \"portal:publisher:publishTiledImagery\",\n",
       "    \"portal:publisher:publishTiles\",\n",
       "    \"portal:publisher:registerDataStores\",\n",
       "    \"portal:user:addExternalMembersToGroup\",\n",
       "    \"portal:user:categorizeItems\",\n",
       "    \"portal:user:createGroup\",\n",
       "    \"portal:user:createItem\",\n",
       "    \"portal:user:invitePartneredCollaborationMembers\",\n",
       "    \"portal:user:joinGroup\",\n",
       "    \"portal:user:joinNonOrgGroup\",\n",
       "    \"portal:user:shareGroupToOrg\",\n",
       "    \"portal:user:shareGroupToPublic\",\n",
       "    \"portal:user:shareToGroup\",\n",
       "    \"portal:user:shareToOrg\",\n",
       "    \"portal:user:shareToPublic\",\n",
       "    \"portal:user:viewOrgGroups\",\n",
       "    \"portal:user:viewOrgItems\",\n",
       "    \"portal:user:viewOrgUsers\",\n",
       "    \"portal:user:viewTracks\",\n",
       "    \"premium:publisher:createAdvancedNotebooks\",\n",
       "    \"premium:publisher:createNotebooks\",\n",
       "    \"premium:publisher:geoanalytics\",\n",
       "    \"premium:publisher:rasteranalysis\",\n",
       "    \"premium:publisher:scheduleNotebooks\",\n",
       "    \"premium:user:demographics\",\n",
       "    \"premium:user:elevation\",\n",
       "    \"premium:user:featurereport\",\n",
       "    \"premium:user:geocode\",\n",
       "    \"premium:user:geocode:stored\",\n",
       "    \"premium:user:geocode:temporary\",\n",
       "    \"premium:user:geoenrichment\",\n",
       "    \"premium:user:networkanalysis\",\n",
       "    \"premium:user:networkanalysis:closestfacility\",\n",
       "    \"premium:user:networkanalysis:locationallocation\",\n",
       "    \"premium:user:networkanalysis:optimizedrouting\",\n",
       "    \"premium:user:networkanalysis:origindestinationcostmatrix\",\n",
       "    \"premium:user:networkanalysis:routing\",\n",
       "    \"premium:user:networkanalysis:servicearea\",\n",
       "    \"premium:user:networkanalysis:vehiclerouting\",\n",
       "    \"premium:user:spatialanalysis\"\n",
       "  ],\n",
       "  \"level\": \"2\",\n",
       "  \"userLicenseTypeId\": \"GISProfessionalAdvUT\",\n",
       "  \"disabled\": false,\n",
       "  \"tags\": [],\n",
       "  \"culture\": \"en\",\n",
       "  \"cultureFormat\": null,\n",
       "  \"region\": \"US\",\n",
       "  \"units\": null,\n",
       "  \"thumbnail\": null,\n",
       "  \"access\": \"org\",\n",
       "  \"created\": 1618457635000,\n",
       "  \"modified\": 1627689214000,\n",
       "  \"provider\": \"google\"\n",
       "}"
      ]
     },
     "execution_count": 7,
     "metadata": {},
     "output_type": "execute_result"
    }
   ],
   "source": [
    "gis2.properties.user"
   ]
  },
  {
   "cell_type": "code",
   "execution_count": 8,
   "metadata": {},
   "outputs": [
    {
     "data": {
      "text/plain": [
       "'Bill'"
      ]
     },
     "execution_count": 8,
     "metadata": {},
     "output_type": "execute_result"
    }
   ],
   "source": [
    "firstName = gis2.properties.user.firstName\n",
    "firstName"
   ]
  },
  {
   "cell_type": "code",
   "execution_count": 9,
   "metadata": {},
   "outputs": [
    {
     "data": {
      "text/html": [
       "<div class=\"9item_container\" style=\"height: auto; overflow: hidden; border: 1px solid #cfcfcf; border-radius: 2px; background: #f6fafa; line-height: 1.21429em; padding: 10px;\">\n",
       "                    <div class=\"item_left\" style=\"width: 210px; float: left;\">\n",
       "                       <a href='https://www.arcgis.com//home/user.html?user=billparkermapping' target='_blank'>\n",
       "                        <img src='https://www.arcgis.com//home/js/arcgisonline/css/images/no-user-thumb.jpg' class=\"itemThumbnail\">\n",
       "                       </a>\n",
       "                    </div>\n",
       "\n",
       "                    <div class=\"item_right\" style=\"float: none; width: auto; overflow: hidden;\">\n",
       "                        <a href='https://www.arcgis.com//home/user.html?user=billparkermapping' target='_blank'><b>Bill Parker</b>\n",
       "                        </a>\n",
       "                        <br/><br/><b>Bio</b>: None\n",
       "                        <br/><b>First Name</b>: Bill\n",
       "                        <br/><b>Last Name</b>: Parker\n",
       "                        <br/><b>Username</b>: billparkermapping\n",
       "                        <br/><b>Joined</b>: April 14, 2021\n",
       "\n",
       "                    </div>\n",
       "                </div>\n",
       "                "
      ],
      "text/plain": [
       "<User username:billparkermapping>"
      ]
     },
     "execution_count": 9,
     "metadata": {},
     "output_type": "execute_result"
    }
   ],
   "source": [
    "gis2.users.me"
   ]
  },
  {
   "cell_type": "code",
   "execution_count": 88,
   "metadata": {},
   "outputs": [
    {
     "data": {
      "text/html": [
       "<div class=\"item_container\" style=\"height: auto; overflow: hidden; border: 1px solid #cfcfcf; border-radius: 2px; background: #f6fafa; line-height: 1.21429em; padding: 10px;\">\n",
       "                    <div class=\"item_left\" style=\"width: 210px; float: left;\">\n",
       "                       <a href='https://www.arcgis.com//home/item.html?id=d11d39ac5ee141d8a649a3098cc8039a' target='_blank'>\n",
       "                        <img src='http://static.arcgis.com/images/desktopapp.png' class=\"itemThumbnail\">\n",
       "                       </a>\n",
       "                    </div>\n",
       "\n",
       "                    <div class=\"item_right\"     style=\"float: none; width: auto; overflow: hidden;\">\n",
       "                        <a href='https://www.arcgis.com//home/item.html?id=d11d39ac5ee141d8a649a3098cc8039a' target='_blank'><b>Alameda County Farmers Market_fieldworker</b>\n",
       "                        </a>\n",
       "                        <br/><img src='https://www.arcgis.com//home/js/jsapi/esri/css/images/item_type_icons/featureshosted16.png' style=\"vertical-align:middle;\">Feature Layer Collection by billparkermapping\n",
       "                        <br/>Last Modified: July 26, 2021\n",
       "                        <br/>0 comments, 0 views\n",
       "                    </div>\n",
       "                </div>\n",
       "                "
      ],
      "text/plain": [
       "<Item title:\"Alameda County Farmers Market_fieldworker\" type:Feature Layer Collection owner:billparkermapping>"
      ]
     },
     "metadata": {},
     "output_type": "display_data"
    },
    {
     "data": {
      "text/html": [
       "<div class=\"item_container\" style=\"height: auto; overflow: hidden; border: 1px solid #cfcfcf; border-radius: 2px; background: #f6fafa; line-height: 1.21429em; padding: 10px;\">\n",
       "                    <div class=\"item_left\" style=\"width: 210px; float: left;\">\n",
       "                       <a href='https://www.arcgis.com//home/item.html?id=15478346101f43548714e12b69278f17' target='_blank'>\n",
       "                        <img src='http://static.arcgis.com/images/desktopapp.png' class=\"itemThumbnail\">\n",
       "                       </a>\n",
       "                    </div>\n",
       "\n",
       "                    <div class=\"item_right\"     style=\"float: none; width: auto; overflow: hidden;\">\n",
       "                        <a href='https://www.arcgis.com//home/item.html?id=15478346101f43548714e12b69278f17' target='_blank'><b>Alameda County Farmers Market_stakeholder</b>\n",
       "                        </a>\n",
       "                        <br/><img src='https://www.arcgis.com//home/js/jsapi/esri/css/images/item_type_icons/featureshosted16.png' style=\"vertical-align:middle;\">Feature Layer Collection by billparkermapping\n",
       "                        <br/>Last Modified: July 26, 2021\n",
       "                        <br/>0 comments, 0 views\n",
       "                    </div>\n",
       "                </div>\n",
       "                "
      ],
      "text/plain": [
       "<Item title:\"Alameda County Farmers Market_stakeholder\" type:Feature Layer Collection owner:billparkermapping>"
      ]
     },
     "metadata": {},
     "output_type": "display_data"
    },
    {
     "data": {
      "text/html": [
       "<div class=\"item_container\" style=\"height: auto; overflow: hidden; border: 1px solid #cfcfcf; border-radius: 2px; background: #f6fafa; line-height: 1.21429em; padding: 10px;\">\n",
       "                    <div class=\"item_left\" style=\"width: 210px; float: left;\">\n",
       "                       <a href='https://www.arcgis.com//home/item.html?id=c725bab3c8584a4081be11bf5ccc3e4f' target='_blank'>\n",
       "                        <img src='http://static.arcgis.com/images/desktopapp.png' class=\"itemThumbnail\">\n",
       "                       </a>\n",
       "                    </div>\n",
       "\n",
       "                    <div class=\"item_right\"     style=\"float: none; width: auto; overflow: hidden;\">\n",
       "                        <a href='https://www.arcgis.com//home/item.html?id=c725bab3c8584a4081be11bf5ccc3e4f' target='_blank'><b>Alameda County Farmers Market</b>\n",
       "                        </a>\n",
       "                        <br/><img src='https://www.arcgis.com//home/js/jsapi/esri/css/images/item_type_icons/featureshosted16.png' style=\"vertical-align:middle;\">Feature Layer Collection by billparkermapping\n",
       "                        <br/>Last Modified: July 26, 2021\n",
       "                        <br/>0 comments, 0 views\n",
       "                    </div>\n",
       "                </div>\n",
       "                "
      ],
      "text/plain": [
       "<Item title:\"Alameda County Farmers Market\" type:Feature Layer Collection owner:billparkermapping>"
      ]
     },
     "metadata": {},
     "output_type": "display_data"
    }
   ],
   "source": [
    "searchResults = gis2.content.search(query=\"*\",item_type=\"Feature Layer\")\n",
    "for result in searchResults:\n",
    "    display(result)"
   ]
  },
  {
   "cell_type": "code",
   "execution_count": 89,
   "metadata": {},
   "outputs": [
    {
     "data": {
      "text/html": [
       "<div class=\"item_container\" style=\"height: auto; overflow: hidden; border: 1px solid #cfcfcf; border-radius: 2px; background: #f6fafa; line-height: 1.21429em; padding: 10px;\">\n",
       "                    <div class=\"item_left\" style=\"width: 210px; float: left;\">\n",
       "                       <a href='https://www.arcgis.com//home/item.html?id=d11d39ac5ee141d8a649a3098cc8039a' target='_blank'>\n",
       "                        <img src='http://static.arcgis.com/images/desktopapp.png' class=\"itemThumbnail\">\n",
       "                       </a>\n",
       "                    </div>\n",
       "\n",
       "                    <div class=\"item_right\"     style=\"float: none; width: auto; overflow: hidden;\">\n",
       "                        <a href='https://www.arcgis.com//home/item.html?id=d11d39ac5ee141d8a649a3098cc8039a' target='_blank'><b>Alameda County Farmers Market_fieldworker</b>\n",
       "                        </a>\n",
       "                        <br/><img src='https://www.arcgis.com//home/js/jsapi/esri/css/images/item_type_icons/featureshosted16.png' style=\"vertical-align:middle;\">Feature Layer Collection by billparkermapping\n",
       "                        <br/>Last Modified: July 26, 2021\n",
       "                        <br/>0 comments, 0 views\n",
       "                    </div>\n",
       "                </div>\n",
       "                "
      ],
      "text/plain": [
       "<Item title:\"Alameda County Farmers Market_fieldworker\" type:Feature Layer Collection owner:billparkermapping>"
      ]
     },
     "metadata": {},
     "output_type": "display_data"
    },
    {
     "data": {
      "text/html": [
       "<div class=\"item_container\" style=\"height: auto; overflow: hidden; border: 1px solid #cfcfcf; border-radius: 2px; background: #f6fafa; line-height: 1.21429em; padding: 10px;\">\n",
       "                    <div class=\"item_left\" style=\"width: 210px; float: left;\">\n",
       "                       <a href='https://www.arcgis.com//home/item.html?id=15478346101f43548714e12b69278f17' target='_blank'>\n",
       "                        <img src='data:image/png;base64,iVBORw0KGgoAAAANSUhEUgAAAMgAAACFCAYAAAAenrcsAAACLklEQVR4Xu3XMctPYRjA4XeQ4hMw2KyyKCW7svsIFlEmu8U3MTBZjDYmmVmEspGUQcn73h5R6pTfet7huuru3/+ce3v61XMOBvivg+0D4B+BQBAIBIFAEAgEgUAQCASBQBAIBIFAEAgEgUAQCASBQBAIBIFAEAgEgUAQCASBQBAIBIFAEAgEgUAQCASBQBAIBIFAEAgEgUAQCASBQBAIBIFAEAgEgUAQCASBQBAIBIFAEAgEgUAQCASBQBAIBIFAEAgEgUAQCASBQBAIBIFAEAgEgUAQCASBQBAIBIFAEAgEgUAQCASBQBDIsfJ85ueVmW9XZ44+bF+yA4EcGz9mPp6fubOO5Mma79e2C+xAIMfGy5kb6zgO1pxY8/7ydoEdCOTYWFequyf/BHJ2zef72wV2IJDdfZ05fLF+365r1eOZZxdm3t3+85zdCWRX67vj6cWZc+sYbp1aoTzbLrAzgezq1cz1v98dv+f1ze0COxPIrr7MPDgzc3odw6U13x9uF9iZQPZ29Gbm071123q0/hxu37IzgUAQCASBQBAIBIFAEAgEgUAQCASBQBAIBIFAEAgEgUAQCASBQBAIBIFAEAgEgUAQCASBQBAIBIFAEAgEgUAQCASBQBAIBIFAEAgEgUAQCASBQBAIBIFAEAgEgUAQCASBQBAIBIFAEAgEgUAQCASBQBAIBIFAEAgEgUAQCASBQBAIBIFAEAgEgUAQCASBQBAIBIFAEAgEgUD4BUmB8G17rivEAAAAAElFTkSuQmCC' width='200' height='133' class=\"itemThumbnail\">\n",
       "                       </a>\n",
       "                    </div>\n",
       "\n",
       "                    <div class=\"item_right\"     style=\"float: none; width: auto; overflow: hidden;\">\n",
       "                        <a href='https://www.arcgis.com//home/item.html?id=15478346101f43548714e12b69278f17' target='_blank'><b>Alameda County Farmers Market_stakeholder</b>\n",
       "                        </a>\n",
       "                        <br/><img src='https://www.arcgis.com//home/js/jsapi/esri/css/images/item_type_icons/featureshosted16.png' style=\"vertical-align:middle;\">Feature Layer Collection by billparkermapping\n",
       "                        <br/>Last Modified: July 31, 2021\n",
       "                        <br/>0 comments, 0 views\n",
       "                    </div>\n",
       "                </div>\n",
       "                "
      ],
      "text/plain": [
       "<Item title:\"Alameda County Farmers Market_stakeholder\" type:Feature Layer Collection owner:billparkermapping>"
      ]
     },
     "metadata": {},
     "output_type": "display_data"
    },
    {
     "data": {
      "text/html": [
       "<div class=\"item_container\" style=\"height: auto; overflow: hidden; border: 1px solid #cfcfcf; border-radius: 2px; background: #f6fafa; line-height: 1.21429em; padding: 10px;\">\n",
       "                    <div class=\"item_left\" style=\"width: 210px; float: left;\">\n",
       "                       <a href='https://www.arcgis.com//home/item.html?id=c725bab3c8584a4081be11bf5ccc3e4f' target='_blank'>\n",
       "                        <img src='data:image/png;base64,iVBORw0KGgoAAAANSUhEUgAAAMgAAACFCAYAAAAenrcsAAACL0lEQVR4Xu3XIYsVYRSA4RtE0F+gYLSKcRHsgt2fYBEFq9HiP7FosRi3aRHMWgQFmyKaFhd3jyMrCAO+dW54HjgMd+a0j5c7sxvgv3brG8A/AoEgEAgCgSAQCAKBIBAIAoEgEAgCgSAQCAKBIBAIAoEgEAgCgSAQCAKBIBAIAoEgEAgCgSAQCAKBIBAIAoEgEAgCgSAQCAKBIBAIAoEgEAgCgSAQCAKBIBAIAoEgEAgCgSAQCAKBIBAIAoEgEAgCgSAQCAKBIBAIAoEgEAgCgSAQCAKBIBAIAoEgEAgCgSAQCAKBIBAIAoEgkL3yaubXwcyPmzOnn9YP2YBA9sbxzOerMw+WI3mxzNGt9QIbEMjeeDNzZzmO3TLnlvl4sF5gAwLZG8sr1cPzZ4FcXubr4/UCGxDI5r7PnLxerh+W16pnM4fXln+P+2f32ZxANvVz5uX1mSvLMdy7sIRyuF5gYwLZ1NuZ23+/O/7Mu7vrBTYmkE19m3lyaebicgw3ljl6ul5gYwLZ2un7mS+PZo6fLz9O1k/ZmEAgCASCQCAIBIJAIAgEgkAgCASCQCAIBIJAIAgEgkAgCASCQCAIBIJAIAgEgkAgCASCQCAIBIJAIAgEgkAgCASCQCAIBIJAIAgEgkAgCASCQCAIBIJAIAgEgkAgCASCQCAIBIJAIAgEgkAgCASCQCAIBIJAIAgEgkAgCASCQCAIBIJAIAgEgkAgCASCQCAIBIJAIAgEgkAg/AYEkPBwSKbRPAAAAABJRU5ErkJggg==' width='200' height='133' class=\"itemThumbnail\">\n",
       "                       </a>\n",
       "                    </div>\n",
       "\n",
       "                    <div class=\"item_right\"     style=\"float: none; width: auto; overflow: hidden;\">\n",
       "                        <a href='https://www.arcgis.com//home/item.html?id=c725bab3c8584a4081be11bf5ccc3e4f' target='_blank'><b>Alameda County Farmers Market</b>\n",
       "                        </a>\n",
       "                        <br/><img src='https://www.arcgis.com//home/js/jsapi/esri/css/images/item_type_icons/featureshosted16.png' style=\"vertical-align:middle;\">Feature Layer Collection by billparkermapping\n",
       "                        <br/>Last Modified: July 31, 2021\n",
       "                        <br/>0 comments, 4 views\n",
       "                    </div>\n",
       "                </div>\n",
       "                "
      ],
      "text/plain": [
       "<Item title:\"Alameda County Farmers Market\" type:Feature Layer Collection owner:billparkermapping>"
      ]
     },
     "metadata": {},
     "output_type": "display_data"
    }
   ],
   "source": [
    "searchResults = gis2.content.search(query=\"owner:\"+gis2.users.me.username,item_type=\"Feature Layer\")\n",
    "for result in searchResults:\n",
    "    display(result)"
   ]
  },
  {
   "cell_type": "code",
   "execution_count": 90,
   "metadata": {},
   "outputs": [
    {
     "data": {
      "text/html": [
       "<div class=\"item_container\" style=\"height: auto; overflow: hidden; border: 1px solid #cfcfcf; border-radius: 2px; background: #f6fafa; line-height: 1.21429em; padding: 10px;\">\n",
       "                    <div class=\"item_left\" style=\"width: 210px; float: left;\">\n",
       "                       <a href='https://www.arcgis.com//home/item.html?id=29b3999267c44221ab0639bfd94ba2dc' target='_blank'>\n",
       "                        <img src='data:image/png;base64,R0lGODlhBQAFAID/AMDAwAAAACH5BAEAAAAALAAAAAAFAAUAQAIEhI+pWAA7' width='200' height='133' class=\"itemThumbnail\">\n",
       "                       </a>\n",
       "                    </div>\n",
       "\n",
       "                    <div class=\"item_right\"     style=\"float: none; width: auto; overflow: hidden;\">\n",
       "                        <a href='https://www.arcgis.com//home/item.html?id=29b3999267c44221ab0639bfd94ba2dc' target='_blank'><b>Oakland City Limit Line</b>\n",
       "                        </a>\n",
       "                        <br/><img src='https://www.arcgis.com//home/js/jsapi/esri/css/images/item_type_icons/featureshosted16.png' style=\"vertical-align:middle;\">Feature Layer Collection by davidlok\n",
       "                        <br/>Last Modified: July 15, 2020\n",
       "                        <br/>0 comments, 74,659 views\n",
       "                    </div>\n",
       "                </div>\n",
       "                "
      ],
      "text/plain": [
       "<Item title:\"Oakland City Limit Line\" type:Feature Layer Collection owner:davidlok>"
      ]
     },
     "metadata": {},
     "output_type": "display_data"
    },
    {
     "data": {
      "text/html": [
       "<div class=\"item_container\" style=\"height: auto; overflow: hidden; border: 1px solid #cfcfcf; border-radius: 2px; background: #f6fafa; line-height: 1.21429em; padding: 10px;\">\n",
       "                    <div class=\"item_left\" style=\"width: 210px; float: left;\">\n",
       "                       <a href='https://www.arcgis.com//home/item.html?id=815d51afc1e04638800f937b805d24b4' target='_blank'>\n",
       "                        <img src='data:image/png;base64,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' width='200' height='133' class=\"itemThumbnail\">\n",
       "                       </a>\n",
       "                    </div>\n",
       "\n",
       "                    <div class=\"item_right\"     style=\"float: none; width: auto; overflow: hidden;\">\n",
       "                        <a href='https://www.arcgis.com//home/item.html?id=815d51afc1e04638800f937b805d24b4' target='_blank'><b>Oakland Transit Stations</b>\n",
       "                        </a>\n",
       "                        <br/>Transit stations in Oakland and neighboring cities.<img src='https://www.arcgis.com//home/js/jsapi/esri/css/images/item_type_icons/featureshosted16.png' style=\"vertical-align:middle;\">Feature Layer Collection by kfong88\n",
       "                        <br/>Last Modified: February 24, 2015\n",
       "                        <br/>0 comments, 22,478 views\n",
       "                    </div>\n",
       "                </div>\n",
       "                "
      ],
      "text/plain": [
       "<Item title:\"Oakland Transit Stations\" type:Feature Layer Collection owner:kfong88>"
      ]
     },
     "metadata": {},
     "output_type": "display_data"
    },
    {
     "data": {
      "text/html": [
       "<div class=\"item_container\" style=\"height: auto; overflow: hidden; border: 1px solid #cfcfcf; border-radius: 2px; background: #f6fafa; line-height: 1.21429em; padding: 10px;\">\n",
       "                    <div class=\"item_left\" style=\"width: 210px; float: left;\">\n",
       "                       <a href='https://www.arcgis.com//home/item.html?id=319a9b8706a242739709753e2b3b97f7' target='_blank'>\n",
       "                        <img src='data:image/png;base64,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' width='200' height='133' class=\"itemThumbnail\">\n",
       "                       </a>\n",
       "                    </div>\n",
       "\n",
       "                    <div class=\"item_right\"     style=\"float: none; width: auto; overflow: hidden;\">\n",
       "                        <a href='https://www.arcgis.com//home/item.html?id=319a9b8706a242739709753e2b3b97f7' target='_blank'><b>Oakland_Demographics</b>\n",
       "                        </a>\n",
       "                        <br/><img src='https://www.arcgis.com//home/js/jsapi/esri/css/images/item_type_icons/featureshosted16.png' style=\"vertical-align:middle;\">Feature Layer Collection by antievictionmapdev\n",
       "                        <br/>Last Modified: September 03, 2016\n",
       "                        <br/>0 comments, 22,077 views\n",
       "                    </div>\n",
       "                </div>\n",
       "                "
      ],
      "text/plain": [
       "<Item title:\"Oakland_Demographics\" type:Feature Layer Collection owner:antievictionmapdev>"
      ]
     },
     "metadata": {},
     "output_type": "display_data"
    },
    {
     "data": {
      "text/html": [
       "<div class=\"item_container\" style=\"height: auto; overflow: hidden; border: 1px solid #cfcfcf; border-radius: 2px; background: #f6fafa; line-height: 1.21429em; padding: 10px;\">\n",
       "                    <div class=\"item_left\" style=\"width: 210px; float: left;\">\n",
       "                       <a href='https://www.arcgis.com//home/item.html?id=3b19817b90464e3ab5bd9133ac027d2a' target='_blank'>\n",
       "                        <img src='data:image/png;base64,iVBORw0KGgoAAAANSUhEUgAAAMgAAACFCAIAAACR/CB7AAAACXBIWXMAAA7EAAAOxAGVKw4bAAACB0lEQVR4nO3ZS1LCQBRAUbXcRfa/tF5HHGBpRJuPckXknBGhAtWDW49087iu6wNc2tO1F8D/JCwSwiIhLBLCIiEsEsIiISwSwiIhLBLCIiEsEsIiISwSwiIhLBLCIiEsEsIiISwSwiIhLBLCIiEsEsIiISwSwiIhLBLCIiEsEsIiISwSwiIhLBLCIiEsEsIiISwSwiIhLBLCIiEsEsIiISwSwiIhLBLCIiEsEsIiISwSwiIhLBLCIiEsEsIiISwSwiIhLBLCIvF87QXchmVZtpdjjGut5FY8rut67TX8Cbt03opZlmX7evYphc0I69WX9Ywxtu+fktrenXdLWO+O5vLwqRjDbEZYH8x+AWeja/YlR+/59+wKP9jWsFfG9vKU2XbnhHWGMcZ2nsnrAGGdzeg6hbCm3qL5/LS0N7p+dVk3Qljfp60DhPUjd771O0BYX/v2EDK9dpxjTZ14HDU7sk/WdDv8CX1hktoR1mXoaY9nLBIm1pQh9BMmFgm7QhImFglhkRAWCWGREBYJYZEQFglhkRAWCWGREBYJYZEQFglhkRAWCWGREBYJYZEQFglhkRAWCWGREBYJYZEQFglhkRAWCWGREBYJYZEQFglhkRAWCWGREBYJYZEQFglhkRAWCWGREBYJYZEQFglhkRAWCWGREBYJYZEQFglhkRAWCWGREBYJYZF4Aby0a2LW/He2AAAAAElFTkSuQmCC' width='200' height='133' class=\"itemThumbnail\">\n",
       "                       </a>\n",
       "                    </div>\n",
       "\n",
       "                    <div class=\"item_right\"     style=\"float: none; width: auto; overflow: hidden;\">\n",
       "                        <a href='https://www.arcgis.com//home/item.html?id=3b19817b90464e3ab5bd9133ac027d2a' target='_blank'><b>Oakland</b>\n",
       "                        </a>\n",
       "                        <br/><img src='https://www.arcgis.com//home/js/jsapi/esri/css/images/item_type_icons/features16.png' style=\"vertical-align:middle;\">Feature Collection by achuman\n",
       "                        <br/>Last Modified: April 10, 2017\n",
       "                        <br/>0 comments, 21,916 views\n",
       "                    </div>\n",
       "                </div>\n",
       "                "
      ],
      "text/plain": [
       "<Item title:\"Oakland\" type:Feature Collection owner:achuman>"
      ]
     },
     "metadata": {},
     "output_type": "display_data"
    },
    {
     "data": {
      "text/html": [
       "<div class=\"item_container\" style=\"height: auto; overflow: hidden; border: 1px solid #cfcfcf; border-radius: 2px; background: #f6fafa; line-height: 1.21429em; padding: 10px;\">\n",
       "                    <div class=\"item_left\" style=\"width: 210px; float: left;\">\n",
       "                       <a href='https://www.arcgis.com//home/item.html?id=ecc61a7bee8f4c3ba9f29b6763ac1ecc' target='_blank'>\n",
       "                        <img src='http://static.arcgis.com/images/desktopapp.png' class=\"itemThumbnail\">\n",
       "                       </a>\n",
       "                    </div>\n",
       "\n",
       "                    <div class=\"item_right\"     style=\"float: none; width: auto; overflow: hidden;\">\n",
       "                        <a href='https://www.arcgis.com//home/item.html?id=ecc61a7bee8f4c3ba9f29b6763ac1ecc' target='_blank'><b>Oakland_UD_Eviction</b>\n",
       "                        </a>\n",
       "                        <br/><img src='https://www.arcgis.com//home/js/jsapi/esri/css/images/item_type_icons/featureshosted16.png' style=\"vertical-align:middle;\">Feature Layer Collection by antievictionmapdev\n",
       "                        <br/>Last Modified: September 02, 2016\n",
       "                        <br/>0 comments, 21,038 views\n",
       "                    </div>\n",
       "                </div>\n",
       "                "
      ],
      "text/plain": [
       "<Item title:\"Oakland_UD_Eviction\" type:Feature Layer Collection owner:antievictionmapdev>"
      ]
     },
     "metadata": {},
     "output_type": "display_data"
    }
   ],
   "source": [
    "oaklandResultsHome = gis2.content.search(query=\"title:Oakland\",item_type=\"Feature *\",\n",
    "                                     sort_field=\"numViews\",sort_order=\"desc\",max_items=5,outside_org=True)\n",
    "for result in oaklandResultsHome:\n",
    "    display(result)"
   ]
  },
  {
   "cell_type": "code",
   "execution_count": null,
   "metadata": {},
   "outputs": [],
   "source": []
  }
 ],
 "metadata": {
  "kernelspec": {
   "display_name": "ArcGISPro",
   "language": "Python",
   "name": "python3"
  },
  "language_info": {
   "file_extension": ".py",
   "name": "python",
   "version": "3"
  }
 },
 "nbformat": 4,
 "nbformat_minor": 2
}
