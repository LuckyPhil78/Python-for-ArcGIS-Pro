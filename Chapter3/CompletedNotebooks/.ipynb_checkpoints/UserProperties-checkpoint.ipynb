{
 "cells": [
  {
   "cell_type": "code",
   "execution_count": 6,
   "metadata": {},
   "outputs": [],
   "source": [
    "from arcgis.gis import GIS\n",
    "from IPython.display import display\n",
    "gis = GIS('home')"
   ]
  },
  {
   "cell_type": "code",
   "execution_count": 7,
   "metadata": {
    "scrolled": true
   },
   "outputs": [
    {
     "data": {
      "text/html": [
       "<div class=\"9item_container\" style=\"height: auto; overflow: hidden; border: 1px solid #cfcfcf; border-radius: 2px; background: #f6fafa; line-height: 1.21429em; padding: 10px;\">\n",
       "                    <div class=\"item_left\" style=\"width: 210px; float: left;\">\n",
       "                       <a href='https://www.arcgis.com//home/user.html?user=billparkermapping' target='_blank'>\n",
       "                        <img src='https://www.arcgis.com//home/js/arcgisonline/css/images/no-user-thumb.jpg' class=\"itemThumbnail\">\n",
       "                       </a>\n",
       "                    </div>\n",
       "\n",
       "                    <div class=\"item_right\" style=\"float: none; width: auto; overflow: hidden;\">\n",
       "                        <a href='https://www.arcgis.com//home/user.html?user=billparkermapping' target='_blank'><b>Bill Parker</b>\n",
       "                        </a>\n",
       "                        <br/><br/><b>Bio</b>: None\n",
       "                        <br/><b>First Name</b>: Bill\n",
       "                        <br/><b>Last Name</b>: Parker\n",
       "                        <br/><b>Username</b>: billparkermapping\n",
       "                        <br/><b>Joined</b>: April 14, 2021\n",
       "\n",
       "                    </div>\n",
       "                </div>\n",
       "                "
      ],
      "text/plain": [
       "<User username:billparkermapping>"
      ]
     },
     "execution_count": 7,
     "metadata": {},
     "output_type": "execute_result"
    }
   ],
   "source": [
    "me = gis.users.me\n",
    "me"
   ]
  },
  {
   "cell_type": "code",
   "execution_count": 8,
   "metadata": {},
   "outputs": [
    {
     "name": "stdout",
     "output_type": "stream",
     "text": [
      "First Name:           Bill\n",
      "Last Name:            Parker\n",
      "email:                parkerw13@gmail.com\n",
      "Last Accessed:        8/3/2021\n",
      "Groups:               Census Demographic Data, Alameda County Farmers Markets, City of Oakland Buses And Parks\n",
      "Storage Assigned:     2199023255552.\n",
      "Storage Used:         5786339.\n",
      "Percent Storage Used: 0.0003\n"
     ]
    }
   ],
   "source": [
    "import time\n",
    "firstName = me.firstName\n",
    "lastName = me.lastName\n",
    "email = me.email\n",
    "accessedLast = time.localtime(me.lastLogin/1000)\n",
    "groups = me.groups\n",
    "myGroupsList =[]\n",
    "for group in groups:\n",
    "    groupName = group[\"title\"]\n",
    "    myGroupsList.append(groupName)\n",
    "groupsName = \", \".join(myGroupsList)\n",
    "storageAssigned = me.storageQuota\n",
    "storageUsed = me.storageUsage\n",
    "prctStorage = round((storageUsed/storageAssigned)*100,4)\n",
    "\n",
    "\n",
    "print(\"First Name:           {0}\".format(firstName))\n",
    "print(\"Last Name:            {0}\".format(lastName))\n",
    "print(\"email:                {0}\".format(email))\n",
    "print(\"Last Accessed:        {0}/{1}/{2}\".format(accessedLast[1],accessedLast[2],accessedLast[0]))\n",
    "print(\"Groups:               {0}\".format(groupsName))\n",
    "print(\"Storage Assigned:     {0}.\".format(storageAssigned))\n",
    "print(\"Storage Used:         {0}.\".format(storageUsed))\n",
    "print(\"Percent Storage Used: {0}\".format(prctStorage))"
   ]
  },
  {
   "cell_type": "code",
   "execution_count": null,
   "metadata": {},
   "outputs": [],
   "source": []
  }
 ],
 "metadata": {
  "kernelspec": {
   "display_name": "ArcGISPro",
   "language": "Python",
   "name": "python3"
  },
  "language_info": {
   "file_extension": ".py",
   "name": "python",
   "version": "3"
  }
 },
 "nbformat": 4,
 "nbformat_minor": 2
}
