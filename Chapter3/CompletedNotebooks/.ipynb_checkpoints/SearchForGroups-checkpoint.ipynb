{
 "cells": [
  {
   "cell_type": "code",
   "execution_count": 143,
   "metadata": {},
   "outputs": [],
   "source": [
    "from arcgis.gis import GIS\n",
    "from IPython.display import display\n",
    "gis = GIS()"
   ]
  },
  {
   "cell_type": "code",
   "execution_count": 144,
   "metadata": {},
   "outputs": [
    {
     "data": {
      "text/html": [
       "<div class=\"9item_container\" style=\"height: auto; overflow: hidden; border: 1px solid #cfcfcf; border-radius: 2px; background: #f6fafa; line-height: 1.21429em; padding: 10px;\">\n",
       "                    <div class=\"item_left\" style=\"width: 210px; float: left;\">\n",
       "                       <a href='https://www.arcgis.com/home/group.html?id=ae0252ba6fd64ab8bb2b8e507d659c51' target='_blank'>\n",
       "                        <img src='https://www.arcgis.com/home/images/group-no-image.png' class=\"itemThumbnail\">\n",
       "                       </a>\n",
       "                    </div>\n",
       "\n",
       "                    <div class=\"item_right\" style=\"float: none; width: auto; overflow: hidden;\">\n",
       "                        <a href='https://www.arcgis.com/home/group.html?id=ae0252ba6fd64ab8bb2b8e507d659c51' target='_blank'><b>Access Oakland - 1 Content</b>\n",
       "                        </a>\n",
       "                        <br/>\n",
       "                        <br/><b>Summary</b>: Applications, maps, data, etc. shared with this group generates the Access Oakland - 1 content catalog.\n",
       "                        <br/><b>Description</b>: Use this group to organize the items that you want to share as part of your site. Shared items become available in your site's search results and only people who have access to these items will be able to find them. Members of the core team get access to shared items and can update them at any time. Certain cards, like the Gallery card, will automatically populate with shared items so that you don't have to search for them when choosing what you want to display on your site.<br /><br />Contact support with any questions related to this group or content management for your site.<br /><br /><strong>DO NOT DELETE THIS GROUP.</strong>\n",
       "                        <br/><b>Owner</b>: DebusB@oakgov.com_oakgov\n",
       "                        <br/><b>Created</b>: June 01, 2020\n",
       "\n",
       "                    </div>\n",
       "                </div>\n",
       "                "
      ],
      "text/plain": [
       "<Group title:\"Access Oakland - 1 Content\" owner:DebusB@oakgov.com_oakgov>"
      ]
     },
     "metadata": {},
     "output_type": "display_data"
    },
    {
     "data": {
      "text/html": [
       "<div class=\"9item_container\" style=\"height: auto; overflow: hidden; border: 1px solid #cfcfcf; border-radius: 2px; background: #f6fafa; line-height: 1.21429em; padding: 10px;\">\n",
       "                    <div class=\"item_left\" style=\"width: 210px; float: left;\">\n",
       "                       <a href='https://www.arcgis.com/home/group.html?id=116f763fed89420f99a39deb69e18844' target='_blank'>\n",
       "                        <img src='https://www.arcgis.com/home/images/group-no-image.png' class=\"itemThumbnail\">\n",
       "                       </a>\n",
       "                    </div>\n",
       "\n",
       "                    <div class=\"item_right\" style=\"float: none; width: auto; overflow: hidden;\">\n",
       "                        <a href='https://www.arcgis.com/home/group.html?id=116f763fed89420f99a39deb69e18844' target='_blank'><b>Access Oakland - 1 Content 1</b>\n",
       "                        </a>\n",
       "                        <br/>\n",
       "                        <br/><b>Summary</b>: Applications, maps, data, etc. shared with this group generates the Access Oakland - 1 content catalog.\n",
       "                        <br/><b>Description</b>: Use this group to organize the items that you want to share as part of your site. Shared items become available in your site's search results and only people who have access to these items will be able to find them. Members of the core team get access to shared items and can update them at any time. Certain cards, like the Gallery card, will automatically populate with shared items so that you don't have to search for them when choosing what you want to display on your site.<br /><br />Contact support with any questions related to this group or content management for your site.<br /><br /><strong>DO NOT DELETE THIS GROUP.</strong>\n",
       "                        <br/><b>Owner</b>: DebusB@oakgov.com_oakgov\n",
       "                        <br/><b>Created</b>: June 01, 2020\n",
       "\n",
       "                    </div>\n",
       "                </div>\n",
       "                "
      ],
      "text/plain": [
       "<Group title:\"Access Oakland - 1 Content 1\" owner:DebusB@oakgov.com_oakgov>"
      ]
     },
     "metadata": {},
     "output_type": "display_data"
    },
    {
     "data": {
      "text/html": [
       "<div class=\"9item_container\" style=\"height: auto; overflow: hidden; border: 1px solid #cfcfcf; border-radius: 2px; background: #f6fafa; line-height: 1.21429em; padding: 10px;\">\n",
       "                    <div class=\"item_left\" style=\"width: 210px; float: left;\">\n",
       "                       <a href='https://www.arcgis.com/home/group.html?id=b26fbaf90292436db5f40ea29f050000' target='_blank'>\n",
       "                        <img src='https://www.arcgis.com/home/images/group-no-image.png' class=\"itemThumbnail\">\n",
       "                       </a>\n",
       "                    </div>\n",
       "\n",
       "                    <div class=\"item_right\" style=\"float: none; width: auto; overflow: hidden;\">\n",
       "                        <a href='https://www.arcgis.com/home/group.html?id=b26fbaf90292436db5f40ea29f050000' target='_blank'><b>Access Oakland - 1 Content 2</b>\n",
       "                        </a>\n",
       "                        <br/>\n",
       "                        <br/><b>Summary</b>: Applications, maps, data, etc. shared with this group generates the Access Oakland - 1 content catalog.\n",
       "                        <br/><b>Description</b>: Use this group to organize the items that you want to share as part of your site. Shared items become available in your site's search results and only people who have access to these items will be able to find them. Members of the core team get access to shared items and can update them at any time. Certain cards, like the Gallery card, will automatically populate with shared items so that you don't have to search for them when choosing what you want to display on your site.<br /><br />Contact support with any questions related to this group or content management for your site.<br /><br /><strong>DO NOT DELETE THIS GROUP.</strong>\n",
       "                        <br/><b>Owner</b>: DebusB@oakgov.com_oakgov\n",
       "                        <br/><b>Created</b>: June 01, 2020\n",
       "\n",
       "                    </div>\n",
       "                </div>\n",
       "                "
      ],
      "text/plain": [
       "<Group title:\"Access Oakland - 1 Content 2\" owner:DebusB@oakgov.com_oakgov>"
      ]
     },
     "metadata": {},
     "output_type": "display_data"
    },
    {
     "data": {
      "text/html": [
       "<div class=\"9item_container\" style=\"height: auto; overflow: hidden; border: 1px solid #cfcfcf; border-radius: 2px; background: #f6fafa; line-height: 1.21429em; padding: 10px;\">\n",
       "                    <div class=\"item_left\" style=\"width: 210px; float: left;\">\n",
       "                       <a href='https://www.arcgis.com/home/group.html?id=8161f4f2524448b4a3e87858677c314f' target='_blank'>\n",
       "                        <img src='https://www.arcgis.com/home/images/group-no-image.png' class=\"itemThumbnail\">\n",
       "                       </a>\n",
       "                    </div>\n",
       "\n",
       "                    <div class=\"item_right\" style=\"float: none; width: auto; overflow: hidden;\">\n",
       "                        <a href='https://www.arcgis.com/home/group.html?id=8161f4f2524448b4a3e87858677c314f' target='_blank'><b>Access Oakland - 1 Content 3</b>\n",
       "                        </a>\n",
       "                        <br/>\n",
       "                        <br/><b>Summary</b>: Applications, maps, data, etc. shared with this group generates the Access Oakland - 1 content catalog.\n",
       "                        <br/><b>Description</b>: Use this group to organize the items that you want to share as part of your site. Shared items become available in your site's search results and only people who have access to these items will be able to find them. Members of the core team get access to shared items and can update them at any time. Certain cards, like the Gallery card, will automatically populate with shared items so that you don't have to search for them when choosing what you want to display on your site.<br /><br />Contact support with any questions related to this group or content management for your site.<br /><br /><strong>DO NOT DELETE THIS GROUP.</strong>\n",
       "                        <br/><b>Owner</b>: DebusB@oakgov.com_oakgov\n",
       "                        <br/><b>Created</b>: June 01, 2020\n",
       "\n",
       "                    </div>\n",
       "                </div>\n",
       "                "
      ],
      "text/plain": [
       "<Group title:\"Access Oakland - 1 Content 3\" owner:DebusB@oakgov.com_oakgov>"
      ]
     },
     "metadata": {},
     "output_type": "display_data"
    },
    {
     "data": {
      "text/html": [
       "<div class=\"9item_container\" style=\"height: auto; overflow: hidden; border: 1px solid #cfcfcf; border-radius: 2px; background: #f6fafa; line-height: 1.21429em; padding: 10px;\">\n",
       "                    <div class=\"item_left\" style=\"width: 210px; float: left;\">\n",
       "                       <a href='https://www.arcgis.com/home/group.html?id=9621b514262c4ab691455563b9c15654' target='_blank'>\n",
       "                        <img src='https://www.arcgis.com/home/images/group-no-image.png' class=\"itemThumbnail\">\n",
       "                       </a>\n",
       "                    </div>\n",
       "\n",
       "                    <div class=\"item_right\" style=\"float: none; width: auto; overflow: hidden;\">\n",
       "                        <a href='https://www.arcgis.com/home/group.html?id=9621b514262c4ab691455563b9c15654' target='_blank'><b>Access Oakland - 1 Content 4</b>\n",
       "                        </a>\n",
       "                        <br/>\n",
       "                        <br/><b>Summary</b>: Applications, maps, data, etc. shared with this group generates the Access Oakland - 1 content catalog.\n",
       "                        <br/><b>Description</b>: Use this group to organize the items that you want to share as part of your site. Shared items become available in your site's search results and only people who have access to these items will be able to find them. Members of the core team get access to shared items and can update them at any time. Certain cards, like the Gallery card, will automatically populate with shared items so that you don't have to search for them when choosing what you want to display on your site.<br /><br />Contact support with any questions related to this group or content management for your site.<br /><br /><strong>DO NOT DELETE THIS GROUP.</strong>\n",
       "                        <br/><b>Owner</b>: MooreS@oakgov.com_oakgov\n",
       "                        <br/><b>Created</b>: June 01, 2020\n",
       "\n",
       "                    </div>\n",
       "                </div>\n",
       "                "
      ],
      "text/plain": [
       "<Group title:\"Access Oakland - 1 Content 4\" owner:MooreS@oakgov.com_oakgov>"
      ]
     },
     "metadata": {},
     "output_type": "display_data"
    }
   ],
   "source": [
    "oaklandGroups = gis.groups.search('title:Oakland',max_groups=5)\n",
    "for group in oaklandGroups:\n",
    "    display(group)"
   ]
  },
  {
   "cell_type": "code",
   "execution_count": 145,
   "metadata": {},
   "outputs": [
    {
     "data": {
      "text/html": [
       "<div class=\"9item_container\" style=\"height: auto; overflow: hidden; border: 1px solid #cfcfcf; border-radius: 2px; background: #f6fafa; line-height: 1.21429em; padding: 10px;\">\n",
       "                    <div class=\"item_left\" style=\"width: 210px; float: left;\">\n",
       "                       <a href='https://www.arcgis.com/home/group.html?id=ae0252ba6fd64ab8bb2b8e507d659c51' target='_blank'>\n",
       "                        <img src='https://www.arcgis.com/home/images/group-no-image.png' class=\"itemThumbnail\">\n",
       "                       </a>\n",
       "                    </div>\n",
       "\n",
       "                    <div class=\"item_right\" style=\"float: none; width: auto; overflow: hidden;\">\n",
       "                        <a href='https://www.arcgis.com/home/group.html?id=ae0252ba6fd64ab8bb2b8e507d659c51' target='_blank'><b>Access Oakland - 1 Content</b>\n",
       "                        </a>\n",
       "                        <br/>\n",
       "                        <br/><b>Summary</b>: Applications, maps, data, etc. shared with this group generates the Access Oakland - 1 content catalog.\n",
       "                        <br/><b>Description</b>: Use this group to organize the items that you want to share as part of your site. Shared items become available in your site's search results and only people who have access to these items will be able to find them. Members of the core team get access to shared items and can update them at any time. Certain cards, like the Gallery card, will automatically populate with shared items so that you don't have to search for them when choosing what you want to display on your site.<br /><br />Contact support with any questions related to this group or content management for your site.<br /><br /><strong>DO NOT DELETE THIS GROUP.</strong>\n",
       "                        <br/><b>Owner</b>: DebusB@oakgov.com_oakgov\n",
       "                        <br/><b>Created</b>: June 01, 2020\n",
       "\n",
       "                    </div>\n",
       "                </div>\n",
       "                "
      ],
      "text/plain": [
       "<Group title:\"Access Oakland - 1 Content\" owner:DebusB@oakgov.com_oakgov>"
      ]
     },
     "metadata": {},
     "output_type": "display_data"
    },
    {
     "data": {
      "text/html": [
       "<div class=\"9item_container\" style=\"height: auto; overflow: hidden; border: 1px solid #cfcfcf; border-radius: 2px; background: #f6fafa; line-height: 1.21429em; padding: 10px;\">\n",
       "                    <div class=\"item_left\" style=\"width: 210px; float: left;\">\n",
       "                       <a href='https://www.arcgis.com/home/group.html?id=116f763fed89420f99a39deb69e18844' target='_blank'>\n",
       "                        <img src='https://www.arcgis.com/home/images/group-no-image.png' class=\"itemThumbnail\">\n",
       "                       </a>\n",
       "                    </div>\n",
       "\n",
       "                    <div class=\"item_right\" style=\"float: none; width: auto; overflow: hidden;\">\n",
       "                        <a href='https://www.arcgis.com/home/group.html?id=116f763fed89420f99a39deb69e18844' target='_blank'><b>Access Oakland - 1 Content 1</b>\n",
       "                        </a>\n",
       "                        <br/>\n",
       "                        <br/><b>Summary</b>: Applications, maps, data, etc. shared with this group generates the Access Oakland - 1 content catalog.\n",
       "                        <br/><b>Description</b>: Use this group to organize the items that you want to share as part of your site. Shared items become available in your site's search results and only people who have access to these items will be able to find them. Members of the core team get access to shared items and can update them at any time. Certain cards, like the Gallery card, will automatically populate with shared items so that you don't have to search for them when choosing what you want to display on your site.<br /><br />Contact support with any questions related to this group or content management for your site.<br /><br /><strong>DO NOT DELETE THIS GROUP.</strong>\n",
       "                        <br/><b>Owner</b>: DebusB@oakgov.com_oakgov\n",
       "                        <br/><b>Created</b>: June 01, 2020\n",
       "\n",
       "                    </div>\n",
       "                </div>\n",
       "                "
      ],
      "text/plain": [
       "<Group title:\"Access Oakland - 1 Content 1\" owner:DebusB@oakgov.com_oakgov>"
      ]
     },
     "metadata": {},
     "output_type": "display_data"
    },
    {
     "data": {
      "text/html": [
       "<div class=\"9item_container\" style=\"height: auto; overflow: hidden; border: 1px solid #cfcfcf; border-radius: 2px; background: #f6fafa; line-height: 1.21429em; padding: 10px;\">\n",
       "                    <div class=\"item_left\" style=\"width: 210px; float: left;\">\n",
       "                       <a href='https://www.arcgis.com/home/group.html?id=b26fbaf90292436db5f40ea29f050000' target='_blank'>\n",
       "                        <img src='https://www.arcgis.com/home/images/group-no-image.png' class=\"itemThumbnail\">\n",
       "                       </a>\n",
       "                    </div>\n",
       "\n",
       "                    <div class=\"item_right\" style=\"float: none; width: auto; overflow: hidden;\">\n",
       "                        <a href='https://www.arcgis.com/home/group.html?id=b26fbaf90292436db5f40ea29f050000' target='_blank'><b>Access Oakland - 1 Content 2</b>\n",
       "                        </a>\n",
       "                        <br/>\n",
       "                        <br/><b>Summary</b>: Applications, maps, data, etc. shared with this group generates the Access Oakland - 1 content catalog.\n",
       "                        <br/><b>Description</b>: Use this group to organize the items that you want to share as part of your site. Shared items become available in your site's search results and only people who have access to these items will be able to find them. Members of the core team get access to shared items and can update them at any time. Certain cards, like the Gallery card, will automatically populate with shared items so that you don't have to search for them when choosing what you want to display on your site.<br /><br />Contact support with any questions related to this group or content management for your site.<br /><br /><strong>DO NOT DELETE THIS GROUP.</strong>\n",
       "                        <br/><b>Owner</b>: DebusB@oakgov.com_oakgov\n",
       "                        <br/><b>Created</b>: June 01, 2020\n",
       "\n",
       "                    </div>\n",
       "                </div>\n",
       "                "
      ],
      "text/plain": [
       "<Group title:\"Access Oakland - 1 Content 2\" owner:DebusB@oakgov.com_oakgov>"
      ]
     },
     "metadata": {},
     "output_type": "display_data"
    },
    {
     "data": {
      "text/html": [
       "<div class=\"9item_container\" style=\"height: auto; overflow: hidden; border: 1px solid #cfcfcf; border-radius: 2px; background: #f6fafa; line-height: 1.21429em; padding: 10px;\">\n",
       "                    <div class=\"item_left\" style=\"width: 210px; float: left;\">\n",
       "                       <a href='https://www.arcgis.com/home/group.html?id=8161f4f2524448b4a3e87858677c314f' target='_blank'>\n",
       "                        <img src='https://www.arcgis.com/home/images/group-no-image.png' class=\"itemThumbnail\">\n",
       "                       </a>\n",
       "                    </div>\n",
       "\n",
       "                    <div class=\"item_right\" style=\"float: none; width: auto; overflow: hidden;\">\n",
       "                        <a href='https://www.arcgis.com/home/group.html?id=8161f4f2524448b4a3e87858677c314f' target='_blank'><b>Access Oakland - 1 Content 3</b>\n",
       "                        </a>\n",
       "                        <br/>\n",
       "                        <br/><b>Summary</b>: Applications, maps, data, etc. shared with this group generates the Access Oakland - 1 content catalog.\n",
       "                        <br/><b>Description</b>: Use this group to organize the items that you want to share as part of your site. Shared items become available in your site's search results and only people who have access to these items will be able to find them. Members of the core team get access to shared items and can update them at any time. Certain cards, like the Gallery card, will automatically populate with shared items so that you don't have to search for them when choosing what you want to display on your site.<br /><br />Contact support with any questions related to this group or content management for your site.<br /><br /><strong>DO NOT DELETE THIS GROUP.</strong>\n",
       "                        <br/><b>Owner</b>: DebusB@oakgov.com_oakgov\n",
       "                        <br/><b>Created</b>: June 01, 2020\n",
       "\n",
       "                    </div>\n",
       "                </div>\n",
       "                "
      ],
      "text/plain": [
       "<Group title:\"Access Oakland - 1 Content 3\" owner:DebusB@oakgov.com_oakgov>"
      ]
     },
     "metadata": {},
     "output_type": "display_data"
    },
    {
     "data": {
      "text/html": [
       "<div class=\"9item_container\" style=\"height: auto; overflow: hidden; border: 1px solid #cfcfcf; border-radius: 2px; background: #f6fafa; line-height: 1.21429em; padding: 10px;\">\n",
       "                    <div class=\"item_left\" style=\"width: 210px; float: left;\">\n",
       "                       <a href='https://www.arcgis.com/home/group.html?id=77c04be743904df8872ea5d7a83b80f7' target='_blank'>\n",
       "                        <img src='https://www.arcgis.com/home/images/group-no-image.png' class=\"itemThumbnail\">\n",
       "                       </a>\n",
       "                    </div>\n",
       "\n",
       "                    <div class=\"item_right\" style=\"float: none; width: auto; overflow: hidden;\">\n",
       "                        <a href='https://www.arcgis.com/home/group.html?id=77c04be743904df8872ea5d7a83b80f7' target='_blank'><b>Access Oakland 2 Content</b>\n",
       "                        </a>\n",
       "                        <br/>\n",
       "                        <br/><b>Summary</b>: Applications, maps, data, etc. shared with this group generates the Access Oakland 2 content catalog.\n",
       "                        <br/><b>Description</b>: Use this group to organize the items that you want to share as part of your site. Shared items become available in your site's search results and only people who have access to these items will be able to find them. Members of the core team get access to shared items and can update them at any time. Certain cards, like the Gallery card, will automatically populate with shared items so that you don't have to search for them when choosing what you want to display on your site.<br /><br />Contact support with any questions related to this group or content management for your site.<br /><br /><strong>DO NOT DELETE THIS GROUP.</strong>\n",
       "                        <br/><b>Owner</b>: DebusB@oakgov.com_oakgov\n",
       "                        <br/><b>Created</b>: August 07, 2020\n",
       "\n",
       "                    </div>\n",
       "                </div>\n",
       "                "
      ],
      "text/plain": [
       "<Group title:\"Access Oakland 2 Content\" owner:DebusB@oakgov.com_oakgov>"
      ]
     },
     "metadata": {},
     "output_type": "display_data"
    }
   ],
   "source": [
    "oaklandGroups2 = gis.groups.search('owner:DebusB@oakgov.com_oakgov',max_groups=5)\n",
    "for group in oaklandGroups2:\n",
    "    display(group)"
   ]
  },
  {
   "cell_type": "code",
   "execution_count": 146,
   "metadata": {
    "scrolled": true
   },
   "outputs": [
    {
     "data": {
      "text/html": [
       "<div class=\"9item_container\" style=\"height: auto; overflow: hidden; border: 1px solid #cfcfcf; border-radius: 2px; background: #f6fafa; line-height: 1.21429em; padding: 10px;\">\n",
       "                    <div class=\"item_left\" style=\"width: 210px; float: left;\">\n",
       "                       <a href='https://www.arcgis.com/home/group.html?id=ae0252ba6fd64ab8bb2b8e507d659c51' target='_blank'>\n",
       "                        <img src='https://www.arcgis.com/home/images/group-no-image.png' class=\"itemThumbnail\">\n",
       "                       </a>\n",
       "                    </div>\n",
       "\n",
       "                    <div class=\"item_right\" style=\"float: none; width: auto; overflow: hidden;\">\n",
       "                        <a href='https://www.arcgis.com/home/group.html?id=ae0252ba6fd64ab8bb2b8e507d659c51' target='_blank'><b>Access Oakland - 1 Content</b>\n",
       "                        </a>\n",
       "                        <br/>\n",
       "                        <br/><b>Summary</b>: Applications, maps, data, etc. shared with this group generates the Access Oakland - 1 content catalog.\n",
       "                        <br/><b>Description</b>: Use this group to organize the items that you want to share as part of your site. Shared items become available in your site's search results and only people who have access to these items will be able to find them. Members of the core team get access to shared items and can update them at any time. Certain cards, like the Gallery card, will automatically populate with shared items so that you don't have to search for them when choosing what you want to display on your site.<br /><br />Contact support with any questions related to this group or content management for your site.<br /><br /><strong>DO NOT DELETE THIS GROUP.</strong>\n",
       "                        <br/><b>Owner</b>: DebusB@oakgov.com_oakgov\n",
       "                        <br/><b>Created</b>: June 01, 2020\n",
       "\n",
       "                    </div>\n",
       "                </div>\n",
       "                "
      ],
      "text/plain": [
       "<Group title:\"Access Oakland - 1 Content\" owner:DebusB@oakgov.com_oakgov>"
      ]
     },
     "execution_count": 146,
     "metadata": {},
     "output_type": "execute_result"
    }
   ],
   "source": [
    "oaklandGroup1 = oaklandGroups[0]\n",
    "oaklandGroup1"
   ]
  },
  {
   "cell_type": "code",
   "execution_count": 169,
   "metadata": {},
   "outputs": [
    {
     "data": {
      "text/plain": [
       "'ae0252ba6fd64ab8bb2b8e507d659c51'"
      ]
     },
     "execution_count": 169,
     "metadata": {},
     "output_type": "execute_result"
    }
   ],
   "source": [
    "oaklandGroup1.id"
   ]
  },
  {
   "cell_type": "code",
   "execution_count": 170,
   "metadata": {},
   "outputs": [
    {
     "name": "stdout",
     "output_type": "stream",
     "text": [
      "Group Access is : public\n",
      "Group id is: ae0252ba6fd64ab8bb2b8e507d659c51\n",
      "Group Tags are : Hub Group, Hub Content Group, Hub Site Group\n",
      "Group is Invitation only: False\n"
     ]
    }
   ],
   "source": [
    "print(\"Group Access is : {}\".format(oaklandGroup1.access))\n",
    "print(\"Group id is: {}\".format(oaklandGroup1.id))\n",
    "print(\"Group Tags are : {}\".format(\", \".join(oaklandGroup1.tags)))\n",
    "print(\"Group is Invitation only: {}\".format(oaklandGroup1.isInvitationOnly))"
   ]
  },
  {
   "cell_type": "code",
   "execution_count": 171,
   "metadata": {},
   "outputs": [],
   "source": [
    "gis2 = GIS('home')"
   ]
  },
  {
   "cell_type": "code",
   "execution_count": 177,
   "metadata": {},
   "outputs": [
    {
     "data": {
      "text/html": [
       "<div class=\"9item_container\" style=\"height: auto; overflow: hidden; border: 1px solid #cfcfcf; border-radius: 2px; background: #f6fafa; line-height: 1.21429em; padding: 10px;\">\n",
       "                    <div class=\"item_left\" style=\"width: 210px; float: left;\">\n",
       "                       <a href='https://www.arcgis.com//home/group.html?id=3e8133624b6a41728acf78127e78b3a7' target='_blank'>\n",
       "                        <img src='https://www.arcgis.com//home/images/group-no-image.png' class=\"itemThumbnail\">\n",
       "                       </a>\n",
       "                    </div>\n",
       "\n",
       "                    <div class=\"item_right\" style=\"float: none; width: auto; overflow: hidden;\">\n",
       "                        <a href='https://www.arcgis.com//home/group.html?id=3e8133624b6a41728acf78127e78b3a7' target='_blank'><b>Census Demographic Data</b>\n",
       "                        </a>\n",
       "                        <br/>\n",
       "                        <br/><b>Summary</b>: Census Demographic Data\n",
       "                        <br/><b>Description</b>: None\n",
       "                        <br/><b>Owner</b>: billparkermapping\n",
       "                        <br/><b>Created</b>: August 01, 2021\n",
       "\n",
       "                    </div>\n",
       "                </div>\n",
       "                "
      ],
      "text/plain": [
       "<Group title:\"Census Demographic Data\" owner:billparkermapping>"
      ]
     },
     "metadata": {},
     "output_type": "display_data"
    },
    {
     "data": {
      "text/html": [
       "<div class=\"9item_container\" style=\"height: auto; overflow: hidden; border: 1px solid #cfcfcf; border-radius: 2px; background: #f6fafa; line-height: 1.21429em; padding: 10px;\">\n",
       "                    <div class=\"item_left\" style=\"width: 210px; float: left;\">\n",
       "                       <a href='https://www.arcgis.com//home/group.html?id=84823ba78cdd4511a0175db7fa1700da' target='_blank'>\n",
       "                        <img src='https://www.arcgis.com//home/images/group-no-image.png' class=\"itemThumbnail\">\n",
       "                       </a>\n",
       "                    </div>\n",
       "\n",
       "                    <div class=\"item_right\" style=\"float: none; width: auto; overflow: hidden;\">\n",
       "                        <a href='https://www.arcgis.com//home/group.html?id=84823ba78cdd4511a0175db7fa1700da' target='_blank'><b>City of Oakland Buses And Parks</b>\n",
       "                        </a>\n",
       "                        <br/>\n",
       "                        <br/><b>Summary</b>: AC Transit bus stops and CPAD parks in Oakland\n",
       "                        <br/><b>Description</b>: None\n",
       "                        <br/><b>Owner</b>: billparkermapping\n",
       "                        <br/><b>Created</b>: August 01, 2021\n",
       "\n",
       "                    </div>\n",
       "                </div>\n",
       "                "
      ],
      "text/plain": [
       "<Group title:\"City of Oakland Buses And Parks\" owner:billparkermapping>"
      ]
     },
     "metadata": {},
     "output_type": "display_data"
    }
   ],
   "source": [
    "myGroups = gis2.groups.search(query=\"*\",max_groups=5)\n",
    "for group in myGroups:\n",
    "    display(group)"
   ]
  },
  {
   "cell_type": "code",
   "execution_count": null,
   "metadata": {},
   "outputs": [],
   "source": []
  }
 ],
 "metadata": {
  "kernelspec": {
   "display_name": "ArcGISPro",
   "language": "Python",
   "name": "python3"
  },
  "language_info": {
   "file_extension": ".py",
   "name": "python",
   "version": "3"
  }
 },
 "nbformat": 4,
 "nbformat_minor": 2
}
